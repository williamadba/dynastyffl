{
    "metadata": {
        "kernelspec": {
            "name": "SQL",
            "display_name": "SQL",
            "language": "sql"
        },
        "language_info": {
            "name": "sql",
            "version": ""
        }
    },
    "nbformat_minor": 2,
    "nbformat": 4,
    "cells": [
        {
            "cell_type": "markdown",
            "source": "***\r\n## Current Roster Draft History",
            "metadata": {}
        },
        {
            "cell_type": "code",
            "source": "select draftyear, pick, player, NFLTeam, Position, drafted_owner, current_owner\r\nfrom CurrentRoster \r\nwhere rosteryear = 2018\r\norder by draftyear, draft_round, pick_in_draft_round",
            "metadata": {},
            "outputs": [
                {
                    "output_type": "display_data",
                    "data": {
                        "text/html": "(200 rows affected)"
                    },
                    "metadata": {}
                },
                {
                    "output_type": "display_data",
                    "data": {
                        "text/html": "Total execution time: 00:00:00.325"
                    },
                    "metadata": {}
                },
                {
                    "output_type": "execute_result",
                    "metadata": {},
                    "execution_count": 3,
                    "data": {
                        "application/vnd.dataresource+json": {
                            "schema": {
                                "fields": [
                                    {
                                        "name": "draftyear"
                                    },
                                    {
                                        "name": "pick"
                                    },
                                    {
                                        "name": "player"
                                    },
                                    {
                                        "name": "NFLTeam"
                                    },
                                    {
                                        "name": "Position"
                                    },
                                    {
                                        "name": "drafted_owner"
                                    },
                                    {
                                        "name": "current_owner"
                                    }
                                ]
                            },
                            "data": [
                                {
                                    "0": "2012",
                                    "1": "1-1 ",
                                    "2": "Aaron Rodgers",
                                    "3": "GB ",
                                    "4": "QB   ",
                                    "5": "Cody",
                                    "6": "Jon"
                                },
                                {
                                    "0": "2012",
                                    "1": "1-4 ",
                                    "2": "LeSean McCoy",
                                    "3": "Phi",
                                    "4": "RB   ",
                                    "5": "Christine",
                                    "6": "Christine"
                                },
                                {
                                    "0": "2012",
                                    "1": "1-5 ",
                                    "2": "Drew Brees",
                                    "3": "NO ",
                                    "4": "QB   ",
                                    "5": "Ian",
                                    "6": "Ian"
                                },
                                {
                                    "0": "2012",
                                    "1": "1-6 ",
                                    "2": "Cam Newton",
                                    "3": "Car",
                                    "4": "QB   ",
                                    "5": "Patrick",
                                    "6": "Adrian"
                                },
                                {
                                    "0": "2012",
                                    "1": "1-7 ",
                                    "2": "Matthew Stafford",
                                    "3": "Det",
                                    "4": "QB   ",
                                    "5": "Brian",
                                    "6": "Brian"
                                },
                                {
                                    "0": "2012",
                                    "1": "2-1 ",
                                    "2": "Jimmy Graham",
                                    "3": "NO ",
                                    "4": "TE   ",
                                    "5": "Paul",
                                    "6": "Paul"
                                },
                                {
                                    "0": "2012",
                                    "1": "2-2 ",
                                    "2": "Julio Jones",
                                    "3": "Atl",
                                    "4": "WR   ",
                                    "5": "Brian",
                                    "6": "William"
                                },
                                {
                                    "0": "2012",
                                    "1": "2-5 ",
                                    "2": "Rob Gronkowski",
                                    "3": "NE ",
                                    "4": "TE   ",
                                    "5": "Christine",
                                    "6": "Christine"
                                },
                                {
                                    "0": "2012",
                                    "1": "2-6 ",
                                    "2": "Tom Brady",
                                    "3": "NE ",
                                    "4": "QB   ",
                                    "5": "Todd",
                                    "6": "Jon"
                                },
                                {
                                    "0": "2012",
                                    "1": "3-1 ",
                                    "2": "A.J. Green",
                                    "3": "Cin",
                                    "4": "WR   ",
                                    "5": "Cody",
                                    "6": "Jon"
                                },
                                {
                                    "0": "2012",
                                    "1": "3-2 ",
                                    "2": "Larry Fitzgerald",
                                    "3": "Ari",
                                    "4": "WR   ",
                                    "5": "William",
                                    "6": "William"
                                },
                                {
                                    "0": "2012",
                                    "1": "3-7 ",
                                    "2": "Matt Ryan",
                                    "3": "Atl",
                                    "4": "QB   ",
                                    "5": "Brian",
                                    "6": "William"
                                },
                                {
                                    "0": "2012",
                                    "1": "3-8 ",
                                    "2": "Eli Manning",
                                    "3": "NYG",
                                    "4": "QB   ",
                                    "5": "Paul",
                                    "6": "Paul"
                                },
                                {
                                    "0": "2012",
                                    "1": "4-2 ",
                                    "2": "Antonio Brown",
                                    "3": "Pit",
                                    "4": "WR   ",
                                    "5": "Brian",
                                    "6": "Brian"
                                },
                                {
                                    "0": "2012",
                                    "1": "5-3 ",
                                    "2": "Jordy Nelson",
                                    "3": "GB ",
                                    "4": "WR   ",
                                    "5": "Todd",
                                    "6": "Todd"
                                },
                                {
                                    "0": "2012",
                                    "1": "6-2 ",
                                    "2": "Andrew Luck",
                                    "3": "Ind",
                                    "4": "QB   ",
                                    "5": "Brian",
                                    "6": "Christine"
                                },
                                {
                                    "0": "2012",
                                    "1": "7-4 ",
                                    "2": "Mark Ingram II",
                                    "3": "NO ",
                                    "4": "RB   ",
                                    "5": "Christine",
                                    "6": "Christine"
                                },
                                {
                                    "0": "2012",
                                    "1": "7-8 ",
                                    "2": "Stephen Gostkowski",
                                    "3": "NE ",
                                    "4": "K    ",
                                    "5": "Paul",
                                    "6": "Paul"
                                },
                                {
                                    "0": "2012",
                                    "1": "8-4 ",
                                    "2": "Ben Roethlisberger",
                                    "3": "Pit",
                                    "4": "QB   ",
                                    "5": "Ian",
                                    "6": "Ian"
                                },
                                {
                                    "0": "2012",
                                    "1": "8-5 ",
                                    "2": "Frank Gore",
                                    "3": "SF ",
                                    "4": "RB   ",
                                    "5": "Christine",
                                    "6": "Ian"
                                },
                                {
                                    "0": "2012",
                                    "1": "12-3",
                                    "2": "Greg Olsen",
                                    "3": "Car",
                                    "4": "TE   ",
                                    "5": "Patrick",
                                    "6": "Adrian"
                                },
                                {
                                    "0": "2012",
                                    "1": "13-3",
                                    "2": "Demaryius Thomas",
                                    "3": "Den",
                                    "4": "WR   ",
                                    "5": "Todd",
                                    "6": "Todd"
                                },
                                {
                                    "0": "2012",
                                    "1": "13-8",
                                    "2": "Matt Prater",
                                    "3": "Den",
                                    "4": "K    ",
                                    "5": "Paul",
                                    "6": "Paul"
                                },
                                {
                                    "0": "2012",
                                    "1": "14-4",
                                    "2": "Dan Bailey",
                                    "3": "Dal",
                                    "4": "K    ",
                                    "5": "Ian",
                                    "6": "Ian"
                                },
                                {
                                    "0": "2012",
                                    "1": "15-6",
                                    "2": "DeSean Jackson",
                                    "3": "Phi",
                                    "4": "WR   ",
                                    "5": "Patrick",
                                    "6": "Adrian"
                                },
                                {
                                    "0": "2012",
                                    "1": "17-6",
                                    "2": "Russell Wilson",
                                    "3": "Sea",
                                    "4": "QB   ",
                                    "5": "Patrick",
                                    "6": "Adrian"
                                },
                                {
                                    "0": "2012",
                                    "1": "20-6",
                                    "2": "Randall Cobb",
                                    "3": "GB ",
                                    "4": "WR   ",
                                    "5": "Todd",
                                    "6": "Todd"
                                },
                                {
                                    "0": "2012",
                                    "1": "22-4",
                                    "2": "Mohamed Sanu",
                                    "3": "Cin",
                                    "4": "WR   ",
                                    "5": "Ian",
                                    "6": "Ian"
                                },
                                {
                                    "0": "2012",
                                    "1": "22-7",
                                    "2": "Emmanuel Sanders",
                                    "3": "Pit",
                                    "4": "WR   ",
                                    "5": "William",
                                    "6": "William"
                                },
                                {
                                    "0": "2012",
                                    "1": "24-3",
                                    "2": "Adam Vinatieri",
                                    "3": "Ind",
                                    "4": "K    ",
                                    "5": "Patrick",
                                    "6": "Adrian"
                                },
                                {
                                    "0": "2013",
                                    "1": "2-2 ",
                                    "2": "DeAndre Hopkins",
                                    "3": "Hou",
                                    "4": "WR   ",
                                    "5": "Todd",
                                    "6": "Todd"
                                },
                                {
                                    "0": "2013",
                                    "1": "2-6 ",
                                    "2": "T.Y. Hilton",
                                    "3": "Ind",
                                    "4": "WR   ",
                                    "5": "Brian",
                                    "6": "Christine"
                                },
                                {
                                    "0": "2013",
                                    "1": "2-7 ",
                                    "2": "Golden Tate",
                                    "3": "Det",
                                    "4": "WR   ",
                                    "5": "Paul",
                                    "6": "Paul"
                                },
                                {
                                    "0": "2013",
                                    "1": "4-2 ",
                                    "2": "LeVeon Bell",
                                    "3": "Pit",
                                    "4": "RB   ",
                                    "5": "Todd",
                                    "6": "Todd"
                                },
                                {
                                    "0": "2014",
                                    "1": "1-4 ",
                                    "2": "Alshon Jeffery",
                                    "3": "Chi",
                                    "4": "WR   ",
                                    "5": "Paul",
                                    "6": "Paul"
                                },
                                {
                                    "0": "2014",
                                    "1": "2-1 ",
                                    "2": "Sammy Watkins",
                                    "3": "Buf",
                                    "4": "WR   ",
                                    "5": "Brian",
                                    "6": "Brian"
                                },
                                {
                                    "0": "2014",
                                    "1": "2-4 ",
                                    "2": "Mike Evans",
                                    "3": "TB ",
                                    "4": "WR   ",
                                    "5": "Christine",
                                    "6": "Brian"
                                },
                                {
                                    "0": "2014",
                                    "1": "3-3 ",
                                    "2": "Jordan Reed",
                                    "3": "Wsh",
                                    "4": "TE   ",
                                    "5": "Ian",
                                    "6": "Ian"
                                },
                                {
                                    "0": "2014",
                                    "1": "3-4 ",
                                    "2": "Odell Beckham Jr.",
                                    "3": "NYG",
                                    "4": "WR   ",
                                    "5": "Paul",
                                    "6": "Paul"
                                },
                                {
                                    "0": "2014",
                                    "1": "3-8 ",
                                    "2": "Brandin Cooks",
                                    "3": "NO ",
                                    "4": "WR   ",
                                    "5": "Brian",
                                    "6": "Adrian"
                                },
                                {
                                    "0": "2014",
                                    "1": "4-6 ",
                                    "2": "Michael Crabtree",
                                    "3": "Oak",
                                    "4": "WR   ",
                                    "5": "Ian",
                                    "6": "Ian"
                                },
                                {
                                    "0": "2014",
                                    "1": "6-3 ",
                                    "2": "Mason Crosby",
                                    "3": "GB ",
                                    "4": "K    ",
                                    "5": "Cody",
                                    "6": "Jon"
                                },
                                {
                                    "0": "2014",
                                    "1": "6-4 ",
                                    "2": "Stephen Hauschka",
                                    "3": "Sea",
                                    "4": "K    ",
                                    "5": "Christine",
                                    "6": "Christine"
                                },
                                {
                                    "0": "2014",
                                    "1": "8-3 ",
                                    "2": "Lamar Miller",
                                    "3": "Mia",
                                    "4": "RB   ",
                                    "5": "Cody",
                                    "6": "Jon"
                                },
                                {
                                    "0": "2014",
                                    "1": "8-7 ",
                                    "2": "Jarvis Landry",
                                    "3": "Mia",
                                    "4": "WR   ",
                                    "5": "Todd",
                                    "6": "Todd"
                                },
                                {
                                    "0": "2014",
                                    "1": "9-1 ",
                                    "2": "Teddy Bridgewater",
                                    "3": "Min",
                                    "4": "QB   ",
                                    "5": "William",
                                    "6": "William"
                                },
                                {
                                    "0": "2014",
                                    "1": "9-2 ",
                                    "2": "Derek Carr",
                                    "3": "Oak",
                                    "4": "QB   ",
                                    "5": "Todd",
                                    "6": "Todd"
                                },
                                {
                                    "0": "2014",
                                    "1": "9-6 ",
                                    "2": "Philip Rivers",
                                    "3": "SD ",
                                    "4": "QB   ",
                                    "5": "Cody",
                                    "6": "Jon"
                                },
                                {
                                    "0": "2015",
                                    "1": "1-2 ",
                                    "2": "Melvin Gordon",
                                    "3": "SD ",
                                    "4": "RB   ",
                                    "5": "William",
                                    "6": "Brian"
                                },
                                {
                                    "0": "2015",
                                    "1": "1-4 ",
                                    "2": "Travis Kelce",
                                    "3": "KC ",
                                    "4": "TE   ",
                                    "5": "Adrian",
                                    "6": "Adrian"
                                },
                                {
                                    "0": "2015",
                                    "1": "1-5 ",
                                    "2": "Todd Gurley II",
                                    "3": "StL",
                                    "4": "RB   ",
                                    "5": "Christine",
                                    "6": "Christine"
                                },
                                {
                                    "0": "2015",
                                    "1": "1-6 ",
                                    "2": "Amari Cooper",
                                    "3": "Oak",
                                    "4": "WR   ",
                                    "5": "Todd",
                                    "6": "Todd"
                                },
                                {
                                    "0": "2015",
                                    "1": "1-7 ",
                                    "2": "Marcus Mariota",
                                    "3": "Ten",
                                    "4": "QB   ",
                                    "5": "Brian",
                                    "6": "Brian"
                                },
                                {
                                    "0": "2015",
                                    "1": "2-2 ",
                                    "2": "Jameis Winston",
                                    "3": "TB ",
                                    "4": "QB   ",
                                    "5": "Brian",
                                    "6": "Brian"
                                },
                                {
                                    "0": "2015",
                                    "1": "2-3 ",
                                    "2": "Jimmy Garoppolo",
                                    "3": "NE ",
                                    "4": "QB   ",
                                    "5": "Todd",
                                    "6": "Todd"
                                },
                                {
                                    "0": "2015",
                                    "1": "2-7 ",
                                    "2": "C.J. Anderson",
                                    "3": "Den",
                                    "4": "RB   ",
                                    "5": "William",
                                    "6": "William"
                                },
                                {
                                    "0": "2015",
                                    "1": "5-5 ",
                                    "2": "Allen Robinson",
                                    "3": "Jax",
                                    "4": "WR   ",
                                    "5": "Christine",
                                    "6": "Brian"
                                },
                                {
                                    "0": "2015",
                                    "1": "5-6 ",
                                    "2": "Tevin Coleman",
                                    "3": "Atl",
                                    "4": "RB   ",
                                    "5": "Todd",
                                    "6": "Todd"
                                },
                                {
                                    "0": "2015",
                                    "1": "7-7 ",
                                    "2": "Delanie Walker",
                                    "3": "Ten",
                                    "4": "TE   ",
                                    "5": "Brian",
                                    "6": "Brian"
                                },
                                {
                                    "0": "2015",
                                    "1": "8-8 ",
                                    "2": "David Johnson",
                                    "3": "Ari",
                                    "4": "RB   ",
                                    "5": "Ian",
                                    "6": "Ian"
                                },
                                {
                                    "0": "2015",
                                    "1": "9-1 ",
                                    "2": "Dustin Hopkins",
                                    "3": "Wsh",
                                    "4": "K    ",
                                    "5": "Ian",
                                    "6": "Ian"
                                },
                                {
                                    "0": "2015",
                                    "1": "9-4 ",
                                    "2": "Tyrod Taylor",
                                    "3": "Buf",
                                    "4": "QB   ",
                                    "5": "Adrian",
                                    "6": "Adrian"
                                },
                                {
                                    "0": "2015",
                                    "1": "9-8 ",
                                    "2": "Kyle Rudolph",
                                    "3": "Min",
                                    "4": "TE   ",
                                    "5": "Paul",
                                    "6": "Paul"
                                },
                                {
                                    "0": "2015",
                                    "1": "10-1",
                                    "2": "Doug Baldwin",
                                    "3": "Sea",
                                    "4": "WR   ",
                                    "5": "Jon",
                                    "6": "Jon"
                                },
                                {
                                    "0": "2015",
                                    "1": "10-3",
                                    "2": "Keenan Allen",
                                    "3": "SD ",
                                    "4": "WR   ",
                                    "5": "Jon",
                                    "6": "Jon"
                                },
                                {
                                    "0": "2016",
                                    "1": "1-1 ",
                                    "2": "Ezekiel Elliott",
                                    "3": "Dal",
                                    "4": "RB   ",
                                    "5": "Adrian",
                                    "6": "Adrian"
                                },
                                {
                                    "0": "2016",
                                    "1": "1-3 ",
                                    "2": "Derrick Henry",
                                    "3": "Ten",
                                    "4": "RB   ",
                                    "5": "William",
                                    "6": "William"
                                },
                                {
                                    "0": "2016",
                                    "1": "1-5 ",
                                    "2": "Devonta Freeman",
                                    "3": "Atl",
                                    "4": "RB   ",
                                    "5": "Todd",
                                    "6": "Todd"
                                },
                                {
                                    "0": "2016",
                                    "1": "1-7 ",
                                    "2": "Jordan Howard",
                                    "3": "Chi",
                                    "4": "RB   ",
                                    "5": "Paul",
                                    "6": "Paul"
                                },
                                {
                                    "0": "2016",
                                    "1": "2-1 ",
                                    "2": "Michael Thomas",
                                    "3": "NO ",
                                    "4": "WR   ",
                                    "5": "Adrian",
                                    "6": "Brian"
                                },
                                {
                                    "0": "2016",
                                    "1": "2-5 ",
                                    "2": "Sterling Shepard",
                                    "3": "NYG",
                                    "4": "WR   ",
                                    "5": "Todd",
                                    "6": "Jon"
                                },
                                {
                                    "0": "2016",
                                    "1": "2-7 ",
                                    "2": "Laquon Treadwell",
                                    "3": "Min",
                                    "4": "WR   ",
                                    "5": "Paul",
                                    "6": "Paul"
                                },
                                {
                                    "0": "2016",
                                    "1": "3-3 ",
                                    "2": "Zach Ertz",
                                    "3": "Phi",
                                    "4": "TE   ",
                                    "5": "William",
                                    "6": "William"
                                },
                                {
                                    "0": "2016",
                                    "1": "3-8 ",
                                    "2": "Stefon Diggs",
                                    "3": "Min",
                                    "4": "WR   ",
                                    "5": "Christine",
                                    "6": "Christine"
                                },
                                {
                                    "0": "2016",
                                    "1": "4-4 ",
                                    "2": "Chris Hogan",
                                    "3": "NE ",
                                    "4": "WR   ",
                                    "5": "Ian",
                                    "6": "William"
                                },
                                {
                                    "0": "2016",
                                    "1": "4-5 ",
                                    "2": "Justin Tucker",
                                    "3": "Bal",
                                    "4": "K    ",
                                    "5": "Todd",
                                    "6": "Todd"
                                },
                                {
                                    "0": "2016",
                                    "1": "4-6 ",
                                    "2": "Carson Wentz",
                                    "3": "Phi",
                                    "4": "QB   ",
                                    "5": "Brian",
                                    "6": "Brian"
                                },
                                {
                                    "0": "2016",
                                    "1": "4-7 ",
                                    "2": "Travis Benjamin",
                                    "3": "SD ",
                                    "4": "WR   ",
                                    "5": "Paul",
                                    "6": "Paul"
                                },
                                {
                                    "0": "2016",
                                    "1": "4-8 ",
                                    "2": "Paxton Lynch",
                                    "3": "Den",
                                    "4": "QB   ",
                                    "5": "Christine",
                                    "6": "Christine"
                                },
                                {
                                    "0": "2016",
                                    "1": "5-3 ",
                                    "2": "Dak Prescott",
                                    "3": "Dal",
                                    "4": "QB   ",
                                    "5": "William",
                                    "6": "Ian"
                                },
                                {
                                    "0": "2016",
                                    "1": "5-6 ",
                                    "2": "Eric Ebron",
                                    "3": "Det",
                                    "4": "TE   ",
                                    "5": "Brian",
                                    "6": "Adrian"
                                },
                                {
                                    "0": "2016",
                                    "1": "5-8 ",
                                    "2": "Jay Ajayi",
                                    "3": "Mia",
                                    "4": "RB   ",
                                    "5": "Christine",
                                    "6": "Christine"
                                },
                                {
                                    "0": "2016",
                                    "1": "6-2 ",
                                    "2": "Graham Gano",
                                    "3": "Car",
                                    "4": "K    ",
                                    "5": "Adrian",
                                    "6": "Adrian"
                                },
                                {
                                    "0": "2016",
                                    "1": "7-2 ",
                                    "2": "Marvin Jones Jr.",
                                    "3": "Det",
                                    "4": "WR   ",
                                    "5": "Jon",
                                    "6": "Jon"
                                },
                                {
                                    "0": "2016",
                                    "1": "7-5 ",
                                    "2": "Kirk Cousins",
                                    "3": "Wsh",
                                    "4": "QB   ",
                                    "5": "Todd",
                                    "6": "Todd"
                                },
                                {
                                    "0": "2016",
                                    "1": "8-1 ",
                                    "2": "Duke Johnson Jr.",
                                    "3": "Cle",
                                    "4": "RB   ",
                                    "5": "Adrian",
                                    "6": "Brian"
                                },
                                {
                                    "0": "2016",
                                    "1": "8-2 ",
                                    "2": "Isaiah Crowell",
                                    "3": "Cle",
                                    "4": "RB   ",
                                    "5": "Jon",
                                    "6": "Jon"
                                },
                                {
                                    "0": "2016",
                                    "1": "9-3 ",
                                    "2": "Austin Hooper",
                                    "3": "Atl",
                                    "4": "TE   ",
                                    "5": "William",
                                    "6": "William"
                                },
                                {
                                    "0": "2017",
                                    "1": "1-1 ",
                                    "2": "Christian McCaffrey",
                                    "3": "Car",
                                    "4": "RB   ",
                                    "5": "Adrian",
                                    "6": "Adrian"
                                },
                                {
                                    "0": "2017",
                                    "1": "1-2 ",
                                    "2": "Dalvin Cook",
                                    "3": "Min",
                                    "4": "RB   ",
                                    "5": "Paul",
                                    "6": "Paul"
                                },
                                {
                                    "0": "2017",
                                    "1": "1-3 ",
                                    "2": "Leonard Fournette",
                                    "3": "Jax",
                                    "4": "RB   ",
                                    "5": "Christine",
                                    "6": "Christine"
                                },
                                {
                                    "0": "2017",
                                    "1": "1-4 ",
                                    "2": "Joe Mixon",
                                    "3": "Cin",
                                    "4": "RB   ",
                                    "5": "Todd",
                                    "6": "Todd"
                                },
                                {
                                    "0": "2017",
                                    "1": "1-5 ",
                                    "2": "Kareem Hunt",
                                    "3": "KC ",
                                    "4": "RB   ",
                                    "5": "William",
                                    "6": "William"
                                },
                                {
                                    "0": "2017",
                                    "1": "1-6 ",
                                    "2": "Corey Davis",
                                    "3": "Ten",
                                    "4": "WR   ",
                                    "5": "Todd",
                                    "6": "Todd"
                                },
                                {
                                    "0": "2017",
                                    "1": "1-7 ",
                                    "2": "Davante Adams",
                                    "3": "GB ",
                                    "4": "WR   ",
                                    "5": "Adrian",
                                    "6": "Adrian"
                                },
                                {
                                    "0": "2017",
                                    "1": "1-8 ",
                                    "2": "Ty Montgomery",
                                    "3": "GB ",
                                    "4": "RB   ",
                                    "5": "Ian",
                                    "6": "Ian"
                                },
                                {
                                    "0": "2017",
                                    "1": "2-1 ",
                                    "2": "Marshawn Lynch",
                                    "3": "Oak",
                                    "4": "RB   ",
                                    "5": "William",
                                    "6": "William"
                                },
                                {
                                    "0": "2017",
                                    "1": "2-2 ",
                                    "2": "Deshaun Watson",
                                    "3": "Hou",
                                    "4": "QB   ",
                                    "5": "Paul",
                                    "6": "Paul"
                                },
                                {
                                    "0": "2017",
                                    "1": "2-4 ",
                                    "2": "David Njoku",
                                    "3": "Cle",
                                    "4": "TE   ",
                                    "5": "Todd",
                                    "6": "Todd"
                                },
                                {
                                    "0": "2017",
                                    "1": "2-5 ",
                                    "2": "Martavis Bryant",
                                    "3": "Pit",
                                    "4": "WR   ",
                                    "5": "William",
                                    "6": "William"
                                },
                                {
                                    "0": "2017",
                                    "1": "2-6 ",
                                    "2": "Evan Engram",
                                    "3": "NYG",
                                    "4": "TE   ",
                                    "5": "Jon",
                                    "6": "Jon"
                                },
                                {
                                    "0": "2017",
                                    "1": "2-7 ",
                                    "2": "John Ross",
                                    "3": "Cin",
                                    "4": "WR   ",
                                    "5": "Adrian",
                                    "6": "Adrian"
                                },
                                {
                                    "0": "2017",
                                    "1": "3-1 ",
                                    "2": "Hunter Henry",
                                    "3": "LAC",
                                    "4": "TE   ",
                                    "5": "Brian",
                                    "6": "Brian"
                                },
                                {
                                    "0": "2017",
                                    "1": "3-2 ",
                                    "2": "Tyreek Hill",
                                    "3": "KC ",
                                    "4": "WR   ",
                                    "5": "Paul",
                                    "6": "Paul"
                                },
                                {
                                    "0": "2017",
                                    "1": "3-3 ",
                                    "2": "Jack Doyle",
                                    "3": "Ind",
                                    "4": "TE   ",
                                    "5": "Christine",
                                    "6": "Christine"
                                },
                                {
                                    "0": "2017",
                                    "1": "3-6 ",
                                    "2": "Alvin Kamara",
                                    "3": "NO ",
                                    "4": "RB   ",
                                    "5": "Jon",
                                    "6": "Jon"
                                },
                                {
                                    "0": "2017",
                                    "1": "3-8 ",
                                    "2": "O.J. Howard",
                                    "3": "TB ",
                                    "4": "TE   ",
                                    "5": "Ian",
                                    "6": "Ian"
                                },
                                {
                                    "0": "2017",
                                    "1": "4-1 ",
                                    "2": "Patrick Mahomes",
                                    "3": "KC ",
                                    "4": "QB   ",
                                    "5": "Brian",
                                    "6": "Brian"
                                },
                                {
                                    "0": "2017",
                                    "1": "4-3 ",
                                    "2": "Tyrell Williams",
                                    "3": "LAC",
                                    "4": "WR   ",
                                    "5": "Christine",
                                    "6": "Christine"
                                },
                                {
                                    "0": "2017",
                                    "1": "4-4 ",
                                    "2": "Mitchell Trubisky",
                                    "3": "Chi",
                                    "4": "QB   ",
                                    "5": "Todd",
                                    "6": "Todd"
                                },
                                {
                                    "0": "2017",
                                    "1": "4-5 ",
                                    "2": "Matt Bryant",
                                    "3": "Atl",
                                    "4": "K    ",
                                    "5": "William",
                                    "6": "William"
                                },
                                {
                                    "0": "2017",
                                    "1": "4-8 ",
                                    "2": "LeGarrette Blount",
                                    "3": "Phi",
                                    "4": "RB   ",
                                    "5": "Ian",
                                    "6": "Ian"
                                },
                                {
                                    "0": "2017",
                                    "1": "5-2 ",
                                    "2": "Cameron Meredith",
                                    "3": "Chi",
                                    "4": "WR   ",
                                    "5": "Paul",
                                    "6": "Paul"
                                },
                                {
                                    "0": "2017",
                                    "1": "5-8 ",
                                    "2": "Harrison Butker",
                                    "3": "Car",
                                    "4": "K    ",
                                    "5": "Ian",
                                    "6": "William"
                                },
                                {
                                    "0": "2017",
                                    "1": "6-1 ",
                                    "2": "Wil Lutz",
                                    "3": "NO ",
                                    "4": "K    ",
                                    "5": "Todd",
                                    "6": "Jon"
                                },
                                {
                                    "0": "2017",
                                    "1": "6-2 ",
                                    "2": "Taywan Taylor",
                                    "3": "Ten",
                                    "4": "WR   ",
                                    "5": "Brian",
                                    "6": "Brian"
                                },
                                {
                                    "0": "2017",
                                    "1": "6-4 ",
                                    "2": "Blair Walsh",
                                    "3": "Sea",
                                    "4": "K    ",
                                    "5": "Christine",
                                    "6": "Christine"
                                },
                                {
                                    "0": "2017",
                                    "1": "6-6 ",
                                    "2": "Rex Burkhead",
                                    "3": "NE ",
                                    "4": "RB   ",
                                    "5": "Jon",
                                    "6": "Jon"
                                },
                                {
                                    "0": "2017",
                                    "1": "6-8 ",
                                    "2": "Blake Bortles",
                                    "3": "Jax",
                                    "4": "QB   ",
                                    "5": "Ian",
                                    "6": "Christine"
                                },
                                {
                                    "0": "2017",
                                    "1": "7-4 ",
                                    "2": "James Conner",
                                    "3": "Pit",
                                    "4": "RB   ",
                                    "5": "Todd",
                                    "6": "Todd"
                                },
                                {
                                    "0": "2017",
                                    "1": "7-5 ",
                                    "2": "Jared Goff",
                                    "3": "LAR",
                                    "4": "QB   ",
                                    "5": "William",
                                    "6": "William"
                                },
                                {
                                    "0": "2017",
                                    "1": "8-1 ",
                                    "2": "Jamaal Williams",
                                    "3": "GB ",
                                    "4": "RB   ",
                                    "5": "Brian",
                                    "6": "Brian"
                                },
                                {
                                    "0": "2017",
                                    "1": "8-2 ",
                                    "2": "Tarik Cohen",
                                    "3": "Chi",
                                    "4": "RB   ",
                                    "5": "Paul",
                                    "6": "Paul"
                                },
                                {
                                    "0": "2017",
                                    "1": "8-3 ",
                                    "2": "Allen Hurns",
                                    "3": "Jax",
                                    "4": "WR   ",
                                    "5": "Christine",
                                    "6": "Christine"
                                },
                                {
                                    "0": "2017",
                                    "1": "9-6 ",
                                    "2": "Kenny Golladay",
                                    "3": "Det",
                                    "4": "WR   ",
                                    "5": "Jon",
                                    "6": "Jon"
                                },
                                {
                                    "0": "2017",
                                    "1": "9-7 ",
                                    "2": "Latavius Murray",
                                    "3": "Min",
                                    "4": "RB   ",
                                    "5": "Adrian",
                                    "6": "Adrian"
                                },
                                {
                                    "0": "2017",
                                    "1": "9-8 ",
                                    "2": "Marqise Lee",
                                    "3": "Jax",
                                    "4": "WR   ",
                                    "5": "Ian",
                                    "6": "Ian"
                                },
                                {
                                    "0": "2017",
                                    "1": "10-1",
                                    "2": "Pierre Garcon",
                                    "3": "SF ",
                                    "4": "WR   ",
                                    "5": "Adrian",
                                    "6": "Adrian"
                                },
                                {
                                    "0": "2018",
                                    "1": "1-1 ",
                                    "2": "Saquon Barkley",
                                    "3": "NYG",
                                    "4": "RB   ",
                                    "5": "Ian",
                                    "6": "Ian"
                                },
                                {
                                    "0": "2018",
                                    "1": "1-2 ",
                                    "2": "JuJu Smith-Schuster",
                                    "3": "Pit",
                                    "4": "WR   ",
                                    "5": "Jon",
                                    "6": "Jon"
                                },
                                {
                                    "0": "2018",
                                    "1": "1-3 ",
                                    "2": "Royce Freeman",
                                    "3": "Den",
                                    "4": "RB   ",
                                    "5": "William",
                                    "6": "William"
                                },
                                {
                                    "0": "2018",
                                    "1": "1-4 ",
                                    "2": "Adam Thielen",
                                    "3": "Min",
                                    "4": "WR   ",
                                    "5": "Brian",
                                    "6": "Brian"
                                },
                                {
                                    "0": "2018",
                                    "1": "1-5 ",
                                    "2": "Rashaad Penny",
                                    "3": "Sea",
                                    "4": "RB   ",
                                    "5": "Paul",
                                    "6": "Paul"
                                },
                                {
                                    "0": "2018",
                                    "1": "1-6 ",
                                    "2": "Marquise Goodwin",
                                    "3": "SF ",
                                    "4": "WR   ",
                                    "5": "Adrian",
                                    "6": "Adrian"
                                },
                                {
                                    "0": "2018",
                                    "1": "1-7 ",
                                    "2": "Derrius Guice",
                                    "3": "Was",
                                    "4": "RB   ",
                                    "5": "Todd",
                                    "6": "Todd"
                                },
                                {
                                    "0": "2018",
                                    "1": "1-8 ",
                                    "2": "Sony Michel",
                                    "3": "NE ",
                                    "4": "RB   ",
                                    "5": "Christine",
                                    "6": "Christine"
                                },
                                {
                                    "0": "2018",
                                    "1": "2-1 ",
                                    "2": "Michael Gallup",
                                    "3": "Dal",
                                    "4": "WR   ",
                                    "5": "Ian",
                                    "6": "Ian"
                                },
                                {
                                    "0": "2018",
                                    "1": "2-2 ",
                                    "2": "Baker Mayfield",
                                    "3": "Cle",
                                    "4": "QB   ",
                                    "5": "Todd",
                                    "6": "Todd"
                                },
                                {
                                    "0": "2018",
                                    "1": "2-3 ",
                                    "2": "Alex Collins",
                                    "3": "Bal",
                                    "4": "RB   ",
                                    "5": "William",
                                    "6": "William"
                                },
                                {
                                    "0": "2018",
                                    "1": "2-4 ",
                                    "2": "DJ Moore",
                                    "3": "Car",
                                    "4": "WR   ",
                                    "5": "Brian",
                                    "6": "Brian"
                                },
                                {
                                    "0": "2018",
                                    "1": "2-5 ",
                                    "2": "Kerryon Johnson",
                                    "3": "Det",
                                    "4": "RB   ",
                                    "5": "Paul",
                                    "6": "Paul"
                                },
                                {
                                    "0": "2018",
                                    "1": "2-6 ",
                                    "2": "Robert Woods",
                                    "3": "LAR",
                                    "4": "WR   ",
                                    "5": "Adrian",
                                    "6": "Adrian"
                                },
                                {
                                    "0": "2018",
                                    "1": "2-7 ",
                                    "2": "Courtland Sutton",
                                    "3": "Den",
                                    "4": "WR   ",
                                    "5": "Todd",
                                    "6": "Todd"
                                },
                                {
                                    "0": "2018",
                                    "1": "2-8 ",
                                    "2": "Lamar Jackson",
                                    "3": "Bal",
                                    "4": "QB   ",
                                    "5": "Christine",
                                    "6": "Christine"
                                },
                                {
                                    "0": "2018",
                                    "1": "3-1 ",
                                    "2": "Josh Allen",
                                    "3": "Buf",
                                    "4": "QB   ",
                                    "5": "Ian",
                                    "6": "Ian"
                                },
                                {
                                    "0": "2018",
                                    "1": "3-2 ",
                                    "2": "Chris Carson",
                                    "3": "Sea",
                                    "4": "RB   ",
                                    "5": "Jon",
                                    "6": "Jon"
                                },
                                {
                                    "0": "2018",
                                    "1": "3-3 ",
                                    "2": "Jaylen Samuels",
                                    "3": "Pit",
                                    "4": "RB   ",
                                    "5": "William",
                                    "6": "William"
                                },
                                {
                                    "0": "2018",
                                    "1": "3-4 ",
                                    "2": "Trey Burton",
                                    "3": "Chi",
                                    "4": "TE   ",
                                    "5": "Brian",
                                    "6": "Brian"
                                },
                                {
                                    "0": "2018",
                                    "1": "3-5 ",
                                    "2": "Alex Smith",
                                    "3": "Wsh",
                                    "4": "QB   ",
                                    "5": "Paul",
                                    "6": "Paul"
                                },
                                {
                                    "0": "2018",
                                    "1": "3-6 ",
                                    "2": "Peyton Barber",
                                    "3": "TB ",
                                    "4": "RB   ",
                                    "5": "Adrian",
                                    "6": "Adrian"
                                },
                                {
                                    "0": "2018",
                                    "1": "3-7 ",
                                    "2": "Nick Chubb",
                                    "3": "Cle",
                                    "4": "RB   ",
                                    "5": "Todd",
                                    "6": "Todd"
                                },
                                {
                                    "0": "2018",
                                    "1": "3-8 ",
                                    "2": "Tre'Quan Smith",
                                    "3": "NO ",
                                    "4": "WR   ",
                                    "5": "William",
                                    "6": "William"
                                },
                                {
                                    "0": "2018",
                                    "1": "4-1 ",
                                    "2": "Josh Gordon",
                                    "3": "Cle",
                                    "4": "WR   ",
                                    "5": "Ian",
                                    "6": "Ian"
                                },
                                {
                                    "0": "2018",
                                    "1": "4-2 ",
                                    "2": "Josh Rosen",
                                    "3": "Ari",
                                    "4": "QB   ",
                                    "5": "Jon",
                                    "6": "Jon"
                                },
                                {
                                    "0": "2018",
                                    "1": "4-3 ",
                                    "2": "Cooper Kupp",
                                    "3": "LAR",
                                    "4": "WR   ",
                                    "5": "William",
                                    "6": "William"
                                },
                                {
                                    "0": "2018",
                                    "1": "4-4 ",
                                    "2": "Kenyan Drake",
                                    "3": "Mia",
                                    "4": "RB   ",
                                    "5": "Brian",
                                    "6": "Brian"
                                },
                                {
                                    "0": "2018",
                                    "1": "4-5 ",
                                    "2": "Will Fuller V",
                                    "3": "Hou",
                                    "4": "WR   ",
                                    "5": "Paul",
                                    "6": "Paul"
                                },
                                {
                                    "0": "2018",
                                    "1": "4-6 ",
                                    "2": "Sam Darnold",
                                    "3": "NYJ",
                                    "4": "QB   ",
                                    "5": "Adrian",
                                    "6": "Adrian"
                                },
                                {
                                    "0": "2018",
                                    "1": "4-7 ",
                                    "2": "Ricky Seals-Jones",
                                    "3": "Ari",
                                    "4": "TE   ",
                                    "5": "Jon",
                                    "6": "Jon"
                                },
                                {
                                    "0": "2018",
                                    "1": "4-8 ",
                                    "2": "Mike Gesicki",
                                    "3": "Mia",
                                    "4": "TE   ",
                                    "5": "Christine",
                                    "6": "Christine"
                                },
                                {
                                    "0": "2018",
                                    "1": "5-1 ",
                                    "2": "Devin Funchess",
                                    "3": "Car",
                                    "4": "WR   ",
                                    "5": "Ian",
                                    "6": "Ian"
                                },
                                {
                                    "0": "2018",
                                    "1": "5-2 ",
                                    "2": "Carlos Hyde",
                                    "3": "Cle",
                                    "4": "RB   ",
                                    "5": "Jon",
                                    "6": "Jon"
                                },
                                {
                                    "0": "2018",
                                    "1": "5-3 ",
                                    "2": "Hayden Hurst",
                                    "3": "Bal",
                                    "4": "TE   ",
                                    "5": "Ian",
                                    "6": "Ian"
                                },
                                {
                                    "0": "2018",
                                    "1": "5-4 ",
                                    "2": "Dion Lewis",
                                    "3": "Ten",
                                    "4": "RB   ",
                                    "5": "Brian",
                                    "6": "Brian"
                                },
                                {
                                    "0": "2018",
                                    "1": "5-5 ",
                                    "2": "Matt Breida",
                                    "3": "SF ",
                                    "4": "RB   ",
                                    "5": "Paul",
                                    "6": "Paul"
                                },
                                {
                                    "0": "2018",
                                    "1": "5-6 ",
                                    "2": "Cameron Brate",
                                    "3": "TB ",
                                    "4": "TE   ",
                                    "5": "Adrian",
                                    "6": "Adrian"
                                },
                                {
                                    "0": "2018",
                                    "1": "5-7 ",
                                    "2": "Dallas Goedert",
                                    "3": "Phi",
                                    "4": "TE   ",
                                    "5": "Todd",
                                    "6": "Todd"
                                },
                                {
                                    "0": "2018",
                                    "1": "5-8 ",
                                    "2": "Ronald Jones",
                                    "3": "TB ",
                                    "4": "RB   ",
                                    "5": "Christine",
                                    "6": "Christine"
                                },
                                {
                                    "0": "2018",
                                    "1": "6-1 ",
                                    "2": "Mike Williams",
                                    "3": "LAC",
                                    "4": "WR   ",
                                    "5": "Jon",
                                    "6": "Jon"
                                },
                                {
                                    "0": "2018",
                                    "1": "6-2 ",
                                    "2": "Jonnu Smith",
                                    "3": "Ten",
                                    "4": "TE   ",
                                    "5": "Ian",
                                    "6": "Ian"
                                },
                                {
                                    "0": "2018",
                                    "1": "6-3 ",
                                    "2": "Cordarrelle Patterson",
                                    "3": "NE ",
                                    "4": "WR   ",
                                    "5": "Ian",
                                    "6": "Ian"
                                },
                                {
                                    "0": "2018",
                                    "1": "6-4 ",
                                    "2": "Andy Dalton",
                                    "3": "Cin",
                                    "4": "QB   ",
                                    "5": "Brian",
                                    "6": "Brian"
                                },
                                {
                                    "0": "2018",
                                    "1": "6-5 ",
                                    "2": "James Washington",
                                    "3": "Pit",
                                    "4": "WR   ",
                                    "5": "Paul",
                                    "6": "Paul"
                                },
                                {
                                    "0": "2018",
                                    "1": "6-6 ",
                                    "2": "Calvin Ridley",
                                    "3": "Atl",
                                    "4": "WR   ",
                                    "5": "Adrian",
                                    "6": "Adrian"
                                },
                                {
                                    "0": "2018",
                                    "1": "6-7 ",
                                    "2": "Greg Zuerlein",
                                    "3": "LAR",
                                    "4": "K    ",
                                    "5": "Todd",
                                    "6": "Todd"
                                },
                                {
                                    "0": "2018",
                                    "1": "6-8 ",
                                    "2": "Anthony Miller",
                                    "3": "Chi",
                                    "4": "WR   ",
                                    "5": "Christine",
                                    "6": "Christine"
                                },
                                {
                                    "0": "2018",
                                    "1": "7-1 ",
                                    "2": "Brett Maher",
                                    "3": "Dal",
                                    "4": "K    ",
                                    "5": "Ian",
                                    "6": "Ian"
                                },
                                {
                                    "0": "2018",
                                    "1": "7-2 ",
                                    "2": "Benjamin Watson",
                                    "3": "NO ",
                                    "4": "TE   ",
                                    "5": "Jon",
                                    "6": "Jon"
                                },
                                {
                                    "0": "2018",
                                    "1": "7-3 ",
                                    "2": "Mason Rudolph",
                                    "3": "Pit",
                                    "4": "QB   ",
                                    "5": "William",
                                    "6": "William"
                                },
                                {
                                    "0": "2018",
                                    "1": "7-4 ",
                                    "2": "Chris Boswell",
                                    "3": "Pit",
                                    "4": "K    ",
                                    "5": "Brian",
                                    "6": "Brian"
                                },
                                {
                                    "0": "2018",
                                    "1": "7-5 ",
                                    "2": "George Kittle",
                                    "3": "SF ",
                                    "4": "TE   ",
                                    "5": "Paul",
                                    "6": "Paul"
                                },
                                {
                                    "0": "2018",
                                    "1": "7-6 ",
                                    "2": "Robbie Gould",
                                    "3": "SF ",
                                    "4": "K    ",
                                    "5": "Adrian",
                                    "6": "Adrian"
                                },
                                {
                                    "0": "2018",
                                    "1": "7-7 ",
                                    "2": "Case Keenum",
                                    "3": "Den",
                                    "4": "QB   ",
                                    "5": "William",
                                    "6": "William"
                                },
                                {
                                    "0": "2018",
                                    "1": "7-8 ",
                                    "2": "Christian Kirk",
                                    "3": "Ari",
                                    "4": "WR   ",
                                    "5": "Christine",
                                    "6": "Christine"
                                },
                                {
                                    "0": "2018",
                                    "1": "8-1 ",
                                    "2": "Marquez Valdes-Scantling",
                                    "3": "GB ",
                                    "4": "WR   ",
                                    "5": "Ian",
                                    "6": "Ian"
                                },
                                {
                                    "0": "2018",
                                    "1": "8-2 ",
                                    "2": "Jake Elliott",
                                    "3": "Phi",
                                    "4": "K    ",
                                    "5": "Jon",
                                    "6": "Jon"
                                },
                                {
                                    "0": "2018",
                                    "1": "8-3 ",
                                    "2": "Josh Lambo",
                                    "3": "Jax",
                                    "4": "K    ",
                                    "5": "William",
                                    "6": "William"
                                },
                                {
                                    "0": "2018",
                                    "1": "8-4 ",
                                    "2": "Tyler Eifert",
                                    "3": "Cin",
                                    "4": "TE   ",
                                    "5": "Brian",
                                    "6": "Brian"
                                },
                                {
                                    "0": "2018",
                                    "1": "8-5 ",
                                    "2": "Nick Folk",
                                    "3": "TB ",
                                    "4": "K    ",
                                    "5": "Paul",
                                    "6": "Paul"
                                },
                                {
                                    "0": "2018",
                                    "1": "8-6 ",
                                    "2": "Boston Scott",
                                    "3": "NO ",
                                    "4": "RB   ",
                                    "5": "Adrian",
                                    "6": "Adrian"
                                },
                                {
                                    "0": "2018",
                                    "1": "8-7 ",
                                    "2": "Keelan Cole",
                                    "3": "Jax",
                                    "4": "WR   ",
                                    "5": "Ian",
                                    "6": "Ian"
                                },
                                {
                                    "0": "2018",
                                    "1": "8-8 ",
                                    "2": "Dante Pettis",
                                    "3": "SF ",
                                    "4": "WR   ",
                                    "5": "Christine",
                                    "6": "Christine"
                                },
                                {
                                    "0": "2018",
                                    "1": "9-1 ",
                                    "2": "Mark Andrews",
                                    "3": "Bal",
                                    "4": "TE   ",
                                    "5": "Christine",
                                    "6": "Christine"
                                },
                                {
                                    "0": "2018",
                                    "1": "9-2 ",
                                    "2": "Chris Thompson",
                                    "3": "Wsh",
                                    "4": "RB   ",
                                    "5": "Jon",
                                    "6": "Jon"
                                },
                                {
                                    "0": "2018",
                                    "1": "9-3 ",
                                    "2": "Jacob Hollister",
                                    "3": "NE ",
                                    "4": "TE   ",
                                    "5": "William",
                                    "6": "William"
                                },
                                {
                                    "0": "2018",
                                    "1": "9-4 ",
                                    "2": "Ryan Succop",
                                    "3": "Ten",
                                    "4": "K    ",
                                    "5": "Brian",
                                    "6": "Brian"
                                },
                                {
                                    "0": "2018",
                                    "1": "9-5 ",
                                    "2": "Dalton Schultz",
                                    "3": "Dal",
                                    "4": "TE   ",
                                    "5": "Paul",
                                    "6": "Paul"
                                },
                                {
                                    "0": "2018",
                                    "1": "9-6 ",
                                    "2": "Robby Anderson",
                                    "3": "NYJ",
                                    "4": "WR   ",
                                    "5": "Adrian",
                                    "6": "Adrian"
                                },
                                {
                                    "0": "2018",
                                    "1": "9-7 ",
                                    "2": "John Kelly",
                                    "3": "LAR",
                                    "4": "RB   ",
                                    "5": "Todd",
                                    "6": "Todd"
                                },
                                {
                                    "0": "2018",
                                    "1": "9-8 ",
                                    "2": "Josh McCown",
                                    "3": "NYJ",
                                    "4": "QB   ",
                                    "5": "Christine",
                                    "6": "Christine"
                                }
                            ]
                        },
                        "text/html": "<table><tr><th>draftyear</th><th>pick</th><th>player</th><th>NFLTeam</th><th>Position</th><th>drafted_owner</th><th>current_owner</th></tr><tr><td>2012</td><td>1-1 </td><td>Aaron Rodgers</td><td>GB </td><td>QB   </td><td>Cody</td><td>Jon</td></tr><tr><td>2012</td><td>1-4 </td><td>LeSean McCoy</td><td>Phi</td><td>RB   </td><td>Christine</td><td>Christine</td></tr><tr><td>2012</td><td>1-5 </td><td>Drew Brees</td><td>NO </td><td>QB   </td><td>Ian</td><td>Ian</td></tr><tr><td>2012</td><td>1-6 </td><td>Cam Newton</td><td>Car</td><td>QB   </td><td>Patrick</td><td>Adrian</td></tr><tr><td>2012</td><td>1-7 </td><td>Matthew Stafford</td><td>Det</td><td>QB   </td><td>Brian</td><td>Brian</td></tr><tr><td>2012</td><td>2-1 </td><td>Jimmy Graham</td><td>NO </td><td>TE   </td><td>Paul</td><td>Paul</td></tr><tr><td>2012</td><td>2-2 </td><td>Julio Jones</td><td>Atl</td><td>WR   </td><td>Brian</td><td>William</td></tr><tr><td>2012</td><td>2-5 </td><td>Rob Gronkowski</td><td>NE </td><td>TE   </td><td>Christine</td><td>Christine</td></tr><tr><td>2012</td><td>2-6 </td><td>Tom Brady</td><td>NE </td><td>QB   </td><td>Todd</td><td>Jon</td></tr><tr><td>2012</td><td>3-1 </td><td>A.J. Green</td><td>Cin</td><td>WR   </td><td>Cody</td><td>Jon</td></tr><tr><td>2012</td><td>3-2 </td><td>Larry Fitzgerald</td><td>Ari</td><td>WR   </td><td>William</td><td>William</td></tr><tr><td>2012</td><td>3-7 </td><td>Matt Ryan</td><td>Atl</td><td>QB   </td><td>Brian</td><td>William</td></tr><tr><td>2012</td><td>3-8 </td><td>Eli Manning</td><td>NYG</td><td>QB   </td><td>Paul</td><td>Paul</td></tr><tr><td>2012</td><td>4-2 </td><td>Antonio Brown</td><td>Pit</td><td>WR   </td><td>Brian</td><td>Brian</td></tr><tr><td>2012</td><td>5-3 </td><td>Jordy Nelson</td><td>GB </td><td>WR   </td><td>Todd</td><td>Todd</td></tr><tr><td>2012</td><td>6-2 </td><td>Andrew Luck</td><td>Ind</td><td>QB   </td><td>Brian</td><td>Christine</td></tr><tr><td>2012</td><td>7-4 </td><td>Mark Ingram II</td><td>NO </td><td>RB   </td><td>Christine</td><td>Christine</td></tr><tr><td>2012</td><td>7-8 </td><td>Stephen Gostkowski</td><td>NE </td><td>K    </td><td>Paul</td><td>Paul</td></tr><tr><td>2012</td><td>8-4 </td><td>Ben Roethlisberger</td><td>Pit</td><td>QB   </td><td>Ian</td><td>Ian</td></tr><tr><td>2012</td><td>8-5 </td><td>Frank Gore</td><td>SF </td><td>RB   </td><td>Christine</td><td>Ian</td></tr><tr><td>2012</td><td>12-3</td><td>Greg Olsen</td><td>Car</td><td>TE   </td><td>Patrick</td><td>Adrian</td></tr><tr><td>2012</td><td>13-3</td><td>Demaryius Thomas</td><td>Den</td><td>WR   </td><td>Todd</td><td>Todd</td></tr><tr><td>2012</td><td>13-8</td><td>Matt Prater</td><td>Den</td><td>K    </td><td>Paul</td><td>Paul</td></tr><tr><td>2012</td><td>14-4</td><td>Dan Bailey</td><td>Dal</td><td>K    </td><td>Ian</td><td>Ian</td></tr><tr><td>2012</td><td>15-6</td><td>DeSean Jackson</td><td>Phi</td><td>WR   </td><td>Patrick</td><td>Adrian</td></tr><tr><td>2012</td><td>17-6</td><td>Russell Wilson</td><td>Sea</td><td>QB   </td><td>Patrick</td><td>Adrian</td></tr><tr><td>2012</td><td>20-6</td><td>Randall Cobb</td><td>GB </td><td>WR   </td><td>Todd</td><td>Todd</td></tr><tr><td>2012</td><td>22-4</td><td>Mohamed Sanu</td><td>Cin</td><td>WR   </td><td>Ian</td><td>Ian</td></tr><tr><td>2012</td><td>22-7</td><td>Emmanuel Sanders</td><td>Pit</td><td>WR   </td><td>William</td><td>William</td></tr><tr><td>2012</td><td>24-3</td><td>Adam Vinatieri</td><td>Ind</td><td>K    </td><td>Patrick</td><td>Adrian</td></tr><tr><td>2013</td><td>2-2 </td><td>DeAndre Hopkins</td><td>Hou</td><td>WR   </td><td>Todd</td><td>Todd</td></tr><tr><td>2013</td><td>2-6 </td><td>T.Y. Hilton</td><td>Ind</td><td>WR   </td><td>Brian</td><td>Christine</td></tr><tr><td>2013</td><td>2-7 </td><td>Golden Tate</td><td>Det</td><td>WR   </td><td>Paul</td><td>Paul</td></tr><tr><td>2013</td><td>4-2 </td><td>LeVeon Bell</td><td>Pit</td><td>RB   </td><td>Todd</td><td>Todd</td></tr><tr><td>2014</td><td>1-4 </td><td>Alshon Jeffery</td><td>Chi</td><td>WR   </td><td>Paul</td><td>Paul</td></tr><tr><td>2014</td><td>2-1 </td><td>Sammy Watkins</td><td>Buf</td><td>WR   </td><td>Brian</td><td>Brian</td></tr><tr><td>2014</td><td>2-4 </td><td>Mike Evans</td><td>TB </td><td>WR   </td><td>Christine</td><td>Brian</td></tr><tr><td>2014</td><td>3-3 </td><td>Jordan Reed</td><td>Wsh</td><td>TE   </td><td>Ian</td><td>Ian</td></tr><tr><td>2014</td><td>3-4 </td><td>Odell Beckham Jr.</td><td>NYG</td><td>WR   </td><td>Paul</td><td>Paul</td></tr><tr><td>2014</td><td>3-8 </td><td>Brandin Cooks</td><td>NO </td><td>WR   </td><td>Brian</td><td>Adrian</td></tr><tr><td>2014</td><td>4-6 </td><td>Michael Crabtree</td><td>Oak</td><td>WR   </td><td>Ian</td><td>Ian</td></tr><tr><td>2014</td><td>6-3 </td><td>Mason Crosby</td><td>GB </td><td>K    </td><td>Cody</td><td>Jon</td></tr><tr><td>2014</td><td>6-4 </td><td>Stephen Hauschka</td><td>Sea</td><td>K    </td><td>Christine</td><td>Christine</td></tr><tr><td>2014</td><td>8-3 </td><td>Lamar Miller</td><td>Mia</td><td>RB   </td><td>Cody</td><td>Jon</td></tr><tr><td>2014</td><td>8-7 </td><td>Jarvis Landry</td><td>Mia</td><td>WR   </td><td>Todd</td><td>Todd</td></tr><tr><td>2014</td><td>9-1 </td><td>Teddy Bridgewater</td><td>Min</td><td>QB   </td><td>William</td><td>William</td></tr><tr><td>2014</td><td>9-2 </td><td>Derek Carr</td><td>Oak</td><td>QB   </td><td>Todd</td><td>Todd</td></tr><tr><td>2014</td><td>9-6 </td><td>Philip Rivers</td><td>SD </td><td>QB   </td><td>Cody</td><td>Jon</td></tr><tr><td>2015</td><td>1-2 </td><td>Melvin Gordon</td><td>SD </td><td>RB   </td><td>William</td><td>Brian</td></tr><tr><td>2015</td><td>1-4 </td><td>Travis Kelce</td><td>KC </td><td>TE   </td><td>Adrian</td><td>Adrian</td></tr><tr><td>2015</td><td>1-5 </td><td>Todd Gurley II</td><td>StL</td><td>RB   </td><td>Christine</td><td>Christine</td></tr><tr><td>2015</td><td>1-6 </td><td>Amari Cooper</td><td>Oak</td><td>WR   </td><td>Todd</td><td>Todd</td></tr><tr><td>2015</td><td>1-7 </td><td>Marcus Mariota</td><td>Ten</td><td>QB   </td><td>Brian</td><td>Brian</td></tr><tr><td>2015</td><td>2-2 </td><td>Jameis Winston</td><td>TB </td><td>QB   </td><td>Brian</td><td>Brian</td></tr><tr><td>2015</td><td>2-3 </td><td>Jimmy Garoppolo</td><td>NE </td><td>QB   </td><td>Todd</td><td>Todd</td></tr><tr><td>2015</td><td>2-7 </td><td>C.J. Anderson</td><td>Den</td><td>RB   </td><td>William</td><td>William</td></tr><tr><td>2015</td><td>5-5 </td><td>Allen Robinson</td><td>Jax</td><td>WR   </td><td>Christine</td><td>Brian</td></tr><tr><td>2015</td><td>5-6 </td><td>Tevin Coleman</td><td>Atl</td><td>RB   </td><td>Todd</td><td>Todd</td></tr><tr><td>2015</td><td>7-7 </td><td>Delanie Walker</td><td>Ten</td><td>TE   </td><td>Brian</td><td>Brian</td></tr><tr><td>2015</td><td>8-8 </td><td>David Johnson</td><td>Ari</td><td>RB   </td><td>Ian</td><td>Ian</td></tr><tr><td>2015</td><td>9-1 </td><td>Dustin Hopkins</td><td>Wsh</td><td>K    </td><td>Ian</td><td>Ian</td></tr><tr><td>2015</td><td>9-4 </td><td>Tyrod Taylor</td><td>Buf</td><td>QB   </td><td>Adrian</td><td>Adrian</td></tr><tr><td>2015</td><td>9-8 </td><td>Kyle Rudolph</td><td>Min</td><td>TE   </td><td>Paul</td><td>Paul</td></tr><tr><td>2015</td><td>10-1</td><td>Doug Baldwin</td><td>Sea</td><td>WR   </td><td>Jon</td><td>Jon</td></tr><tr><td>2015</td><td>10-3</td><td>Keenan Allen</td><td>SD </td><td>WR   </td><td>Jon</td><td>Jon</td></tr><tr><td>2016</td><td>1-1 </td><td>Ezekiel Elliott</td><td>Dal</td><td>RB   </td><td>Adrian</td><td>Adrian</td></tr><tr><td>2016</td><td>1-3 </td><td>Derrick Henry</td><td>Ten</td><td>RB   </td><td>William</td><td>William</td></tr><tr><td>2016</td><td>1-5 </td><td>Devonta Freeman</td><td>Atl</td><td>RB   </td><td>Todd</td><td>Todd</td></tr><tr><td>2016</td><td>1-7 </td><td>Jordan Howard</td><td>Chi</td><td>RB   </td><td>Paul</td><td>Paul</td></tr><tr><td>2016</td><td>2-1 </td><td>Michael Thomas</td><td>NO </td><td>WR   </td><td>Adrian</td><td>Brian</td></tr><tr><td>2016</td><td>2-5 </td><td>Sterling Shepard</td><td>NYG</td><td>WR   </td><td>Todd</td><td>Jon</td></tr><tr><td>2016</td><td>2-7 </td><td>Laquon Treadwell</td><td>Min</td><td>WR   </td><td>Paul</td><td>Paul</td></tr><tr><td>2016</td><td>3-3 </td><td>Zach Ertz</td><td>Phi</td><td>TE   </td><td>William</td><td>William</td></tr><tr><td>2016</td><td>3-8 </td><td>Stefon Diggs</td><td>Min</td><td>WR   </td><td>Christine</td><td>Christine</td></tr><tr><td>2016</td><td>4-4 </td><td>Chris Hogan</td><td>NE </td><td>WR   </td><td>Ian</td><td>William</td></tr><tr><td>2016</td><td>4-5 </td><td>Justin Tucker</td><td>Bal</td><td>K    </td><td>Todd</td><td>Todd</td></tr><tr><td>2016</td><td>4-6 </td><td>Carson Wentz</td><td>Phi</td><td>QB   </td><td>Brian</td><td>Brian</td></tr><tr><td>2016</td><td>4-7 </td><td>Travis Benjamin</td><td>SD </td><td>WR   </td><td>Paul</td><td>Paul</td></tr><tr><td>2016</td><td>4-8 </td><td>Paxton Lynch</td><td>Den</td><td>QB   </td><td>Christine</td><td>Christine</td></tr><tr><td>2016</td><td>5-3 </td><td>Dak Prescott</td><td>Dal</td><td>QB   </td><td>William</td><td>Ian</td></tr><tr><td>2016</td><td>5-6 </td><td>Eric Ebron</td><td>Det</td><td>TE   </td><td>Brian</td><td>Adrian</td></tr><tr><td>2016</td><td>5-8 </td><td>Jay Ajayi</td><td>Mia</td><td>RB   </td><td>Christine</td><td>Christine</td></tr><tr><td>2016</td><td>6-2 </td><td>Graham Gano</td><td>Car</td><td>K    </td><td>Adrian</td><td>Adrian</td></tr><tr><td>2016</td><td>7-2 </td><td>Marvin Jones Jr.</td><td>Det</td><td>WR   </td><td>Jon</td><td>Jon</td></tr><tr><td>2016</td><td>7-5 </td><td>Kirk Cousins</td><td>Wsh</td><td>QB   </td><td>Todd</td><td>Todd</td></tr><tr><td>2016</td><td>8-1 </td><td>Duke Johnson Jr.</td><td>Cle</td><td>RB   </td><td>Adrian</td><td>Brian</td></tr><tr><td>2016</td><td>8-2 </td><td>Isaiah Crowell</td><td>Cle</td><td>RB   </td><td>Jon</td><td>Jon</td></tr><tr><td>2016</td><td>9-3 </td><td>Austin Hooper</td><td>Atl</td><td>TE   </td><td>William</td><td>William</td></tr><tr><td>2017</td><td>1-1 </td><td>Christian McCaffrey</td><td>Car</td><td>RB   </td><td>Adrian</td><td>Adrian</td></tr><tr><td>2017</td><td>1-2 </td><td>Dalvin Cook</td><td>Min</td><td>RB   </td><td>Paul</td><td>Paul</td></tr><tr><td>2017</td><td>1-3 </td><td>Leonard Fournette</td><td>Jax</td><td>RB   </td><td>Christine</td><td>Christine</td></tr><tr><td>2017</td><td>1-4 </td><td>Joe Mixon</td><td>Cin</td><td>RB   </td><td>Todd</td><td>Todd</td></tr><tr><td>2017</td><td>1-5 </td><td>Kareem Hunt</td><td>KC </td><td>RB   </td><td>William</td><td>William</td></tr><tr><td>2017</td><td>1-6 </td><td>Corey Davis</td><td>Ten</td><td>WR   </td><td>Todd</td><td>Todd</td></tr><tr><td>2017</td><td>1-7 </td><td>Davante Adams</td><td>GB </td><td>WR   </td><td>Adrian</td><td>Adrian</td></tr><tr><td>2017</td><td>1-8 </td><td>Ty Montgomery</td><td>GB </td><td>RB   </td><td>Ian</td><td>Ian</td></tr><tr><td>2017</td><td>2-1 </td><td>Marshawn Lynch</td><td>Oak</td><td>RB   </td><td>William</td><td>William</td></tr><tr><td>2017</td><td>2-2 </td><td>Deshaun Watson</td><td>Hou</td><td>QB   </td><td>Paul</td><td>Paul</td></tr><tr><td>2017</td><td>2-4 </td><td>David Njoku</td><td>Cle</td><td>TE   </td><td>Todd</td><td>Todd</td></tr><tr><td>2017</td><td>2-5 </td><td>Martavis Bryant</td><td>Pit</td><td>WR   </td><td>William</td><td>William</td></tr><tr><td>2017</td><td>2-6 </td><td>Evan Engram</td><td>NYG</td><td>TE   </td><td>Jon</td><td>Jon</td></tr><tr><td>2017</td><td>2-7 </td><td>John Ross</td><td>Cin</td><td>WR   </td><td>Adrian</td><td>Adrian</td></tr><tr><td>2017</td><td>3-1 </td><td>Hunter Henry</td><td>LAC</td><td>TE   </td><td>Brian</td><td>Brian</td></tr><tr><td>2017</td><td>3-2 </td><td>Tyreek Hill</td><td>KC </td><td>WR   </td><td>Paul</td><td>Paul</td></tr><tr><td>2017</td><td>3-3 </td><td>Jack Doyle</td><td>Ind</td><td>TE   </td><td>Christine</td><td>Christine</td></tr><tr><td>2017</td><td>3-6 </td><td>Alvin Kamara</td><td>NO </td><td>RB   </td><td>Jon</td><td>Jon</td></tr><tr><td>2017</td><td>3-8 </td><td>O.J. Howard</td><td>TB </td><td>TE   </td><td>Ian</td><td>Ian</td></tr><tr><td>2017</td><td>4-1 </td><td>Patrick Mahomes</td><td>KC </td><td>QB   </td><td>Brian</td><td>Brian</td></tr><tr><td>2017</td><td>4-3 </td><td>Tyrell Williams</td><td>LAC</td><td>WR   </td><td>Christine</td><td>Christine</td></tr><tr><td>2017</td><td>4-4 </td><td>Mitchell Trubisky</td><td>Chi</td><td>QB   </td><td>Todd</td><td>Todd</td></tr><tr><td>2017</td><td>4-5 </td><td>Matt Bryant</td><td>Atl</td><td>K    </td><td>William</td><td>William</td></tr><tr><td>2017</td><td>4-8 </td><td>LeGarrette Blount</td><td>Phi</td><td>RB   </td><td>Ian</td><td>Ian</td></tr><tr><td>2017</td><td>5-2 </td><td>Cameron Meredith</td><td>Chi</td><td>WR   </td><td>Paul</td><td>Paul</td></tr><tr><td>2017</td><td>5-8 </td><td>Harrison Butker</td><td>Car</td><td>K    </td><td>Ian</td><td>William</td></tr><tr><td>2017</td><td>6-1 </td><td>Wil Lutz</td><td>NO </td><td>K    </td><td>Todd</td><td>Jon</td></tr><tr><td>2017</td><td>6-2 </td><td>Taywan Taylor</td><td>Ten</td><td>WR   </td><td>Brian</td><td>Brian</td></tr><tr><td>2017</td><td>6-4 </td><td>Blair Walsh</td><td>Sea</td><td>K    </td><td>Christine</td><td>Christine</td></tr><tr><td>2017</td><td>6-6 </td><td>Rex Burkhead</td><td>NE </td><td>RB   </td><td>Jon</td><td>Jon</td></tr><tr><td>2017</td><td>6-8 </td><td>Blake Bortles</td><td>Jax</td><td>QB   </td><td>Ian</td><td>Christine</td></tr><tr><td>2017</td><td>7-4 </td><td>James Conner</td><td>Pit</td><td>RB   </td><td>Todd</td><td>Todd</td></tr><tr><td>2017</td><td>7-5 </td><td>Jared Goff</td><td>LAR</td><td>QB   </td><td>William</td><td>William</td></tr><tr><td>2017</td><td>8-1 </td><td>Jamaal Williams</td><td>GB </td><td>RB   </td><td>Brian</td><td>Brian</td></tr><tr><td>2017</td><td>8-2 </td><td>Tarik Cohen</td><td>Chi</td><td>RB   </td><td>Paul</td><td>Paul</td></tr><tr><td>2017</td><td>8-3 </td><td>Allen Hurns</td><td>Jax</td><td>WR   </td><td>Christine</td><td>Christine</td></tr><tr><td>2017</td><td>9-6 </td><td>Kenny Golladay</td><td>Det</td><td>WR   </td><td>Jon</td><td>Jon</td></tr><tr><td>2017</td><td>9-7 </td><td>Latavius Murray</td><td>Min</td><td>RB   </td><td>Adrian</td><td>Adrian</td></tr><tr><td>2017</td><td>9-8 </td><td>Marqise Lee</td><td>Jax</td><td>WR   </td><td>Ian</td><td>Ian</td></tr><tr><td>2017</td><td>10-1</td><td>Pierre Garcon</td><td>SF </td><td>WR   </td><td>Adrian</td><td>Adrian</td></tr><tr><td>2018</td><td>1-1 </td><td>Saquon Barkley</td><td>NYG</td><td>RB   </td><td>Ian</td><td>Ian</td></tr><tr><td>2018</td><td>1-2 </td><td>JuJu Smith-Schuster</td><td>Pit</td><td>WR   </td><td>Jon</td><td>Jon</td></tr><tr><td>2018</td><td>1-3 </td><td>Royce Freeman</td><td>Den</td><td>RB   </td><td>William</td><td>William</td></tr><tr><td>2018</td><td>1-4 </td><td>Adam Thielen</td><td>Min</td><td>WR   </td><td>Brian</td><td>Brian</td></tr><tr><td>2018</td><td>1-5 </td><td>Rashaad Penny</td><td>Sea</td><td>RB   </td><td>Paul</td><td>Paul</td></tr><tr><td>2018</td><td>1-6 </td><td>Marquise Goodwin</td><td>SF </td><td>WR   </td><td>Adrian</td><td>Adrian</td></tr><tr><td>2018</td><td>1-7 </td><td>Derrius Guice</td><td>Was</td><td>RB   </td><td>Todd</td><td>Todd</td></tr><tr><td>2018</td><td>1-8 </td><td>Sony Michel</td><td>NE </td><td>RB   </td><td>Christine</td><td>Christine</td></tr><tr><td>2018</td><td>2-1 </td><td>Michael Gallup</td><td>Dal</td><td>WR   </td><td>Ian</td><td>Ian</td></tr><tr><td>2018</td><td>2-2 </td><td>Baker Mayfield</td><td>Cle</td><td>QB   </td><td>Todd</td><td>Todd</td></tr><tr><td>2018</td><td>2-3 </td><td>Alex Collins</td><td>Bal</td><td>RB   </td><td>William</td><td>William</td></tr><tr><td>2018</td><td>2-4 </td><td>DJ Moore</td><td>Car</td><td>WR   </td><td>Brian</td><td>Brian</td></tr><tr><td>2018</td><td>2-5 </td><td>Kerryon Johnson</td><td>Det</td><td>RB   </td><td>Paul</td><td>Paul</td></tr><tr><td>2018</td><td>2-6 </td><td>Robert Woods</td><td>LAR</td><td>WR   </td><td>Adrian</td><td>Adrian</td></tr><tr><td>2018</td><td>2-7 </td><td>Courtland Sutton</td><td>Den</td><td>WR   </td><td>Todd</td><td>Todd</td></tr><tr><td>2018</td><td>2-8 </td><td>Lamar Jackson</td><td>Bal</td><td>QB   </td><td>Christine</td><td>Christine</td></tr><tr><td>2018</td><td>3-1 </td><td>Josh Allen</td><td>Buf</td><td>QB   </td><td>Ian</td><td>Ian</td></tr><tr><td>2018</td><td>3-2 </td><td>Chris Carson</td><td>Sea</td><td>RB   </td><td>Jon</td><td>Jon</td></tr><tr><td>2018</td><td>3-3 </td><td>Jaylen Samuels</td><td>Pit</td><td>RB   </td><td>William</td><td>William</td></tr><tr><td>2018</td><td>3-4 </td><td>Trey Burton</td><td>Chi</td><td>TE   </td><td>Brian</td><td>Brian</td></tr><tr><td>2018</td><td>3-5 </td><td>Alex Smith</td><td>Wsh</td><td>QB   </td><td>Paul</td><td>Paul</td></tr><tr><td>2018</td><td>3-6 </td><td>Peyton Barber</td><td>TB </td><td>RB   </td><td>Adrian</td><td>Adrian</td></tr><tr><td>2018</td><td>3-7 </td><td>Nick Chubb</td><td>Cle</td><td>RB   </td><td>Todd</td><td>Todd</td></tr><tr><td>2018</td><td>3-8 </td><td>Tre'Quan Smith</td><td>NO </td><td>WR   </td><td>William</td><td>William</td></tr><tr><td>2018</td><td>4-1 </td><td>Josh Gordon</td><td>Cle</td><td>WR   </td><td>Ian</td><td>Ian</td></tr><tr><td>2018</td><td>4-2 </td><td>Josh Rosen</td><td>Ari</td><td>QB   </td><td>Jon</td><td>Jon</td></tr><tr><td>2018</td><td>4-3 </td><td>Cooper Kupp</td><td>LAR</td><td>WR   </td><td>William</td><td>William</td></tr><tr><td>2018</td><td>4-4 </td><td>Kenyan Drake</td><td>Mia</td><td>RB   </td><td>Brian</td><td>Brian</td></tr><tr><td>2018</td><td>4-5 </td><td>Will Fuller V</td><td>Hou</td><td>WR   </td><td>Paul</td><td>Paul</td></tr><tr><td>2018</td><td>4-6 </td><td>Sam Darnold</td><td>NYJ</td><td>QB   </td><td>Adrian</td><td>Adrian</td></tr><tr><td>2018</td><td>4-7 </td><td>Ricky Seals-Jones</td><td>Ari</td><td>TE   </td><td>Jon</td><td>Jon</td></tr><tr><td>2018</td><td>4-8 </td><td>Mike Gesicki</td><td>Mia</td><td>TE   </td><td>Christine</td><td>Christine</td></tr><tr><td>2018</td><td>5-1 </td><td>Devin Funchess</td><td>Car</td><td>WR   </td><td>Ian</td><td>Ian</td></tr><tr><td>2018</td><td>5-2 </td><td>Carlos Hyde</td><td>Cle</td><td>RB   </td><td>Jon</td><td>Jon</td></tr><tr><td>2018</td><td>5-3 </td><td>Hayden Hurst</td><td>Bal</td><td>TE   </td><td>Ian</td><td>Ian</td></tr><tr><td>2018</td><td>5-4 </td><td>Dion Lewis</td><td>Ten</td><td>RB   </td><td>Brian</td><td>Brian</td></tr><tr><td>2018</td><td>5-5 </td><td>Matt Breida</td><td>SF </td><td>RB   </td><td>Paul</td><td>Paul</td></tr><tr><td>2018</td><td>5-6 </td><td>Cameron Brate</td><td>TB </td><td>TE   </td><td>Adrian</td><td>Adrian</td></tr><tr><td>2018</td><td>5-7 </td><td>Dallas Goedert</td><td>Phi</td><td>TE   </td><td>Todd</td><td>Todd</td></tr><tr><td>2018</td><td>5-8 </td><td>Ronald Jones</td><td>TB </td><td>RB   </td><td>Christine</td><td>Christine</td></tr><tr><td>2018</td><td>6-1 </td><td>Mike Williams</td><td>LAC</td><td>WR   </td><td>Jon</td><td>Jon</td></tr><tr><td>2018</td><td>6-2 </td><td>Jonnu Smith</td><td>Ten</td><td>TE   </td><td>Ian</td><td>Ian</td></tr><tr><td>2018</td><td>6-3 </td><td>Cordarrelle Patterson</td><td>NE </td><td>WR   </td><td>Ian</td><td>Ian</td></tr><tr><td>2018</td><td>6-4 </td><td>Andy Dalton</td><td>Cin</td><td>QB   </td><td>Brian</td><td>Brian</td></tr><tr><td>2018</td><td>6-5 </td><td>James Washington</td><td>Pit</td><td>WR   </td><td>Paul</td><td>Paul</td></tr><tr><td>2018</td><td>6-6 </td><td>Calvin Ridley</td><td>Atl</td><td>WR   </td><td>Adrian</td><td>Adrian</td></tr><tr><td>2018</td><td>6-7 </td><td>Greg Zuerlein</td><td>LAR</td><td>K    </td><td>Todd</td><td>Todd</td></tr><tr><td>2018</td><td>6-8 </td><td>Anthony Miller</td><td>Chi</td><td>WR   </td><td>Christine</td><td>Christine</td></tr><tr><td>2018</td><td>7-1 </td><td>Brett Maher</td><td>Dal</td><td>K    </td><td>Ian</td><td>Ian</td></tr><tr><td>2018</td><td>7-2 </td><td>Benjamin Watson</td><td>NO </td><td>TE   </td><td>Jon</td><td>Jon</td></tr><tr><td>2018</td><td>7-3 </td><td>Mason Rudolph</td><td>Pit</td><td>QB   </td><td>William</td><td>William</td></tr><tr><td>2018</td><td>7-4 </td><td>Chris Boswell</td><td>Pit</td><td>K    </td><td>Brian</td><td>Brian</td></tr><tr><td>2018</td><td>7-5 </td><td>George Kittle</td><td>SF </td><td>TE   </td><td>Paul</td><td>Paul</td></tr><tr><td>2018</td><td>7-6 </td><td>Robbie Gould</td><td>SF </td><td>K    </td><td>Adrian</td><td>Adrian</td></tr><tr><td>2018</td><td>7-7 </td><td>Case Keenum</td><td>Den</td><td>QB   </td><td>William</td><td>William</td></tr><tr><td>2018</td><td>7-8 </td><td>Christian Kirk</td><td>Ari</td><td>WR   </td><td>Christine</td><td>Christine</td></tr><tr><td>2018</td><td>8-1 </td><td>Marquez Valdes-Scantling</td><td>GB </td><td>WR   </td><td>Ian</td><td>Ian</td></tr><tr><td>2018</td><td>8-2 </td><td>Jake Elliott</td><td>Phi</td><td>K    </td><td>Jon</td><td>Jon</td></tr><tr><td>2018</td><td>8-3 </td><td>Josh Lambo</td><td>Jax</td><td>K    </td><td>William</td><td>William</td></tr><tr><td>2018</td><td>8-4 </td><td>Tyler Eifert</td><td>Cin</td><td>TE   </td><td>Brian</td><td>Brian</td></tr><tr><td>2018</td><td>8-5 </td><td>Nick Folk</td><td>TB </td><td>K    </td><td>Paul</td><td>Paul</td></tr><tr><td>2018</td><td>8-6 </td><td>Boston Scott</td><td>NO </td><td>RB   </td><td>Adrian</td><td>Adrian</td></tr><tr><td>2018</td><td>8-7 </td><td>Keelan Cole</td><td>Jax</td><td>WR   </td><td>Ian</td><td>Ian</td></tr><tr><td>2018</td><td>8-8 </td><td>Dante Pettis</td><td>SF </td><td>WR   </td><td>Christine</td><td>Christine</td></tr><tr><td>2018</td><td>9-1 </td><td>Mark Andrews</td><td>Bal</td><td>TE   </td><td>Christine</td><td>Christine</td></tr><tr><td>2018</td><td>9-2 </td><td>Chris Thompson</td><td>Wsh</td><td>RB   </td><td>Jon</td><td>Jon</td></tr><tr><td>2018</td><td>9-3 </td><td>Jacob Hollister</td><td>NE </td><td>TE   </td><td>William</td><td>William</td></tr><tr><td>2018</td><td>9-4 </td><td>Ryan Succop</td><td>Ten</td><td>K    </td><td>Brian</td><td>Brian</td></tr><tr><td>2018</td><td>9-5 </td><td>Dalton Schultz</td><td>Dal</td><td>TE   </td><td>Paul</td><td>Paul</td></tr><tr><td>2018</td><td>9-6 </td><td>Robby Anderson</td><td>NYJ</td><td>WR   </td><td>Adrian</td><td>Adrian</td></tr><tr><td>2018</td><td>9-7 </td><td>John Kelly</td><td>LAR</td><td>RB   </td><td>Todd</td><td>Todd</td></tr><tr><td>2018</td><td>9-8 </td><td>Josh McCown</td><td>NYJ</td><td>QB   </td><td>Christine</td><td>Christine</td></tr></table>"
                    }
                }
            ],
            "execution_count": 3
        },
        {
            "cell_type": "markdown",
            "source": "***\r\n\r\n## Complete draft history",
            "metadata": {}
        },
        {
            "cell_type": "code",
            "source": "select dr.draftyear, dr.pick, dr.player, dr.NFLTeam, dr.Position, Drafting_owner = t.TeamOwner, Current_team_owner = cr.Current_Owner\r\nfrom draftresults dr inner join team t on t.id = dr.teamid and dr.draftyear >= t.BeginSeason and dr.draftyear <= t.EndSeason\r\nleft outer join CurrentRoster cr on cr.Current_Team_Number = t.TeamNumber and cr.rosteryear = 2018 and cr.player = dr.player\r\norder by dr.draftyear, dr.draft_round, dr.pick_in_draft_round",
            "metadata": {},
            "outputs": [
                {
                    "output_type": "display_data",
                    "data": {
                        "text/html": "(580 rows affected)"
                    },
                    "metadata": {}
                },
                {
                    "output_type": "display_data",
                    "data": {
                        "text/html": "Total execution time: 00:00:00.183"
                    },
                    "metadata": {}
                },
                {
                    "output_type": "execute_result",
                    "metadata": {},
                    "execution_count": 4,
                    "data": {
                        "application/vnd.dataresource+json": {
                            "schema": {
                                "fields": [
                                    {
                                        "name": "draftyear"
                                    },
                                    {
                                        "name": "pick"
                                    },
                                    {
                                        "name": "player"
                                    },
                                    {
                                        "name": "NFLTeam"
                                    },
                                    {
                                        "name": "Position"
                                    },
                                    {
                                        "name": "Drafting_owner"
                                    },
                                    {
                                        "name": "Current_team_owner"
                                    }
                                ]
                            },
                            "data": [
                                {
                                    "0": "2012",
                                    "1": "1-1 ",
                                    "2": "Aaron Rodgers",
                                    "3": "GB ",
                                    "4": "QB   ",
                                    "5": "Cody",
                                    "6": "Jon"
                                },
                                {
                                    "0": "2012",
                                    "1": "1-2 ",
                                    "2": "Arian Foster",
                                    "3": "Hou",
                                    "4": "RB   ",
                                    "5": "William",
                                    "6": "NULL"
                                },
                                {
                                    "0": "2012",
                                    "1": "1-3 ",
                                    "2": "Ray Rice",
                                    "3": "Bal",
                                    "4": "RB   ",
                                    "5": "Todd",
                                    "6": "NULL"
                                },
                                {
                                    "0": "2012",
                                    "1": "1-4 ",
                                    "2": "LeSean McCoy",
                                    "3": "Phi",
                                    "4": "RB   ",
                                    "5": "Christine",
                                    "6": "Christine"
                                },
                                {
                                    "0": "2012",
                                    "1": "1-5 ",
                                    "2": "Drew Brees",
                                    "3": "NO ",
                                    "4": "QB   ",
                                    "5": "Ian",
                                    "6": "Ian"
                                },
                                {
                                    "0": "2012",
                                    "1": "1-6 ",
                                    "2": "Cam Newton",
                                    "3": "Car",
                                    "4": "QB   ",
                                    "5": "Patrick",
                                    "6": "Adrian"
                                },
                                {
                                    "0": "2012",
                                    "1": "1-7 ",
                                    "2": "Matthew Stafford",
                                    "3": "Det",
                                    "4": "QB   ",
                                    "5": "Brian",
                                    "6": "Brian"
                                },
                                {
                                    "0": "2012",
                                    "1": "1-8 ",
                                    "2": "Calvin Johnson",
                                    "3": "Det",
                                    "4": "WR   ",
                                    "5": "Paul",
                                    "6": "NULL"
                                },
                                {
                                    "0": "2012",
                                    "1": "2-1 ",
                                    "2": "Jimmy Graham",
                                    "3": "NO ",
                                    "4": "TE   ",
                                    "5": "Paul",
                                    "6": "Paul"
                                },
                                {
                                    "0": "2012",
                                    "1": "2-2 ",
                                    "2": "Julio Jones",
                                    "3": "Atl",
                                    "4": "WR   ",
                                    "5": "Brian",
                                    "6": "NULL"
                                },
                                {
                                    "0": "2012",
                                    "1": "2-3 ",
                                    "2": "Maurice Jones-Drew",
                                    "3": "Jac",
                                    "4": "RB   ",
                                    "5": "Patrick",
                                    "6": "NULL"
                                },
                                {
                                    "0": "2012",
                                    "1": "2-4 ",
                                    "2": "Matt Forte",
                                    "3": "Chi",
                                    "4": "RB   ",
                                    "5": "Ian",
                                    "6": "NULL"
                                },
                                {
                                    "0": "2012",
                                    "1": "2-5 ",
                                    "2": "Rob Gronkowski",
                                    "3": "NE ",
                                    "4": "TE   ",
                                    "5": "Christine",
                                    "6": "Christine"
                                },
                                {
                                    "0": "2012",
                                    "1": "2-6 ",
                                    "2": "Tom Brady",
                                    "3": "NE ",
                                    "4": "QB   ",
                                    "5": "Todd",
                                    "6": "NULL"
                                },
                                {
                                    "0": "2012",
                                    "1": "2-7 ",
                                    "2": "Chris Johnson",
                                    "3": "Ten",
                                    "4": "RB   ",
                                    "5": "William",
                                    "6": "NULL"
                                },
                                {
                                    "0": "2012",
                                    "1": "2-8 ",
                                    "2": "Doug Martin",
                                    "3": "TB ",
                                    "4": "RB   ",
                                    "5": "Cody",
                                    "6": "NULL"
                                },
                                {
                                    "0": "2012",
                                    "1": "3-1 ",
                                    "2": "A.J. Green",
                                    "3": "Cin",
                                    "4": "WR   ",
                                    "5": "Cody",
                                    "6": "Jon"
                                },
                                {
                                    "0": "2012",
                                    "1": "3-2 ",
                                    "2": "Larry Fitzgerald",
                                    "3": "Ari",
                                    "4": "WR   ",
                                    "5": "William",
                                    "6": "William"
                                },
                                {
                                    "0": "2012",
                                    "1": "3-3 ",
                                    "2": "Adrian Peterson",
                                    "3": "Min",
                                    "4": "RB   ",
                                    "5": "Todd",
                                    "6": "NULL"
                                },
                                {
                                    "0": "2012",
                                    "1": "3-4 ",
                                    "2": "Greg Jennings",
                                    "3": "GB ",
                                    "4": "WR   ",
                                    "5": "Christine",
                                    "6": "NULL"
                                },
                                {
                                    "0": "2012",
                                    "1": "3-5 ",
                                    "2": "Roddy White",
                                    "3": "Atl",
                                    "4": "WR   ",
                                    "5": "Ian",
                                    "6": "NULL"
                                },
                                {
                                    "0": "2012",
                                    "1": "3-6 ",
                                    "2": "Darren McFadden",
                                    "3": "Oak",
                                    "4": "RB   ",
                                    "5": "Patrick",
                                    "6": "NULL"
                                },
                                {
                                    "0": "2012",
                                    "1": "3-7 ",
                                    "2": "Matt Ryan",
                                    "3": "Atl",
                                    "4": "QB   ",
                                    "5": "Brian",
                                    "6": "NULL"
                                },
                                {
                                    "0": "2012",
                                    "1": "3-8 ",
                                    "2": "Eli Manning",
                                    "3": "NYG",
                                    "4": "QB   ",
                                    "5": "Paul",
                                    "6": "Paul"
                                },
                                {
                                    "0": "2012",
                                    "1": "4-1 ",
                                    "2": "Ryan Mathews",
                                    "3": "SD ",
                                    "4": "RB   ",
                                    "5": "Paul",
                                    "6": "NULL"
                                },
                                {
                                    "0": "2012",
                                    "1": "4-2 ",
                                    "2": "Antonio Brown",
                                    "3": "Pit",
                                    "4": "WR   ",
                                    "5": "Brian",
                                    "6": "Brian"
                                },
                                {
                                    "0": "2012",
                                    "1": "4-3 ",
                                    "2": "Peyton Manning",
                                    "3": "Den",
                                    "4": "QB   ",
                                    "5": "Patrick",
                                    "6": "NULL"
                                },
                                {
                                    "0": "2012",
                                    "1": "4-4 ",
                                    "2": "Antonio Gates",
                                    "3": "SD ",
                                    "4": "TE   ",
                                    "5": "Ian",
                                    "6": "NULL"
                                },
                                {
                                    "0": "2012",
                                    "1": "4-5 ",
                                    "2": "Tony Romo",
                                    "3": "Dal",
                                    "4": "QB   ",
                                    "5": "Christine",
                                    "6": "NULL"
                                },
                                {
                                    "0": "2012",
                                    "1": "4-6 ",
                                    "2": "Trent Richardson",
                                    "3": "Cle",
                                    "4": "RB   ",
                                    "5": "Todd",
                                    "6": "NULL"
                                },
                                {
                                    "0": "2012",
                                    "1": "4-7 ",
                                    "2": "Hakeem Nicks",
                                    "3": "NYG",
                                    "4": "WR   ",
                                    "5": "William",
                                    "6": "NULL"
                                },
                                {
                                    "0": "2012",
                                    "1": "4-8 ",
                                    "2": "Aaron Hernandez",
                                    "3": "NE ",
                                    "4": "TE   ",
                                    "5": "Cody",
                                    "6": "NULL"
                                },
                                {
                                    "0": "2012",
                                    "1": "5-1 ",
                                    "2": "Willis McGahee",
                                    "3": "Den",
                                    "4": "RB   ",
                                    "5": "Cody",
                                    "6": "NULL"
                                },
                                {
                                    "0": "2012",
                                    "1": "5-2 ",
                                    "2": "DeMarco Murray",
                                    "3": "Dal",
                                    "4": "RB   ",
                                    "5": "William",
                                    "6": "NULL"
                                },
                                {
                                    "0": "2012",
                                    "1": "5-3 ",
                                    "2": "Jordy Nelson",
                                    "3": "GB ",
                                    "4": "WR   ",
                                    "5": "Todd",
                                    "6": "Todd"
                                },
                                {
                                    "0": "2012",
                                    "1": "5-4 ",
                                    "2": "Wes Welker",
                                    "3": "NE ",
                                    "4": "WR   ",
                                    "5": "Christine",
                                    "6": "NULL"
                                },
                                {
                                    "0": "2012",
                                    "1": "5-5 ",
                                    "2": "Darren Sproles",
                                    "3": "NO ",
                                    "4": "RB   ",
                                    "5": "Ian",
                                    "6": "NULL"
                                },
                                {
                                    "0": "2012",
                                    "1": "5-6 ",
                                    "2": "Brandon Marshall",
                                    "3": "Chi",
                                    "4": "WR   ",
                                    "5": "Patrick",
                                    "6": "NULL"
                                },
                                {
                                    "0": "2012",
                                    "1": "5-7 ",
                                    "2": "Jamaal Charles",
                                    "3": "KC ",
                                    "4": "RB   ",
                                    "5": "Brian",
                                    "6": "NULL"
                                },
                                {
                                    "0": "2012",
                                    "1": "5-8 ",
                                    "2": "Steve Smith",
                                    "3": "Car",
                                    "4": "WR   ",
                                    "5": "Paul",
                                    "6": "NULL"
                                },
                                {
                                    "0": "2012",
                                    "1": "6-1 ",
                                    "2": "Reggie Bush",
                                    "3": "Mia",
                                    "4": "RB   ",
                                    "5": "Paul",
                                    "6": "NULL"
                                },
                                {
                                    "0": "2012",
                                    "1": "6-2 ",
                                    "2": "Andrew Luck",
                                    "3": "Ind",
                                    "4": "QB   ",
                                    "5": "Brian",
                                    "6": "NULL"
                                },
                                {
                                    "0": "2012",
                                    "1": "6-3 ",
                                    "2": "Marques Colston",
                                    "3": "NO ",
                                    "4": "WR   ",
                                    "5": "Patrick",
                                    "6": "NULL"
                                },
                                {
                                    "0": "2012",
                                    "1": "6-4 ",
                                    "2": "Andre Johnson",
                                    "3": "Hou",
                                    "4": "WR   ",
                                    "5": "Ian",
                                    "6": "NULL"
                                },
                                {
                                    "0": "2012",
                                    "1": "6-5 ",
                                    "2": "Ahmad Bradshaw",
                                    "3": "NYG",
                                    "4": "RB   ",
                                    "5": "Christine",
                                    "6": "NULL"
                                },
                                {
                                    "0": "2012",
                                    "1": "6-6 ",
                                    "2": "Robert Griffin III",
                                    "3": "Wsh",
                                    "4": "QB   ",
                                    "5": "Todd",
                                    "6": "NULL"
                                },
                                {
                                    "0": "2012",
                                    "1": "6-7 ",
                                    "2": "Philip Rivers",
                                    "3": "SD ",
                                    "4": "QB   ",
                                    "5": "William",
                                    "6": "NULL"
                                },
                                {
                                    "0": "2012",
                                    "1": "6-8 ",
                                    "2": "Jermichael Finley",
                                    "3": "GB ",
                                    "4": "TE   ",
                                    "5": "Cody",
                                    "6": "NULL"
                                },
                                {
                                    "0": "2012",
                                    "1": "7-1 ",
                                    "2": "Beanie Wells",
                                    "3": "Ari",
                                    "4": "RB   ",
                                    "5": "Cody",
                                    "6": "NULL"
                                },
                                {
                                    "0": "2012",
                                    "1": "7-2 ",
                                    "2": "Dez Bryant",
                                    "3": "Dal",
                                    "4": "WR   ",
                                    "5": "William",
                                    "6": "NULL"
                                },
                                {
                                    "0": "2012",
                                    "1": "7-3 ",
                                    "2": "Jeremy Maclin",
                                    "3": "Phi",
                                    "4": "WR   ",
                                    "5": "Todd",
                                    "6": "NULL"
                                },
                                {
                                    "0": "2012",
                                    "1": "7-4 ",
                                    "2": "Mark Ingram II",
                                    "3": "NO ",
                                    "4": "RB   ",
                                    "5": "Christine",
                                    "6": "Christine"
                                },
                                {
                                    "0": "2012",
                                    "1": "7-5 ",
                                    "2": "Garrett Hartley",
                                    "3": "NO ",
                                    "4": "K    ",
                                    "5": "Ian",
                                    "6": "NULL"
                                },
                                {
                                    "0": "2012",
                                    "1": "7-6 ",
                                    "2": "Vernon Davis",
                                    "3": "SF ",
                                    "4": "TE   ",
                                    "5": "Patrick",
                                    "6": "NULL"
                                },
                                {
                                    "0": "2012",
                                    "1": "7-7 ",
                                    "2": "Eric Decker",
                                    "3": "Den",
                                    "4": "WR   ",
                                    "5": "Brian",
                                    "6": "NULL"
                                },
                                {
                                    "0": "2012",
                                    "1": "7-8 ",
                                    "2": "Stephen Gostkowski",
                                    "3": "NE ",
                                    "4": "K    ",
                                    "5": "Paul",
                                    "6": "Paul"
                                },
                                {
                                    "0": "2012",
                                    "1": "8-1 ",
                                    "2": "Brandon Pettigrew",
                                    "3": "Det",
                                    "4": "TE   ",
                                    "5": "Paul",
                                    "6": "NULL"
                                },
                                {
                                    "0": "2012",
                                    "1": "8-2 ",
                                    "2": "Fred Jackson",
                                    "3": "Buf",
                                    "4": "RB   ",
                                    "5": "Brian",
                                    "6": "NULL"
                                },
                                {
                                    "0": "2012",
                                    "1": "8-3 ",
                                    "2": "Steven Jackson",
                                    "3": "StL",
                                    "4": "RB   ",
                                    "5": "Patrick",
                                    "6": "NULL"
                                },
                                {
                                    "0": "2012",
                                    "1": "8-4 ",
                                    "2": "Ben Roethlisberger",
                                    "3": "Pit",
                                    "4": "QB   ",
                                    "5": "Ian",
                                    "6": "Ian"
                                },
                                {
                                    "0": "2012",
                                    "1": "8-5 ",
                                    "2": "Frank Gore",
                                    "3": "SF ",
                                    "4": "RB   ",
                                    "5": "Christine",
                                    "6": "NULL"
                                },
                                {
                                    "0": "2012",
                                    "1": "8-6 ",
                                    "2": "David Akers",
                                    "3": "SF ",
                                    "4": "K    ",
                                    "5": "Todd",
                                    "6": "NULL"
                                },
                                {
                                    "0": "2012",
                                    "1": "8-7 ",
                                    "2": "Mike Wallace",
                                    "3": "Pit",
                                    "4": "WR   ",
                                    "5": "William",
                                    "6": "NULL"
                                },
                                {
                                    "0": "2012",
                                    "1": "8-8 ",
                                    "2": "Jay Cutler",
                                    "3": "Chi",
                                    "4": "QB   ",
                                    "5": "Cody",
                                    "6": "NULL"
                                },
                                {
                                    "0": "2012",
                                    "1": "9-1 ",
                                    "2": "Mason Crosby",
                                    "3": "GB ",
                                    "4": "K    ",
                                    "5": "Cody",
                                    "6": "Jon"
                                },
                                {
                                    "0": "2012",
                                    "1": "9-2 ",
                                    "2": "Andy Dalton",
                                    "3": "Cin",
                                    "4": "QB   ",
                                    "5": "William",
                                    "6": "NULL"
                                },
                                {
                                    "0": "2012",
                                    "1": "9-3 ",
                                    "2": "Torrey Smith",
                                    "3": "Bal",
                                    "4": "WR   ",
                                    "5": "Todd",
                                    "6": "NULL"
                                },
                                {
                                    "0": "2012",
                                    "1": "9-4 ",
                                    "2": "DeAngelo Williams",
                                    "3": "Car",
                                    "4": "RB   ",
                                    "5": "Christine",
                                    "6": "NULL"
                                },
                                {
                                    "0": "2012",
                                    "1": "9-5 ",
                                    "2": "BenJarvus Green-Ellis",
                                    "3": "Cin",
                                    "4": "RB   ",
                                    "5": "Ian",
                                    "6": "NULL"
                                },
                                {
                                    "0": "2012",
                                    "1": "9-6 ",
                                    "2": "Miles Austin",
                                    "3": "Dal",
                                    "4": "WR   ",
                                    "5": "Patrick",
                                    "6": "NULL"
                                },
                                {
                                    "0": "2012",
                                    "1": "9-7 ",
                                    "2": "Justin Blackmon",
                                    "3": "Jac",
                                    "4": "WR   ",
                                    "5": "Brian",
                                    "6": "NULL"
                                },
                                {
                                    "0": "2012",
                                    "1": "9-8 ",
                                    "2": "Lance Moore",
                                    "3": "NO ",
                                    "4": "WR   ",
                                    "5": "Paul",
                                    "6": "NULL"
                                },
                                {
                                    "0": "2012",
                                    "1": "10-1",
                                    "2": "Roy Helu",
                                    "3": "Wsh",
                                    "4": "RB   ",
                                    "5": "Paul",
                                    "6": "NULL"
                                },
                                {
                                    "0": "2012",
                                    "1": "10-2",
                                    "2": "Denarius Moore",
                                    "3": "Oak",
                                    "4": "WR   ",
                                    "5": "Brian",
                                    "6": "NULL"
                                },
                                {
                                    "0": "2012",
                                    "1": "10-3",
                                    "2": "Brandon Lloyd",
                                    "3": "NE ",
                                    "4": "WR   ",
                                    "5": "Patrick",
                                    "6": "NULL"
                                },
                                {
                                    "0": "2012",
                                    "1": "10-4",
                                    "2": "Titus Young",
                                    "3": "Det",
                                    "4": "WR   ",
                                    "5": "Ian",
                                    "6": "NULL"
                                },
                                {
                                    "0": "2012",
                                    "1": "10-5",
                                    "2": "Tim Tebow",
                                    "3": "NYJ",
                                    "4": "QB   ",
                                    "5": "Christine",
                                    "6": "NULL"
                                },
                                {
                                    "0": "2012",
                                    "1": "10-6",
                                    "2": "Jacob Tamme",
                                    "3": "Den",
                                    "4": "TE   ",
                                    "5": "Todd",
                                    "6": "NULL"
                                },
                                {
                                    "0": "2012",
                                    "1": "10-7",
                                    "2": "Alex Henery",
                                    "3": "Phi",
                                    "4": "K    ",
                                    "5": "William",
                                    "6": "NULL"
                                },
                                {
                                    "0": "2012",
                                    "1": "10-8",
                                    "2": "Victor Cruz",
                                    "3": "NYG",
                                    "4": "WR   ",
                                    "5": "Cody",
                                    "6": "NULL"
                                },
                                {
                                    "0": "2012",
                                    "1": "11-1",
                                    "2": "Marshawn Lynch",
                                    "3": "Sea",
                                    "4": "RB   ",
                                    "5": "Cody",
                                    "6": "NULL"
                                },
                                {
                                    "0": "2012",
                                    "1": "11-2",
                                    "2": "Jermaine Gresham",
                                    "3": "Cin",
                                    "4": "TE   ",
                                    "5": "William",
                                    "6": "NULL"
                                },
                                {
                                    "0": "2012",
                                    "1": "11-3",
                                    "2": "Stevan Ridley",
                                    "3": "NE ",
                                    "4": "RB   ",
                                    "5": "Todd",
                                    "6": "NULL"
                                },
                                {
                                    "0": "2012",
                                    "1": "11-4",
                                    "2": "Dwayne Bowe",
                                    "3": "KC ",
                                    "4": "WR   ",
                                    "5": "Christine",
                                    "6": "NULL"
                                },
                                {
                                    "0": "2012",
                                    "1": "11-5",
                                    "2": "Tony Gonzalez",
                                    "3": "Atl",
                                    "4": "TE   ",
                                    "5": "Ian",
                                    "6": "NULL"
                                },
                                {
                                    "0": "2012",
                                    "1": "11-6",
                                    "2": "Reggie Wayne",
                                    "3": "Ind",
                                    "4": "WR   ",
                                    "5": "Patrick",
                                    "6": "NULL"
                                },
                                {
                                    "0": "2012",
                                    "1": "11-7",
                                    "2": "Jake Locker",
                                    "3": "Ten",
                                    "4": "QB   ",
                                    "5": "Brian",
                                    "6": "NULL"
                                },
                                {
                                    "0": "2012",
                                    "1": "11-8",
                                    "2": "Matt Flynn",
                                    "3": "Sea",
                                    "4": "QB   ",
                                    "5": "Paul",
                                    "6": "NULL"
                                },
                                {
                                    "0": "2012",
                                    "1": "12-1",
                                    "2": "C.J. Spiller",
                                    "3": "Buf",
                                    "4": "RB   ",
                                    "5": "Paul",
                                    "6": "NULL"
                                },
                                {
                                    "0": "2012",
                                    "1": "12-2",
                                    "2": "Jared Cook",
                                    "3": "Ten",
                                    "4": "TE   ",
                                    "5": "Brian",
                                    "6": "NULL"
                                },
                                {
                                    "0": "2012",
                                    "1": "12-3",
                                    "2": "Greg Olsen",
                                    "3": "Car",
                                    "4": "TE   ",
                                    "5": "Patrick",
                                    "6": "Adrian"
                                },
                                {
                                    "0": "2012",
                                    "1": "12-4",
                                    "2": "Greg Little",
                                    "3": "Cle",
                                    "4": "WR   ",
                                    "5": "Ian",
                                    "6": "NULL"
                                },
                                {
                                    "0": "2012",
                                    "1": "12-5",
                                    "2": "Anquan Boldin",
                                    "3": "Bal",
                                    "4": "WR   ",
                                    "5": "Christine",
                                    "6": "NULL"
                                },
                                {
                                    "0": "2012",
                                    "1": "12-6",
                                    "2": "Nate Kaeding",
                                    "3": "Mia",
                                    "4": "K    ",
                                    "5": "Todd",
                                    "6": "NULL"
                                },
                                {
                                    "0": "2012",
                                    "1": "12-7",
                                    "2": "Rashad Jennings",
                                    "3": "Jac",
                                    "4": "RB   ",
                                    "5": "William",
                                    "6": "NULL"
                                },
                                {
                                    "0": "2012",
                                    "1": "12-8",
                                    "2": "Michael Vick",
                                    "3": "Phi",
                                    "4": "QB   ",
                                    "5": "Cody",
                                    "6": "NULL"
                                },
                                {
                                    "0": "2012",
                                    "1": "13-1",
                                    "2": "Pierre Thomas",
                                    "3": "NO ",
                                    "4": "RB   ",
                                    "5": "Cody",
                                    "6": "NULL"
                                },
                                {
                                    "0": "2012",
                                    "1": "13-2",
                                    "2": "Ben Tate",
                                    "3": "Hou",
                                    "4": "RB   ",
                                    "5": "William",
                                    "6": "NULL"
                                },
                                {
                                    "0": "2012",
                                    "1": "13-3",
                                    "2": "Demaryius Thomas",
                                    "3": "Den",
                                    "4": "WR   ",
                                    "5": "Todd",
                                    "6": "Todd"
                                },
                                {
                                    "0": "2012",
                                    "1": "13-4",
                                    "2": "Jason Witten",
                                    "3": "Dal",
                                    "4": "TE   ",
                                    "5": "Christine",
                                    "6": "NULL"
                                },
                                {
                                    "0": "2012",
                                    "1": "13-5",
                                    "2": "Dustin Keller",
                                    "3": "NYJ",
                                    "4": "TE   ",
                                    "5": "Ian",
                                    "6": "NULL"
                                },
                                {
                                    "0": "2012",
                                    "1": "13-6",
                                    "2": "Matt Bryant",
                                    "3": "Atl",
                                    "4": "K    ",
                                    "5": "Patrick",
                                    "6": "NULL"
                                },
                                {
                                    "0": "2012",
                                    "1": "13-7",
                                    "2": "Kendall Wright",
                                    "3": "Ten",
                                    "4": "WR   ",
                                    "5": "Brian",
                                    "6": "NULL"
                                },
                                {
                                    "0": "2012",
                                    "1": "13-8",
                                    "2": "Matt Prater",
                                    "3": "Den",
                                    "4": "K    ",
                                    "5": "Paul",
                                    "6": "Paul"
                                },
                                {
                                    "0": "2012",
                                    "1": "14-1",
                                    "2": "Rueben Randle",
                                    "3": "NYG",
                                    "4": "WR   ",
                                    "5": "Paul",
                                    "6": "NULL"
                                },
                                {
                                    "0": "2012",
                                    "1": "14-2",
                                    "2": "Ryan Williams",
                                    "3": "Ari",
                                    "4": "RB   ",
                                    "5": "Brian",
                                    "6": "NULL"
                                },
                                {
                                    "0": "2012",
                                    "1": "14-3",
                                    "2": "Michael Turner",
                                    "3": "Atl",
                                    "4": "RB   ",
                                    "5": "Patrick",
                                    "6": "NULL"
                                },
                                {
                                    "0": "2012",
                                    "1": "14-4",
                                    "2": "Dan Bailey",
                                    "3": "Dal",
                                    "4": "K    ",
                                    "5": "Ian",
                                    "6": "Ian"
                                },
                                {
                                    "0": "2012",
                                    "1": "14-5",
                                    "2": "Sebastian Janikowski",
                                    "3": "Oak",
                                    "4": "K    ",
                                    "5": "Christine",
                                    "6": "NULL"
                                },
                                {
                                    "0": "2012",
                                    "1": "14-6",
                                    "2": "Kyle Rudolph",
                                    "3": "Min",
                                    "4": "TE   ",
                                    "5": "Todd",
                                    "6": "NULL"
                                },
                                {
                                    "0": "2012",
                                    "1": "14-7",
                                    "2": "Coby Fleener",
                                    "3": "Ind",
                                    "4": "TE   ",
                                    "5": "William",
                                    "6": "NULL"
                                },
                                {
                                    "0": "2012",
                                    "1": "14-8",
                                    "2": "Robbie Gould",
                                    "3": "Chi",
                                    "4": "K    ",
                                    "5": "Cody",
                                    "6": "NULL"
                                },
                                {
                                    "0": "2012",
                                    "1": "15-1",
                                    "2": "Vincent Jackson",
                                    "3": "TB ",
                                    "4": "WR   ",
                                    "5": "Cody",
                                    "6": "NULL"
                                },
                                {
                                    "0": "2012",
                                    "1": "15-2",
                                    "2": "Dion Lewis",
                                    "3": "Phi",
                                    "4": "RB   ",
                                    "5": "William",
                                    "6": "NULL"
                                },
                                {
                                    "0": "2012",
                                    "1": "15-3",
                                    "2": "Percy Harvin",
                                    "3": "Min",
                                    "4": "WR   ",
                                    "5": "Todd",
                                    "6": "NULL"
                                },
                                {
                                    "0": "2012",
                                    "1": "15-4",
                                    "2": "Joe Flacco",
                                    "3": "Bal",
                                    "4": "QB   ",
                                    "5": "Christine",
                                    "6": "NULL"
                                },
                                {
                                    "0": "2012",
                                    "1": "15-5",
                                    "2": "Jacquizz Rodgers",
                                    "3": "Atl",
                                    "4": "RB   ",
                                    "5": "Ian",
                                    "6": "NULL"
                                },
                                {
                                    "0": "2012",
                                    "1": "15-6",
                                    "2": "DeSean Jackson",
                                    "3": "Phi",
                                    "4": "WR   ",
                                    "5": "Patrick",
                                    "6": "Adrian"
                                },
                                {
                                    "0": "2012",
                                    "1": "15-7",
                                    "2": "David Wilson",
                                    "3": "NYG",
                                    "4": "RB   ",
                                    "5": "Brian",
                                    "6": "NULL"
                                },
                                {
                                    "0": "2012",
                                    "1": "15-8",
                                    "2": "Mark Sanchez",
                                    "3": "NYJ",
                                    "4": "QB   ",
                                    "5": "Paul",
                                    "6": "NULL"
                                },
                                {
                                    "0": "2012",
                                    "1": "16-1",
                                    "2": "Shonn Greene",
                                    "3": "NYJ",
                                    "4": "RB   ",
                                    "5": "Paul",
                                    "6": "NULL"
                                },
                                {
                                    "0": "2012",
                                    "1": "16-2",
                                    "2": "Fred Davis",
                                    "3": "Wsh",
                                    "4": "TE   ",
                                    "5": "Brian",
                                    "6": "NULL"
                                },
                                {
                                    "0": "2012",
                                    "1": "16-3",
                                    "2": "Peyton Hillis",
                                    "3": "KC ",
                                    "4": "RB   ",
                                    "5": "Patrick",
                                    "6": "NULL"
                                },
                                {
                                    "0": "2012",
                                    "1": "16-4",
                                    "2": "Matt Schaub",
                                    "3": "Hou",
                                    "4": "QB   ",
                                    "5": "Ian",
                                    "6": "NULL"
                                },
                                {
                                    "0": "2012",
                                    "1": "16-5",
                                    "2": "Owen Daniels",
                                    "3": "Hou",
                                    "4": "TE   ",
                                    "5": "Christine",
                                    "6": "NULL"
                                },
                                {
                                    "0": "2012",
                                    "1": "16-6",
                                    "2": "Alex Smith",
                                    "3": "SF ",
                                    "4": "QB   ",
                                    "5": "Todd",
                                    "6": "NULL"
                                },
                                {
                                    "0": "2012",
                                    "1": "16-7",
                                    "2": "Alex Green",
                                    "3": "GB ",
                                    "4": "RB   ",
                                    "5": "William",
                                    "6": "NULL"
                                },
                                {
                                    "0": "2012",
                                    "1": "16-8",
                                    "2": "Nate Washington",
                                    "3": "Ten",
                                    "4": "WR   ",
                                    "5": "Cody",
                                    "6": "NULL"
                                },
                                {
                                    "0": "2012",
                                    "1": "17-1",
                                    "2": "LeGarrette Blount",
                                    "3": "TB ",
                                    "4": "RB   ",
                                    "5": "Cody",
                                    "6": "NULL"
                                },
                                {
                                    "0": "2012",
                                    "1": "17-2",
                                    "2": "Josh Freeman",
                                    "3": "TB ",
                                    "4": "QB   ",
                                    "5": "William",
                                    "6": "NULL"
                                },
                                {
                                    "0": "2012",
                                    "1": "17-3",
                                    "2": "Toby Gerhart",
                                    "3": "Min",
                                    "4": "RB   ",
                                    "5": "Todd",
                                    "6": "NULL"
                                },
                                {
                                    "0": "2012",
                                    "1": "17-4",
                                    "2": "Steve Johnson",
                                    "3": "Buf",
                                    "4": "WR   ",
                                    "5": "Christine",
                                    "6": "NULL"
                                },
                                {
                                    "0": "2012",
                                    "1": "17-5",
                                    "2": "Felix Jones",
                                    "3": "Dal",
                                    "4": "RB   ",
                                    "5": "Ian",
                                    "6": "NULL"
                                },
                                {
                                    "0": "2012",
                                    "1": "17-6",
                                    "2": "Russell Wilson",
                                    "3": "Sea",
                                    "4": "QB   ",
                                    "5": "Patrick",
                                    "6": "Adrian"
                                },
                                {
                                    "0": "2012",
                                    "1": "17-7",
                                    "2": "Rob Bironas",
                                    "3": "Ten",
                                    "4": "K    ",
                                    "5": "Brian",
                                    "6": "NULL"
                                },
                                {
                                    "0": "2012",
                                    "1": "17-8",
                                    "2": "Scott Chandler",
                                    "3": "Buf",
                                    "4": "TE   ",
                                    "5": "Paul",
                                    "6": "NULL"
                                },
                                {
                                    "0": "2012",
                                    "1": "18-1",
                                    "2": "Sidney Rice",
                                    "3": "Sea",
                                    "4": "WR   ",
                                    "5": "Paul",
                                    "6": "NULL"
                                },
                                {
                                    "0": "2012",
                                    "1": "18-2",
                                    "2": "Vincent Brown",
                                    "3": "SD ",
                                    "4": "WR   ",
                                    "5": "Brian",
                                    "6": "NULL"
                                },
                                {
                                    "0": "2012",
                                    "1": "18-3",
                                    "2": "Malcom Floyd",
                                    "3": "SD ",
                                    "4": "WR   ",
                                    "5": "Patrick",
                                    "6": "NULL"
                                },
                                {
                                    "0": "2012",
                                    "1": "18-4",
                                    "2": "Robert Meachem",
                                    "3": "SD ",
                                    "4": "WR   ",
                                    "5": "Ian",
                                    "6": "NULL"
                                },
                                {
                                    "0": "2012",
                                    "1": "18-5",
                                    "2": "Cedric Benson",
                                    "3": "GB ",
                                    "4": "RB   ",
                                    "5": "Christine",
                                    "6": "NULL"
                                },
                                {
                                    "0": "2012",
                                    "1": "18-6",
                                    "2": "Jason Hanson",
                                    "3": "Det",
                                    "4": "K    ",
                                    "5": "Todd",
                                    "6": "NULL"
                                },
                                {
                                    "0": "2012",
                                    "1": "18-7",
                                    "2": "James Jones",
                                    "3": "GB ",
                                    "4": "WR   ",
                                    "5": "William",
                                    "6": "NULL"
                                },
                                {
                                    "0": "2012",
                                    "1": "18-8",
                                    "2": "Santonio Holmes",
                                    "3": "NYJ",
                                    "4": "WR   ",
                                    "5": "Cody",
                                    "6": "NULL"
                                },
                                {
                                    "0": "2012",
                                    "1": "19-1",
                                    "2": "Rashard Mendenhall",
                                    "3": "Pit",
                                    "4": "RB   ",
                                    "5": "Cody",
                                    "6": "NULL"
                                },
                                {
                                    "0": "2012",
                                    "1": "19-2",
                                    "2": "Marcedes Lewis",
                                    "3": "Jac",
                                    "4": "TE   ",
                                    "5": "William",
                                    "6": "NULL"
                                },
                                {
                                    "0": "2012",
                                    "1": "19-3",
                                    "2": "Donald Brown",
                                    "3": "Ind",
                                    "4": "RB   ",
                                    "5": "Todd",
                                    "6": "NULL"
                                },
                                {
                                    "0": "2012",
                                    "1": "19-4",
                                    "2": "Jay Feely",
                                    "3": "Ari",
                                    "4": "K    ",
                                    "5": "Christine",
                                    "6": "NULL"
                                },
                                {
                                    "0": "2012",
                                    "1": "19-5",
                                    "2": "Chris Ivory",
                                    "3": "NO ",
                                    "4": "RB   ",
                                    "5": "Ian",
                                    "6": "NULL"
                                },
                                {
                                    "0": "2012",
                                    "1": "19-6",
                                    "2": "Darrius Heyward-Bey",
                                    "3": "Oak",
                                    "4": "WR   ",
                                    "5": "Patrick",
                                    "6": "NULL"
                                },
                                {
                                    "0": "2012",
                                    "1": "19-7",
                                    "2": "Dwayne Allen",
                                    "3": "Ind",
                                    "4": "TE   ",
                                    "5": "Brian",
                                    "6": "NULL"
                                },
                                {
                                    "0": "2012",
                                    "1": "19-8",
                                    "2": "Laurent Robinson",
                                    "3": "Jac",
                                    "4": "WR   ",
                                    "5": "Paul",
                                    "6": "NULL"
                                },
                                {
                                    "0": "2012",
                                    "1": "20-1",
                                    "2": "Kevin Smith",
                                    "3": "Det",
                                    "4": "RB   ",
                                    "5": "Paul",
                                    "6": "NULL"
                                },
                                {
                                    "0": "2012",
                                    "1": "20-2",
                                    "2": "Greg Zuerlein",
                                    "3": "StL",
                                    "4": "K    ",
                                    "5": "Brian",
                                    "6": "NULL"
                                },
                                {
                                    "0": "2012",
                                    "1": "20-3",
                                    "2": "Dallas Clark",
                                    "3": "TB ",
                                    "4": "TE   ",
                                    "5": "Patrick",
                                    "6": "NULL"
                                },
                                {
                                    "0": "2012",
                                    "1": "20-4",
                                    "2": "Santana Moss",
                                    "3": "Wsh",
                                    "4": "WR   ",
                                    "5": "Ian",
                                    "6": "NULL"
                                },
                                {
                                    "0": "2012",
                                    "1": "20-5",
                                    "2": "Brandon LaFell",
                                    "3": "Car",
                                    "4": "WR   ",
                                    "5": "Christine",
                                    "6": "NULL"
                                },
                                {
                                    "0": "2012",
                                    "1": "20-6",
                                    "2": "Randall Cobb",
                                    "3": "GB ",
                                    "4": "WR   ",
                                    "5": "Todd",
                                    "6": "Todd"
                                },
                                {
                                    "0": "2012",
                                    "1": "20-7",
                                    "2": "Javon Ringer",
                                    "3": "Ten",
                                    "4": "RB   ",
                                    "5": "William",
                                    "6": "NULL"
                                },
                                {
                                    "0": "2012",
                                    "1": "20-8",
                                    "2": "Carson Palmer",
                                    "3": "Oak",
                                    "4": "QB   ",
                                    "5": "Cody",
                                    "6": "NULL"
                                },
                                {
                                    "0": "2012",
                                    "1": "21-1",
                                    "2": "Mike Nugent",
                                    "3": "Cin",
                                    "4": "K    ",
                                    "5": "Cody",
                                    "6": "NULL"
                                },
                                {
                                    "0": "2012",
                                    "1": "21-2",
                                    "2": "Shayne Graham",
                                    "3": "Hou",
                                    "4": "K    ",
                                    "5": "William",
                                    "6": "NULL"
                                },
                                {
                                    "0": "2012",
                                    "1": "21-3",
                                    "2": "Isaac Redman",
                                    "3": "Pit",
                                    "4": "RB   ",
                                    "5": "Todd",
                                    "6": "NULL"
                                },
                                {
                                    "0": "2012",
                                    "1": "21-4",
                                    "2": "Christian Ponder",
                                    "3": "Min",
                                    "4": "QB   ",
                                    "5": "Christine",
                                    "6": "NULL"
                                },
                                {
                                    "0": "2012",
                                    "1": "21-5",
                                    "2": "Jonathan Stewart",
                                    "3": "Car",
                                    "4": "RB   ",
                                    "5": "Ian",
                                    "6": "NULL"
                                },
                                {
                                    "0": "2012",
                                    "1": "21-6",
                                    "2": "Mario Manningham",
                                    "3": "SF ",
                                    "4": "WR   ",
                                    "5": "Patrick",
                                    "6": "NULL"
                                },
                                {
                                    "0": "2012",
                                    "1": "21-7",
                                    "2": "Ronnie Hillman",
                                    "3": "Den",
                                    "4": "RB   ",
                                    "5": "Brian",
                                    "6": "NULL"
                                },
                                {
                                    "0": "2012",
                                    "1": "21-8",
                                    "2": "Matt Cassel",
                                    "3": "KC ",
                                    "4": "QB   ",
                                    "5": "Paul",
                                    "6": "NULL"
                                },
                                {
                                    "0": "2012",
                                    "1": "22-1",
                                    "2": "Brandon Jacobs",
                                    "3": "SF ",
                                    "4": "RB   ",
                                    "5": "Paul",
                                    "6": "NULL"
                                },
                                {
                                    "0": "2012",
                                    "1": "22-2",
                                    "2": "Kenny Britt",
                                    "3": "Ten",
                                    "4": "WR   ",
                                    "5": "Brian",
                                    "6": "NULL"
                                },
                                {
                                    "0": "2012",
                                    "1": "22-3",
                                    "2": "LaMichael James",
                                    "3": "SF ",
                                    "4": "RB   ",
                                    "5": "Patrick",
                                    "6": "NULL"
                                },
                                {
                                    "0": "2012",
                                    "1": "22-4",
                                    "2": "Mohamed Sanu",
                                    "3": "Cin",
                                    "4": "WR   ",
                                    "5": "Ian",
                                    "6": "Ian"
                                },
                                {
                                    "0": "2012",
                                    "1": "22-5",
                                    "2": "Nate Burleson",
                                    "3": "Det",
                                    "4": "WR   ",
                                    "5": "Christine",
                                    "6": "NULL"
                                },
                                {
                                    "0": "2012",
                                    "1": "22-6",
                                    "2": "Evan Royster",
                                    "3": "Wsh",
                                    "4": "RB   ",
                                    "5": "Todd",
                                    "6": "NULL"
                                },
                                {
                                    "0": "2012",
                                    "1": "22-7",
                                    "2": "Emmanuel Sanders",
                                    "3": "Pit",
                                    "4": "WR   ",
                                    "5": "William",
                                    "6": "William"
                                },
                                {
                                    "0": "2012",
                                    "1": "22-8",
                                    "2": "Randy Moss",
                                    "3": "SF ",
                                    "4": "WR   ",
                                    "5": "Cody",
                                    "6": "NULL"
                                },
                                {
                                    "0": "2012",
                                    "1": "23-1",
                                    "2": "Joe McKnight",
                                    "3": "NYJ",
                                    "4": "RB   ",
                                    "5": "Cody",
                                    "6": "NULL"
                                },
                                {
                                    "0": "2012",
                                    "1": "23-2",
                                    "2": "Ryan Tannehill",
                                    "3": "Mia",
                                    "4": "QB   ",
                                    "5": "William",
                                    "6": "NULL"
                                },
                                {
                                    "0": "2012",
                                    "1": "23-3",
                                    "2": "Michael Floyd",
                                    "3": "Ari",
                                    "4": "WR   ",
                                    "5": "Todd",
                                    "6": "NULL"
                                },
                                {
                                    "0": "2012",
                                    "1": "23-4",
                                    "2": "Daniel Thomas",
                                    "3": "Mia",
                                    "4": "RB   ",
                                    "5": "Christine",
                                    "6": "NULL"
                                },
                                {
                                    "0": "2012",
                                    "1": "23-5",
                                    "2": "Mike Tolbert",
                                    "3": "Car",
                                    "4": "RB   ",
                                    "5": "Ian",
                                    "6": "NULL"
                                },
                                {
                                    "0": "2012",
                                    "1": "23-6",
                                    "2": "Dexter McCluster",
                                    "3": "KC ",
                                    "4": "RB   ",
                                    "5": "Patrick",
                                    "6": "NULL"
                                },
                                {
                                    "0": "2012",
                                    "1": "23-7",
                                    "2": "Mikel Leshoure",
                                    "3": "Det",
                                    "4": "RB   ",
                                    "5": "Brian",
                                    "6": "NULL"
                                },
                                {
                                    "0": "2012",
                                    "1": "23-8",
                                    "2": "Ed Dickson",
                                    "3": "Bal",
                                    "4": "TE   ",
                                    "5": "Paul",
                                    "6": "NULL"
                                },
                                {
                                    "0": "2012",
                                    "1": "24-1",
                                    "2": "Devery Henderson",
                                    "3": "NO ",
                                    "4": "WR   ",
                                    "5": "Paul",
                                    "6": "NULL"
                                },
                                {
                                    "0": "2012",
                                    "1": "24-2",
                                    "2": "Ryan Fitzpatrick",
                                    "3": "Buf",
                                    "4": "QB   ",
                                    "5": "Brian",
                                    "6": "NULL"
                                },
                                {
                                    "0": "2012",
                                    "1": "24-3",
                                    "2": "Adam Vinatieri",
                                    "3": "Ind",
                                    "4": "K    ",
                                    "5": "Patrick",
                                    "6": "Adrian"
                                },
                                {
                                    "0": "2012",
                                    "1": "24-4",
                                    "2": "Lance Ball",
                                    "3": "Den",
                                    "4": "RB   ",
                                    "5": "Ian",
                                    "6": "NULL"
                                },
                                {
                                    "0": "2012",
                                    "1": "24-5",
                                    "2": "Bernard Scott",
                                    "3": "Cin",
                                    "4": "RB   ",
                                    "5": "Christine",
                                    "6": "NULL"
                                },
                                {
                                    "0": "2012",
                                    "1": "24-6",
                                    "2": "Pierre Garcon",
                                    "3": "Wsh",
                                    "4": "WR   ",
                                    "5": "Todd",
                                    "6": "NULL"
                                },
                                {
                                    "0": "2012",
                                    "1": "24-7",
                                    "2": "Eddie Royal",
                                    "3": "SD ",
                                    "4": "WR   ",
                                    "5": "William",
                                    "6": "NULL"
                                },
                                {
                                    "0": "2012",
                                    "1": "24-8",
                                    "2": "Evan Moore",
                                    "3": "Phi",
                                    "4": "TE   ",
                                    "5": "Cody",
                                    "6": "NULL"
                                },
                                {
                                    "0": "2012",
                                    "1": "25-1",
                                    "2": "John Carlson",
                                    "3": "Min",
                                    "4": "TE   ",
                                    "5": "Cody",
                                    "6": "NULL"
                                },
                                {
                                    "0": "2012",
                                    "1": "25-2",
                                    "2": "Michael Bush",
                                    "3": "Chi",
                                    "4": "RB   ",
                                    "5": "William",
                                    "6": "NULL"
                                },
                                {
                                    "0": "2012",
                                    "1": "25-3",
                                    "2": "Vick Ballard",
                                    "3": "Ind",
                                    "4": "RB   ",
                                    "5": "Todd",
                                    "6": "NULL"
                                },
                                {
                                    "0": "2012",
                                    "1": "25-4",
                                    "2": "Martellus Bennett",
                                    "3": "NYG",
                                    "4": "TE   ",
                                    "5": "Christine",
                                    "6": "NULL"
                                },
                                {
                                    "0": "2012",
                                    "1": "25-5",
                                    "2": "Kellen Davis",
                                    "3": "Chi",
                                    "4": "TE   ",
                                    "5": "Ian",
                                    "6": "NULL"
                                },
                                {
                                    "0": "2012",
                                    "1": "25-6",
                                    "2": "Michael Crabtree",
                                    "3": "SF ",
                                    "4": "WR   ",
                                    "5": "Patrick",
                                    "6": "NULL"
                                },
                                {
                                    "0": "2012",
                                    "1": "25-7",
                                    "2": "Chris Rainey",
                                    "3": "Pit",
                                    "4": "RB   ",
                                    "5": "Brian",
                                    "6": "NULL"
                                },
                                {
                                    "0": "2012",
                                    "1": "25-8",
                                    "2": "Isaiah Pead",
                                    "3": "StL",
                                    "4": "RB   ",
                                    "5": "Paul",
                                    "6": "NULL"
                                },
                                {
                                    "0": "2013",
                                    "1": "1-1 ",
                                    "2": "Colin Kaepernick",
                                    "3": "SF ",
                                    "4": "QB   ",
                                    "5": "Christine",
                                    "6": "NULL"
                                },
                                {
                                    "0": "2013",
                                    "1": "1-2 ",
                                    "2": "Alfred Morris",
                                    "3": "Wsh",
                                    "4": "RB   ",
                                    "5": "Paul",
                                    "6": "NULL"
                                },
                                {
                                    "0": "2013",
                                    "1": "1-3 ",
                                    "2": "Victor Cruz",
                                    "3": "NYG",
                                    "4": "WR   ",
                                    "5": "Brian",
                                    "6": "NULL"
                                },
                                {
                                    "0": "2013",
                                    "1": "1-4 ",
                                    "2": "Eddie Lacy",
                                    "3": "GB ",
                                    "4": "RB   ",
                                    "5": "Cody",
                                    "6": "NULL"
                                },
                                {
                                    "0": "2013",
                                    "1": "1-5 ",
                                    "2": "Montee Ball",
                                    "3": "Den",
                                    "4": "RB   ",
                                    "5": "William",
                                    "6": "NULL"
                                },
                                {
                                    "0": "2013",
                                    "1": "1-6 ",
                                    "2": "Kenny Stills",
                                    "3": "NO ",
                                    "4": "WR   ",
                                    "5": "Ian",
                                    "6": "NULL"
                                },
                                {
                                    "0": "2013",
                                    "1": "1-7 ",
                                    "2": "Giovani Bernard",
                                    "3": "Cin",
                                    "4": "RB   ",
                                    "5": "Todd",
                                    "6": "NULL"
                                },
                                {
                                    "0": "2013",
                                    "1": "1-8 ",
                                    "2": "Lamar Miller",
                                    "3": "Mia",
                                    "4": "RB   ",
                                    "5": "Patrick",
                                    "6": "NULL"
                                },
                                {
                                    "0": "2013",
                                    "1": "2-1 ",
                                    "2": "Tavon Austin",
                                    "3": "StL",
                                    "4": "WR   ",
                                    "5": "Patrick",
                                    "6": "NULL"
                                },
                                {
                                    "0": "2013",
                                    "1": "2-2 ",
                                    "2": "DeAndre Hopkins",
                                    "3": "Hou",
                                    "4": "WR   ",
                                    "5": "Todd",
                                    "6": "Todd"
                                },
                                {
                                    "0": "2013",
                                    "1": "2-3 ",
                                    "2": "Cordarrelle Patterson",
                                    "3": "Min",
                                    "4": "WR   ",
                                    "5": "Ian",
                                    "6": "Ian"
                                },
                                {
                                    "0": "2013",
                                    "1": "2-4 ",
                                    "2": "Danny Amendola",
                                    "3": "NE ",
                                    "4": "WR   ",
                                    "5": "William",
                                    "6": "NULL"
                                },
                                {
                                    "0": "2013",
                                    "1": "2-5 ",
                                    "2": "Sidney Rice",
                                    "3": "Sea",
                                    "4": "WR   ",
                                    "5": "Cody",
                                    "6": "NULL"
                                },
                                {
                                    "0": "2013",
                                    "1": "2-6 ",
                                    "2": "T.Y. Hilton",
                                    "3": "Ind",
                                    "4": "WR   ",
                                    "5": "Brian",
                                    "6": "NULL"
                                },
                                {
                                    "0": "2013",
                                    "1": "2-7 ",
                                    "2": "Golden Tate",
                                    "3": "Det",
                                    "4": "WR   ",
                                    "5": "Paul",
                                    "6": "Paul"
                                },
                                {
                                    "0": "2013",
                                    "1": "2-8 ",
                                    "2": "Greg Jennings",
                                    "3": "Min",
                                    "4": "WR   ",
                                    "5": "Christine",
                                    "6": "NULL"
                                },
                                {
                                    "0": "2013",
                                    "1": "3-1 ",
                                    "2": "Cecil Shorts",
                                    "3": "Jac",
                                    "4": "WR   ",
                                    "5": "Christine",
                                    "6": "NULL"
                                },
                                {
                                    "0": "2013",
                                    "1": "3-2 ",
                                    "2": "Mike Williams",
                                    "3": "Buf",
                                    "4": "WR   ",
                                    "5": "Paul",
                                    "6": "NULL"
                                },
                                {
                                    "0": "2013",
                                    "1": "3-3 ",
                                    "2": "Tyler Eifert",
                                    "3": "Cin",
                                    "4": "TE   ",
                                    "5": "Brian",
                                    "6": "Brian"
                                },
                                {
                                    "0": "2013",
                                    "1": "3-4 ",
                                    "2": "Shane Vereen",
                                    "3": "NE ",
                                    "4": "RB   ",
                                    "5": "Cody",
                                    "6": "NULL"
                                },
                                {
                                    "0": "2013",
                                    "1": "3-5 ",
                                    "2": "Brandon Myers",
                                    "3": "TB ",
                                    "4": "TE   ",
                                    "5": "William",
                                    "6": "NULL"
                                },
                                {
                                    "0": "2013",
                                    "1": "3-6 ",
                                    "2": "Dwayne Allen",
                                    "3": "Ind",
                                    "4": "TE   ",
                                    "5": "Ian",
                                    "6": "NULL"
                                },
                                {
                                    "0": "2013",
                                    "1": "3-7 ",
                                    "2": "Justin Tucker",
                                    "3": "Bal",
                                    "4": "K    ",
                                    "5": "Todd",
                                    "6": "Todd"
                                },
                                {
                                    "0": "2013",
                                    "1": "3-8 ",
                                    "2": "Rashard Mendenhall",
                                    "3": "Ari",
                                    "4": "RB   ",
                                    "5": "Patrick",
                                    "6": "NULL"
                                },
                                {
                                    "0": "2013",
                                    "1": "4-1 ",
                                    "2": "Rueben Randle",
                                    "3": "NYG",
                                    "4": "WR   ",
                                    "5": "Patrick",
                                    "6": "NULL"
                                },
                                {
                                    "0": "2013",
                                    "1": "4-2 ",
                                    "2": "LeVeon Bell",
                                    "3": "Pit",
                                    "4": "RB   ",
                                    "5": "Todd",
                                    "6": "Todd"
                                },
                                {
                                    "0": "2013",
                                    "1": "4-3 ",
                                    "2": "Markus Wheaton",
                                    "3": "Pit",
                                    "4": "WR   ",
                                    "5": "Ian",
                                    "6": "NULL"
                                },
                                {
                                    "0": "2013",
                                    "1": "4-4 ",
                                    "2": "Marvin Jones Jr.",
                                    "3": "Cin",
                                    "4": "WR   ",
                                    "5": "William",
                                    "6": "NULL"
                                },
                                {
                                    "0": "2013",
                                    "1": "4-5 ",
                                    "2": "Blair Walsh",
                                    "3": "Min",
                                    "4": "K    ",
                                    "5": "Cody",
                                    "6": "NULL"
                                },
                                {
                                    "0": "2013",
                                    "1": "4-6 ",
                                    "2": "Jordan Cameron",
                                    "3": "Cle",
                                    "4": "TE   ",
                                    "5": "Brian",
                                    "6": "NULL"
                                },
                                {
                                    "0": "2013",
                                    "1": "4-7 ",
                                    "2": "Bryce Brown",
                                    "3": "Phi",
                                    "4": "RB   ",
                                    "5": "Paul",
                                    "6": "NULL"
                                },
                                {
                                    "0": "2013",
                                    "1": "4-8 ",
                                    "2": "Andre Brown",
                                    "3": "Hou",
                                    "4": "RB   ",
                                    "5": "Christine",
                                    "6": "NULL"
                                },
                                {
                                    "0": "2013",
                                    "1": "5-1 ",
                                    "2": "Martellus Bennett",
                                    "3": "Chi",
                                    "4": "TE   ",
                                    "5": "Christine",
                                    "6": "NULL"
                                },
                                {
                                    "0": "2013",
                                    "1": "5-2 ",
                                    "2": "Fred Davis",
                                    "3": "Wsh",
                                    "4": "TE   ",
                                    "5": "Paul",
                                    "6": "NULL"
                                },
                                {
                                    "0": "2013",
                                    "1": "5-3 ",
                                    "2": "Christine Michael",
                                    "3": "Sea",
                                    "4": "RB   ",
                                    "5": "Brian",
                                    "6": "NULL"
                                },
                                {
                                    "0": "2013",
                                    "1": "5-4 ",
                                    "2": "Coby Fleener",
                                    "3": "Ind",
                                    "4": "TE   ",
                                    "5": "Cody",
                                    "6": "NULL"
                                },
                                {
                                    "0": "2013",
                                    "1": "5-5 ",
                                    "2": "Brock Osweiler",
                                    "3": "Den",
                                    "4": "QB   ",
                                    "5": "William",
                                    "6": "NULL"
                                },
                                {
                                    "0": "2013",
                                    "1": "5-6 ",
                                    "2": "Mike Gillislee",
                                    "3": "Mia",
                                    "4": "RB   ",
                                    "5": "Ian",
                                    "6": "NULL"
                                },
                                {
                                    "0": "2013",
                                    "1": "5-7 ",
                                    "2": "Marcus Lattimore",
                                    "3": "SF ",
                                    "4": "RB   ",
                                    "5": "Todd",
                                    "6": "NULL"
                                },
                                {
                                    "0": "2013",
                                    "1": "5-8 ",
                                    "2": "Julius Thomas",
                                    "3": "Den",
                                    "4": "TE   ",
                                    "5": "Patrick",
                                    "6": "NULL"
                                },
                                {
                                    "0": "2013",
                                    "1": "6-1 ",
                                    "2": "Vick Ballard",
                                    "3": "Ind",
                                    "4": "RB   ",
                                    "5": "Patrick",
                                    "6": "NULL"
                                },
                                {
                                    "0": "2013",
                                    "1": "6-2 ",
                                    "2": "Zach Sudfeld",
                                    "3": "NYJ",
                                    "4": "TE   ",
                                    "5": "Todd",
                                    "6": "NULL"
                                },
                                {
                                    "0": "2013",
                                    "1": "6-3 ",
                                    "2": "Rob Bironas",
                                    "3": "Ten",
                                    "4": "K    ",
                                    "5": "Ian",
                                    "6": "NULL"
                                },
                                {
                                    "0": "2013",
                                    "1": "6-4 ",
                                    "2": "Kenbrell Thompkins",
                                    "3": "NE ",
                                    "4": "WR   ",
                                    "5": "William",
                                    "6": "NULL"
                                },
                                {
                                    "0": "2013",
                                    "1": "6-5 ",
                                    "2": "Sam Bradford",
                                    "3": "StL",
                                    "4": "QB   ",
                                    "5": "Cody",
                                    "6": "NULL"
                                },
                                {
                                    "0": "2013",
                                    "1": "6-6 ",
                                    "2": "EJ Manuel",
                                    "3": "Buf",
                                    "4": "QB   ",
                                    "5": "Brian",
                                    "6": "NULL"
                                },
                                {
                                    "0": "2013",
                                    "1": "6-7 ",
                                    "2": "Brandon Weeden",
                                    "3": "Dal",
                                    "4": "QB   ",
                                    "5": "Paul",
                                    "6": "NULL"
                                },
                                {
                                    "0": "2013",
                                    "1": "6-8 ",
                                    "2": "Daryl Richardson",
                                    "3": "StL",
                                    "4": "RB   ",
                                    "5": "Christine",
                                    "6": "NULL"
                                },
                                {
                                    "0": "2013",
                                    "1": "7-1 ",
                                    "2": "Christian Ponder",
                                    "3": "Min",
                                    "4": "QB   ",
                                    "5": "Christine",
                                    "6": "NULL"
                                },
                                {
                                    "0": "2013",
                                    "1": "7-2 ",
                                    "2": "Randy Bullock",
                                    "3": "Hou",
                                    "4": "K    ",
                                    "5": "Paul",
                                    "6": "NULL"
                                },
                                {
                                    "0": "2013",
                                    "1": "7-3 ",
                                    "2": "Phil Dawson",
                                    "3": "SF ",
                                    "4": "K    ",
                                    "5": "Brian",
                                    "6": "NULL"
                                },
                                {
                                    "0": "2013",
                                    "1": "7-4 ",
                                    "2": "Jacquizz Rodgers",
                                    "3": "Atl",
                                    "4": "RB   ",
                                    "5": "Cody",
                                    "6": "NULL"
                                },
                                {
                                    "0": "2013",
                                    "1": "7-5 ",
                                    "2": "Aaron Dobson",
                                    "3": "NE ",
                                    "4": "WR   ",
                                    "5": "William",
                                    "6": "NULL"
                                },
                                {
                                    "0": "2013",
                                    "1": "7-6 ",
                                    "2": "Andre Ellington",
                                    "3": "Ari",
                                    "4": "RB   ",
                                    "5": "Ian",
                                    "6": "NULL"
                                },
                                {
                                    "0": "2013",
                                    "1": "7-7 ",
                                    "2": "Zach Ertz",
                                    "3": "Phi",
                                    "4": "TE   ",
                                    "5": "Todd",
                                    "6": "NULL"
                                },
                                {
                                    "0": "2013",
                                    "1": "7-8 ",
                                    "2": "Ronnie Hillman",
                                    "3": "Den",
                                    "4": "RB   ",
                                    "5": "Patrick",
                                    "6": "NULL"
                                },
                                {
                                    "0": "2013",
                                    "1": "8-1 ",
                                    "2": "Riley Cooper",
                                    "3": "Phi",
                                    "4": "WR   ",
                                    "5": "Patrick",
                                    "6": "NULL"
                                },
                                {
                                    "0": "2013",
                                    "1": "8-2 ",
                                    "2": "Bernard Pierce",
                                    "3": "Bal",
                                    "4": "RB   ",
                                    "5": "Todd",
                                    "6": "NULL"
                                },
                                {
                                    "0": "2013",
                                    "1": "8-3 ",
                                    "2": "Zac Stacy",
                                    "3": "StL",
                                    "4": "RB   ",
                                    "5": "Ian",
                                    "6": "NULL"
                                },
                                {
                                    "0": "2013",
                                    "1": "8-4 ",
                                    "2": "T.J. Yates",
                                    "3": "Hou",
                                    "4": "QB   ",
                                    "5": "William",
                                    "6": "NULL"
                                },
                                {
                                    "0": "2013",
                                    "1": "8-5 ",
                                    "2": "Chris Givens",
                                    "3": "StL",
                                    "4": "WR   ",
                                    "5": "Cody",
                                    "6": "NULL"
                                },
                                {
                                    "0": "2013",
                                    "1": "8-6 ",
                                    "2": "Knile Davis",
                                    "3": "KC ",
                                    "4": "RB   ",
                                    "5": "Brian",
                                    "6": "NULL"
                                },
                                {
                                    "0": "2013",
                                    "1": "8-7 ",
                                    "2": "Geno Smith",
                                    "3": "NYJ",
                                    "4": "QB   ",
                                    "5": "Paul",
                                    "6": "NULL"
                                },
                                {
                                    "0": "2013",
                                    "1": "8-8 ",
                                    "2": "Ryan Broyles",
                                    "3": "Det",
                                    "4": "WR   ",
                                    "5": "Christine",
                                    "6": "NULL"
                                },
                                {
                                    "0": "2014",
                                    "1": "1-1 ",
                                    "2": "Nick Foles",
                                    "3": "StL",
                                    "4": "QB   ",
                                    "5": "William",
                                    "6": "NULL"
                                },
                                {
                                    "0": "2014",
                                    "1": "1-2 ",
                                    "2": "Blake Bortles",
                                    "3": "Jac",
                                    "4": "QB   ",
                                    "5": "Todd",
                                    "6": "NULL"
                                },
                                {
                                    "0": "2014",
                                    "1": "1-3 ",
                                    "2": "Knowshon Moreno",
                                    "3": "Mia",
                                    "4": "RB   ",
                                    "5": "Ian",
                                    "6": "NULL"
                                },
                                {
                                    "0": "2014",
                                    "1": "1-4 ",
                                    "2": "Alshon Jeffery",
                                    "3": "Chi",
                                    "4": "WR   ",
                                    "5": "Paul",
                                    "6": "Paul"
                                },
                                {
                                    "0": "2014",
                                    "1": "1-5 ",
                                    "2": "Rashad Jennings",
                                    "3": "NYG",
                                    "4": "RB   ",
                                    "5": "Christine",
                                    "6": "NULL"
                                },
                                {
                                    "0": "2014",
                                    "1": "1-6 ",
                                    "2": "Zach Ertz",
                                    "3": "Phi",
                                    "4": "TE   ",
                                    "5": "Cody",
                                    "6": "NULL"
                                },
                                {
                                    "0": "2014",
                                    "1": "1-7 ",
                                    "2": "Bishop Sankey",
                                    "3": "Ten",
                                    "4": "RB   ",
                                    "5": "Patrick",
                                    "6": "NULL"
                                },
                                {
                                    "0": "2014",
                                    "1": "1-8 ",
                                    "2": "Carlos Hyde",
                                    "3": "SF ",
                                    "4": "RB   ",
                                    "5": "Brian",
                                    "6": "NULL"
                                },
                                {
                                    "0": "2014",
                                    "1": "2-1 ",
                                    "2": "Sammy Watkins",
                                    "3": "Buf",
                                    "4": "WR   ",
                                    "5": "Brian",
                                    "6": "Brian"
                                },
                                {
                                    "0": "2014",
                                    "1": "2-2 ",
                                    "2": "Stevan Ridley",
                                    "3": "NYJ",
                                    "4": "RB   ",
                                    "5": "Patrick",
                                    "6": "NULL"
                                },
                                {
                                    "0": "2014",
                                    "1": "2-3 ",
                                    "2": "Maurice Jones-Drew",
                                    "3": "Oak",
                                    "4": "RB   ",
                                    "5": "Cody",
                                    "6": "NULL"
                                },
                                {
                                    "0": "2014",
                                    "1": "2-4 ",
                                    "2": "Mike Evans",
                                    "3": "TB ",
                                    "4": "WR   ",
                                    "5": "Christine",
                                    "6": "NULL"
                                },
                                {
                                    "0": "2014",
                                    "1": "2-5 ",
                                    "2": "Jerricho Cotchery",
                                    "3": "Car",
                                    "4": "WR   ",
                                    "5": "Paul",
                                    "6": "NULL"
                                },
                                {
                                    "0": "2014",
                                    "1": "2-6 ",
                                    "2": "Josh McCown",
                                    "3": "Cle",
                                    "4": "QB   ",
                                    "5": "Ian",
                                    "6": "NULL"
                                },
                                {
                                    "0": "2014",
                                    "1": "2-7 ",
                                    "2": "Jordan Matthews",
                                    "3": "Phi",
                                    "4": "WR   ",
                                    "5": "Todd",
                                    "6": "NULL"
                                },
                                {
                                    "0": "2014",
                                    "1": "2-8 ",
                                    "2": "Jeremy Maclin",
                                    "3": "KC ",
                                    "4": "WR   ",
                                    "5": "William",
                                    "6": "NULL"
                                },
                                {
                                    "0": "2014",
                                    "1": "3-1 ",
                                    "2": "Ladarius Green",
                                    "3": "SD ",
                                    "4": "TE   ",
                                    "5": "William",
                                    "6": "NULL"
                                },
                                {
                                    "0": "2014",
                                    "1": "3-2 ",
                                    "2": "Terrance West",
                                    "3": "Cle",
                                    "4": "RB   ",
                                    "5": "Todd",
                                    "6": "NULL"
                                },
                                {
                                    "0": "2014",
                                    "1": "3-3 ",
                                    "2": "Jordan Reed",
                                    "3": "Wsh",
                                    "4": "TE   ",
                                    "5": "Ian",
                                    "6": "Ian"
                                },
                                {
                                    "0": "2014",
                                    "1": "3-4 ",
                                    "2": "Odell Beckham Jr.",
                                    "3": "NYG",
                                    "4": "WR   ",
                                    "5": "Paul",
                                    "6": "Paul"
                                },
                                {
                                    "0": "2014",
                                    "1": "3-5 ",
                                    "2": "BenJarvus Green-Ellis",
                                    "3": "Cin",
                                    "4": "RB   ",
                                    "5": "Christine",
                                    "6": "NULL"
                                },
                                {
                                    "0": "2014",
                                    "1": "3-6 ",
                                    "2": "Torrey Smith",
                                    "3": "SF ",
                                    "4": "WR   ",
                                    "5": "Cody",
                                    "6": "NULL"
                                },
                                {
                                    "0": "2014",
                                    "1": "3-7 ",
                                    "2": "Ray Rice",
                                    "3": "FA ",
                                    "4": "RB   ",
                                    "5": "Patrick",
                                    "6": "NULL"
                                },
                                {
                                    "0": "2014",
                                    "1": "3-8 ",
                                    "2": "Brandin Cooks",
                                    "3": "NO ",
                                    "4": "WR   ",
                                    "5": "Brian",
                                    "6": "NULL"
                                },
                                {
                                    "0": "2014",
                                    "1": "4-1 ",
                                    "2": "Eric Ebron",
                                    "3": "Det",
                                    "4": "TE   ",
                                    "5": "Brian",
                                    "6": "NULL"
                                },
                                {
                                    "0": "2014",
                                    "1": "4-2 ",
                                    "2": "Julian Edelman",
                                    "3": "NE ",
                                    "4": "WR   ",
                                    "5": "Patrick",
                                    "6": "NULL"
                                },
                                {
                                    "0": "2014",
                                    "1": "4-3 ",
                                    "2": "Joique Bell",
                                    "3": "Det",
                                    "4": "RB   ",
                                    "5": "Cody",
                                    "6": "NULL"
                                },
                                {
                                    "0": "2014",
                                    "1": "4-4 ",
                                    "2": "Alex Smith",
                                    "3": "KC ",
                                    "4": "QB   ",
                                    "5": "Christine",
                                    "6": "NULL"
                                },
                                {
                                    "0": "2014",
                                    "1": "4-5 ",
                                    "2": "Johnny Manziel",
                                    "3": "Cle",
                                    "4": "QB   ",
                                    "5": "Paul",
                                    "6": "NULL"
                                },
                                {
                                    "0": "2014",
                                    "1": "4-6 ",
                                    "2": "Michael Crabtree",
                                    "3": "Oak",
                                    "4": "WR   ",
                                    "5": "Ian",
                                    "6": "Ian"
                                },
                                {
                                    "0": "2014",
                                    "1": "4-7 ",
                                    "2": "Austin Seferian-Jenkins",
                                    "3": "TB ",
                                    "4": "TE   ",
                                    "5": "Todd",
                                    "6": "NULL"
                                },
                                {
                                    "0": "2014",
                                    "1": "4-8 ",
                                    "2": "Dexter McCluster",
                                    "3": "Ten",
                                    "4": "WR   ",
                                    "5": "William",
                                    "6": "NULL"
                                },
                                {
                                    "0": "2014",
                                    "1": "5-1 ",
                                    "2": "Khiry Robinson",
                                    "3": "NO ",
                                    "4": "RB   ",
                                    "5": "William",
                                    "6": "NULL"
                                },
                                {
                                    "0": "2014",
                                    "1": "5-2 ",
                                    "2": "Kelvin Benjamin",
                                    "3": "Car",
                                    "4": "WR   ",
                                    "5": "Todd",
                                    "6": "NULL"
                                },
                                {
                                    "0": "2014",
                                    "1": "5-3 ",
                                    "2": "Dennis Pitta",
                                    "3": "Bal",
                                    "4": "TE   ",
                                    "5": "Ian",
                                    "6": "NULL"
                                },
                                {
                                    "0": "2014",
                                    "1": "5-4 ",
                                    "2": "Charles Clay",
                                    "3": "Buf",
                                    "4": "TE   ",
                                    "5": "Paul",
                                    "6": "NULL"
                                },
                                {
                                    "0": "2014",
                                    "1": "5-5 ",
                                    "2": "Terrance Williams",
                                    "3": "Dal",
                                    "4": "WR   ",
                                    "5": "Christine",
                                    "6": "NULL"
                                },
                                {
                                    "0": "2014",
                                    "1": "5-6 ",
                                    "2": "Keenan Allen",
                                    "3": "SD ",
                                    "4": "WR   ",
                                    "5": "Cody",
                                    "6": "Jon"
                                },
                                {
                                    "0": "2014",
                                    "1": "5-7 ",
                                    "2": "Marqise Lee",
                                    "3": "Jac",
                                    "4": "WR   ",
                                    "5": "Patrick",
                                    "6": "NULL"
                                },
                                {
                                    "0": "2014",
                                    "1": "5-8 ",
                                    "2": "Justin Hunter",
                                    "3": "Ten",
                                    "4": "WR   ",
                                    "5": "Brian",
                                    "6": "NULL"
                                },
                                {
                                    "0": "2014",
                                    "1": "6-1 ",
                                    "2": "Jake Locker",
                                    "3": "Ten",
                                    "4": "QB   ",
                                    "5": "Brian",
                                    "6": "NULL"
                                },
                                {
                                    "0": "2014",
                                    "1": "6-2 ",
                                    "2": "Jeremy Hill",
                                    "3": "Cin",
                                    "4": "RB   ",
                                    "5": "Patrick",
                                    "6": "NULL"
                                },
                                {
                                    "0": "2014",
                                    "1": "6-3 ",
                                    "2": "Mason Crosby",
                                    "3": "GB ",
                                    "4": "K    ",
                                    "5": "Cody",
                                    "6": "Jon"
                                },
                                {
                                    "0": "2014",
                                    "1": "6-4 ",
                                    "2": "Stephen Hauschka",
                                    "3": "Sea",
                                    "4": "K    ",
                                    "5": "Christine",
                                    "6": "Christine"
                                },
                                {
                                    "0": "2014",
                                    "1": "6-5 ",
                                    "2": "Roddy White",
                                    "3": "Atl",
                                    "4": "WR   ",
                                    "5": "Paul",
                                    "6": "NULL"
                                },
                                {
                                    "0": "2014",
                                    "1": "6-6 ",
                                    "2": "Devonta Freeman",
                                    "3": "Atl",
                                    "4": "RB   ",
                                    "5": "Ian",
                                    "6": "NULL"
                                },
                                {
                                    "0": "2014",
                                    "1": "6-7 ",
                                    "2": "Phil Dawson",
                                    "3": "SF ",
                                    "4": "K    ",
                                    "5": "Todd",
                                    "6": "NULL"
                                },
                                {
                                    "0": "2014",
                                    "1": "6-8 ",
                                    "2": "Tim Wright",
                                    "3": "NE ",
                                    "4": "TE   ",
                                    "5": "William",
                                    "6": "NULL"
                                },
                                {
                                    "0": "2014",
                                    "1": "7-1 ",
                                    "2": "Nick Novak",
                                    "3": "SD ",
                                    "4": "K    ",
                                    "5": "William",
                                    "6": "NULL"
                                },
                                {
                                    "0": "2014",
                                    "1": "7-2 ",
                                    "2": "Andre Williams",
                                    "3": "NYG",
                                    "4": "RB   ",
                                    "5": "Todd",
                                    "6": "NULL"
                                },
                                {
                                    "0": "2014",
                                    "1": "7-3 ",
                                    "2": "Robert Woods",
                                    "3": "Buf",
                                    "4": "WR   ",
                                    "5": "Ian",
                                    "6": "NULL"
                                },
                                {
                                    "0": "2014",
                                    "1": "7-4 ",
                                    "2": "Alfred Blue",
                                    "3": "Hou",
                                    "4": "RB   ",
                                    "5": "Paul",
                                    "6": "NULL"
                                },
                                {
                                    "0": "2014",
                                    "1": "7-5 ",
                                    "2": "Andrew Quarless",
                                    "3": "GB ",
                                    "4": "TE   ",
                                    "5": "Christine",
                                    "6": "NULL"
                                },
                                {
                                    "0": "2014",
                                    "1": "7-6 ",
                                    "2": "Allen Hurns",
                                    "3": "Jac",
                                    "4": "WR   ",
                                    "5": "Cody",
                                    "6": "NULL"
                                },
                                {
                                    "0": "2014",
                                    "1": "7-7 ",
                                    "2": "KaDeem Carey",
                                    "3": "Chi",
                                    "4": "RB   ",
                                    "5": "Patrick",
                                    "6": "NULL"
                                },
                                {
                                    "0": "2014",
                                    "1": "7-8 ",
                                    "2": "Greg Zuerlein",
                                    "3": "StL",
                                    "4": "K    ",
                                    "5": "Brian",
                                    "6": "NULL"
                                },
                                {
                                    "0": "2014",
                                    "1": "8-1 ",
                                    "2": "Nate Freese",
                                    "3": "FA ",
                                    "4": "K    ",
                                    "5": "Brian",
                                    "6": "NULL"
                                },
                                {
                                    "0": "2014",
                                    "1": "8-2 ",
                                    "2": "Danny Woodhead",
                                    "3": "SD ",
                                    "4": "RB   ",
                                    "5": "Patrick",
                                    "6": "NULL"
                                },
                                {
                                    "0": "2014",
                                    "1": "8-3 ",
                                    "2": "Lamar Miller",
                                    "3": "Mia",
                                    "4": "RB   ",
                                    "5": "Cody",
                                    "6": "Jon"
                                },
                                {
                                    "0": "2014",
                                    "1": "8-4 ",
                                    "2": "Andrew Hawkins",
                                    "3": "Cle",
                                    "4": "WR   ",
                                    "5": "Christine",
                                    "6": "NULL"
                                },
                                {
                                    "0": "2014",
                                    "1": "8-5 ",
                                    "2": "Bryce Brown",
                                    "3": "Buf",
                                    "4": "RB   ",
                                    "5": "Paul",
                                    "6": "NULL"
                                },
                                {
                                    "0": "2014",
                                    "1": "8-6 ",
                                    "2": "James White",
                                    "3": "NE ",
                                    "4": "RB   ",
                                    "5": "Ian",
                                    "6": "NULL"
                                },
                                {
                                    "0": "2014",
                                    "1": "8-7 ",
                                    "2": "Jarvis Landry",
                                    "3": "Mia",
                                    "4": "WR   ",
                                    "5": "Todd",
                                    "6": "Todd"
                                },
                                {
                                    "0": "2014",
                                    "1": "8-8 ",
                                    "2": "Jace Amaro",
                                    "3": "NYJ",
                                    "4": "TE   ",
                                    "5": "William",
                                    "6": "NULL"
                                },
                                {
                                    "0": "2014",
                                    "1": "9-1 ",
                                    "2": "Teddy Bridgewater",
                                    "3": "Min",
                                    "4": "QB   ",
                                    "5": "William",
                                    "6": "William"
                                },
                                {
                                    "0": "2014",
                                    "1": "9-2 ",
                                    "2": "Derek Carr",
                                    "3": "Oak",
                                    "4": "QB   ",
                                    "5": "Todd",
                                    "6": "Todd"
                                },
                                {
                                    "0": "2014",
                                    "1": "9-3 ",
                                    "2": "Josh Gordon",
                                    "3": "Cle",
                                    "4": "WR   ",
                                    "5": "Ian",
                                    "6": "Ian"
                                },
                                {
                                    "0": "2014",
                                    "1": "9-4 ",
                                    "2": "Cody Latimer",
                                    "3": "Den",
                                    "4": "WR   ",
                                    "5": "Paul",
                                    "6": "NULL"
                                },
                                {
                                    "0": "2014",
                                    "1": "9-5 ",
                                    "2": "Jerick McKinnon",
                                    "3": "Min",
                                    "4": "RB   ",
                                    "5": "Christine",
                                    "6": "NULL"
                                },
                                {
                                    "0": "2014",
                                    "1": "9-6 ",
                                    "2": "Philip Rivers",
                                    "3": "SD ",
                                    "4": "QB   ",
                                    "5": "Cody",
                                    "6": "Jon"
                                },
                                {
                                    "0": "2014",
                                    "1": "9-7 ",
                                    "2": "Brent Celek",
                                    "3": "Phi",
                                    "4": "TE   ",
                                    "5": "Patrick",
                                    "6": "NULL"
                                },
                                {
                                    "0": "2014",
                                    "1": "9-8 ",
                                    "2": "Latavius Murray",
                                    "3": "Oak",
                                    "4": "RB   ",
                                    "5": "Brian",
                                    "6": "NULL"
                                },
                                {
                                    "0": "2015",
                                    "1": "1-1 ",
                                    "2": "Ameer Abdullah",
                                    "3": "Det",
                                    "4": "RB   ",
                                    "5": "Ian",
                                    "6": "NULL"
                                },
                                {
                                    "0": "2015",
                                    "1": "1-2 ",
                                    "2": "Melvin Gordon",
                                    "3": "SD ",
                                    "4": "RB   ",
                                    "5": "William",
                                    "6": "NULL"
                                },
                                {
                                    "0": "2015",
                                    "1": "1-3 ",
                                    "2": "Joique Bell",
                                    "3": "Det",
                                    "4": "RB   ",
                                    "5": "Jon",
                                    "6": "NULL"
                                },
                                {
                                    "0": "2015",
                                    "1": "1-4 ",
                                    "2": "Travis Kelce",
                                    "3": "KC ",
                                    "4": "TE   ",
                                    "5": "Adrian",
                                    "6": "Adrian"
                                },
                                {
                                    "0": "2015",
                                    "1": "1-5 ",
                                    "2": "Todd Gurley II",
                                    "3": "StL",
                                    "4": "RB   ",
                                    "5": "Christine",
                                    "6": "Christine"
                                },
                                {
                                    "0": "2015",
                                    "1": "1-6 ",
                                    "2": "Amari Cooper",
                                    "3": "Oak",
                                    "4": "WR   ",
                                    "5": "Todd",
                                    "6": "Todd"
                                },
                                {
                                    "0": "2015",
                                    "1": "1-7 ",
                                    "2": "Marcus Mariota",
                                    "3": "Ten",
                                    "4": "QB   ",
                                    "5": "Brian",
                                    "6": "Brian"
                                },
                                {
                                    "0": "2015",
                                    "1": "1-8 ",
                                    "2": "Justin Forsett",
                                    "3": "Bal",
                                    "4": "RB   ",
                                    "5": "Paul",
                                    "6": "NULL"
                                },
                                {
                                    "0": "2015",
                                    "1": "2-1 ",
                                    "2": "Eddie Royal",
                                    "3": "Chi",
                                    "4": "WR   ",
                                    "5": "Paul",
                                    "6": "NULL"
                                },
                                {
                                    "0": "2015",
                                    "1": "2-2 ",
                                    "2": "Jameis Winston",
                                    "3": "TB ",
                                    "4": "QB   ",
                                    "5": "Brian",
                                    "6": "Brian"
                                },
                                {
                                    "0": "2015",
                                    "1": "2-3 ",
                                    "2": "Jimmy Garoppolo",
                                    "3": "NE ",
                                    "4": "QB   ",
                                    "5": "Todd",
                                    "6": "Todd"
                                },
                                {
                                    "0": "2015",
                                    "1": "2-4 ",
                                    "2": "Davante Adams",
                                    "3": "GB ",
                                    "4": "WR   ",
                                    "5": "Christine",
                                    "6": "NULL"
                                },
                                {
                                    "0": "2015",
                                    "1": "2-5 ",
                                    "2": "Brandon Coleman",
                                    "3": "NO ",
                                    "4": "WR   ",
                                    "5": "Adrian",
                                    "6": "NULL"
                                },
                                {
                                    "0": "2015",
                                    "1": "2-6 ",
                                    "2": "Chris Johnson",
                                    "3": "Ari",
                                    "4": "RB   ",
                                    "5": "Jon",
                                    "6": "NULL"
                                },
                                {
                                    "0": "2015",
                                    "1": "2-7 ",
                                    "2": "C.J. Anderson",
                                    "3": "Den",
                                    "4": "RB   ",
                                    "5": "William",
                                    "6": "William"
                                },
                                {
                                    "0": "2015",
                                    "1": "2-8 ",
                                    "2": "Maxx Williams",
                                    "3": "Bal",
                                    "4": "TE   ",
                                    "5": "Ian",
                                    "6": "NULL"
                                },
                                {
                                    "0": "2015",
                                    "1": "3-1 ",
                                    "2": "Phillip Dorsett",
                                    "3": "Ind",
                                    "4": "WR   ",
                                    "5": "Ian",
                                    "6": "NULL"
                                },
                                {
                                    "0": "2015",
                                    "1": "3-2 ",
                                    "2": "DeVante Parker",
                                    "3": "Mia",
                                    "4": "WR   ",
                                    "5": "William",
                                    "6": "NULL"
                                },
                                {
                                    "0": "2015",
                                    "1": "3-3 ",
                                    "2": "Kenny Bell",
                                    "3": "TB ",
                                    "4": "WR   ",
                                    "5": "Jon",
                                    "6": "NULL"
                                },
                                {
                                    "0": "2015",
                                    "1": "3-4 ",
                                    "2": "Branden Oliver",
                                    "3": "SD ",
                                    "4": "RB   ",
                                    "5": "Adrian",
                                    "6": "NULL"
                                },
                                {
                                    "0": "2015",
                                    "1": "3-5 ",
                                    "2": "T.J. Yeldon",
                                    "3": "Jax",
                                    "4": "RB   ",
                                    "5": "Christine",
                                    "6": "NULL"
                                },
                                {
                                    "0": "2015",
                                    "1": "3-6 ",
                                    "2": "Tyler Eifert",
                                    "3": "Cin",
                                    "4": "TE   ",
                                    "5": "Todd",
                                    "6": "NULL"
                                },
                                {
                                    "0": "2015",
                                    "1": "3-7 ",
                                    "2": "Martavis Bryant",
                                    "3": "Pit",
                                    "4": "WR   ",
                                    "5": "Brian",
                                    "6": "NULL"
                                },
                                {
                                    "0": "2015",
                                    "1": "3-8 ",
                                    "2": "Ahmad Bradshaw",
                                    "3": "Ind",
                                    "4": "RB   ",
                                    "5": "Paul",
                                    "6": "NULL"
                                },
                                {
                                    "0": "2015",
                                    "1": "4-1 ",
                                    "2": "Antonio Gates",
                                    "3": "SD ",
                                    "4": "TE   ",
                                    "5": "Paul",
                                    "6": "NULL"
                                },
                                {
                                    "0": "2015",
                                    "1": "4-2 ",
                                    "2": "Charles Johnson",
                                    "3": "Min",
                                    "4": "WR   ",
                                    "5": "Brian",
                                    "6": "NULL"
                                },
                                {
                                    "0": "2015",
                                    "1": "4-3 ",
                                    "2": "Brandon McManus",
                                    "3": "Den",
                                    "4": "K    ",
                                    "5": "Todd",
                                    "6": "NULL"
                                },
                                {
                                    "0": "2015",
                                    "1": "4-4 ",
                                    "2": "Nelson Agholor",
                                    "3": "Phi",
                                    "4": "WR   ",
                                    "5": "Christine",
                                    "6": "NULL"
                                },
                                {
                                    "0": "2015",
                                    "1": "4-5 ",
                                    "2": "Kendall Wright",
                                    "3": "Ten",
                                    "4": "WR   ",
                                    "5": "Adrian",
                                    "6": "NULL"
                                },
                                {
                                    "0": "2015",
                                    "1": "4-6 ",
                                    "2": "Johnny Manziel",
                                    "3": "Cle",
                                    "4": "QB   ",
                                    "5": "Jon",
                                    "6": "NULL"
                                },
                                {
                                    "0": "2015",
                                    "1": "4-7 ",
                                    "2": "Joseph Randle",
                                    "3": "FA ",
                                    "4": "RB   ",
                                    "5": "William",
                                    "6": "NULL"
                                },
                                {
                                    "0": "2015",
                                    "1": "4-8 ",
                                    "2": "Jeremy Langford",
                                    "3": "Chi",
                                    "4": "RB   ",
                                    "5": "Ian",
                                    "6": "NULL"
                                },
                                {
                                    "0": "2015",
                                    "1": "5-1 ",
                                    "2": "Karlos Williams",
                                    "3": "Buf",
                                    "4": "RB   ",
                                    "5": "Ian",
                                    "6": "NULL"
                                },
                                {
                                    "0": "2015",
                                    "1": "5-2 ",
                                    "2": "Josh Hill",
                                    "3": "NO ",
                                    "4": "TE   ",
                                    "5": "William",
                                    "6": "NULL"
                                },
                                {
                                    "0": "2015",
                                    "1": "5-3 ",
                                    "2": "Mike Tolbert",
                                    "3": "Car",
                                    "4": "RB   ",
                                    "5": "Jon",
                                    "6": "NULL"
                                },
                                {
                                    "0": "2015",
                                    "1": "5-4 ",
                                    "2": "Austin Seferian-Jenkins",
                                    "3": "TB ",
                                    "4": "TE   ",
                                    "5": "Adrian",
                                    "6": "NULL"
                                },
                                {
                                    "0": "2015",
                                    "1": "5-5 ",
                                    "2": "Allen Robinson",
                                    "3": "Jax",
                                    "4": "WR   ",
                                    "5": "Christine",
                                    "6": "NULL"
                                },
                                {
                                    "0": "2015",
                                    "1": "5-6 ",
                                    "2": "Tevin Coleman",
                                    "3": "Atl",
                                    "4": "RB   ",
                                    "5": "Todd",
                                    "6": "Todd"
                                },
                                {
                                    "0": "2015",
                                    "1": "5-7 ",
                                    "2": "Tyler Lockett",
                                    "3": "Sea",
                                    "4": "WR   ",
                                    "5": "Brian",
                                    "6": "NULL"
                                },
                                {
                                    "0": "2015",
                                    "1": "5-8 ",
                                    "2": "Denard Robinson",
                                    "3": "Jax",
                                    "4": "RB   ",
                                    "5": "Paul",
                                    "6": "NULL"
                                },
                                {
                                    "0": "2015",
                                    "1": "6-1 ",
                                    "2": "Ryan Fitzpatrick",
                                    "3": "NYJ",
                                    "4": "QB   ",
                                    "5": "Paul",
                                    "6": "NULL"
                                },
                                {
                                    "0": "2015",
                                    "1": "6-2 ",
                                    "2": "Matt Jones",
                                    "3": "Wsh",
                                    "4": "RB   ",
                                    "5": "Brian",
                                    "6": "NULL"
                                },
                                {
                                    "0": "2015",
                                    "1": "6-3 ",
                                    "2": "Owen Daniels",
                                    "3": "Den",
                                    "4": "TE   ",
                                    "5": "Todd",
                                    "6": "NULL"
                                },
                                {
                                    "0": "2015",
                                    "1": "6-4 ",
                                    "2": "Larry Donnell",
                                    "3": "NYG",
                                    "4": "TE   ",
                                    "5": "Christine",
                                    "6": "NULL"
                                },
                                {
                                    "0": "2015",
                                    "1": "6-5 ",
                                    "2": "Darren Sproles",
                                    "3": "Phi",
                                    "4": "RB   ",
                                    "5": "Adrian",
                                    "6": "NULL"
                                },
                                {
                                    "0": "2015",
                                    "1": "6-6 ",
                                    "2": "Cairo Santos",
                                    "3": "KC ",
                                    "4": "K    ",
                                    "5": "Jon",
                                    "6": "NULL"
                                },
                                {
                                    "0": "2015",
                                    "1": "6-7 ",
                                    "2": "Virgil Green",
                                    "3": "Den",
                                    "4": "TE   ",
                                    "5": "William",
                                    "6": "NULL"
                                },
                                {
                                    "0": "2015",
                                    "1": "6-8 ",
                                    "2": "Sammie Coates",
                                    "3": "Pit",
                                    "4": "WR   ",
                                    "5": "Ian",
                                    "6": "NULL"
                                },
                                {
                                    "0": "2015",
                                    "1": "7-1 ",
                                    "2": "Garrett Grayson",
                                    "3": "NO ",
                                    "4": "QB   ",
                                    "5": "Ian",
                                    "6": "NULL"
                                },
                                {
                                    "0": "2015",
                                    "1": "7-2 ",
                                    "2": "Devin Funchess",
                                    "3": "Car",
                                    "4": "WR   ",
                                    "5": "William",
                                    "6": "NULL"
                                },
                                {
                                    "0": "2015",
                                    "1": "7-3 ",
                                    "2": "Storm Johnson",
                                    "3": "Jax",
                                    "4": "RB   ",
                                    "5": "Jon",
                                    "6": "NULL"
                                },
                                {
                                    "0": "2015",
                                    "1": "7-4 ",
                                    "2": "Stevie Johnson",
                                    "3": "SD ",
                                    "4": "WR   ",
                                    "5": "Adrian",
                                    "6": "NULL"
                                },
                                {
                                    "0": "2015",
                                    "1": "7-5 ",
                                    "2": "Sam Bradford",
                                    "3": "Phi",
                                    "4": "QB   ",
                                    "5": "Christine",
                                    "6": "NULL"
                                },
                                {
                                    "0": "2015",
                                    "1": "7-6 ",
                                    "2": "David Cobb",
                                    "3": "Ten",
                                    "4": "RB   ",
                                    "5": "Todd",
                                    "6": "NULL"
                                },
                                {
                                    "0": "2015",
                                    "1": "7-7 ",
                                    "2": "Delanie Walker",
                                    "3": "Ten",
                                    "4": "TE   ",
                                    "5": "Brian",
                                    "6": "Brian"
                                },
                                {
                                    "0": "2015",
                                    "1": "7-8 ",
                                    "2": "Jonas Gray",
                                    "3": "Jax",
                                    "4": "RB   ",
                                    "5": "Paul",
                                    "6": "NULL"
                                },
                                {
                                    "0": "2015",
                                    "1": "8-1 ",
                                    "2": "Zach Mettenberger",
                                    "3": "Ten",
                                    "4": "QB   ",
                                    "5": "Paul",
                                    "6": "NULL"
                                },
                                {
                                    "0": "2015",
                                    "1": "8-2 ",
                                    "2": "Cody Parkey",
                                    "3": "Phi",
                                    "4": "K    ",
                                    "5": "Brian",
                                    "6": "NULL"
                                },
                                {
                                    "0": "2015",
                                    "1": "8-3 ",
                                    "2": "Richard Rodgers",
                                    "3": "GB ",
                                    "4": "TE   ",
                                    "5": "Todd",
                                    "6": "NULL"
                                },
                                {
                                    "0": "2015",
                                    "1": "8-4 ",
                                    "2": "Caleb Sturgis",
                                    "3": "Phi",
                                    "4": "K    ",
                                    "5": "Christine",
                                    "6": "NULL"
                                },
                                {
                                    "0": "2015",
                                    "1": "8-5 ",
                                    "2": "Kenny Hilliard",
                                    "3": "Hou",
                                    "4": "RB   ",
                                    "5": "Adrian",
                                    "6": "NULL"
                                },
                                {
                                    "0": "2015",
                                    "1": "8-6 ",
                                    "2": "Dion Sims",
                                    "3": "Mia",
                                    "4": "TE   ",
                                    "5": "Jon",
                                    "6": "NULL"
                                },
                                {
                                    "0": "2015",
                                    "1": "8-7 ",
                                    "2": "Justin Tucker",
                                    "3": "Bal",
                                    "4": "K    ",
                                    "5": "William",
                                    "6": "NULL"
                                },
                                {
                                    "0": "2015",
                                    "1": "8-8 ",
                                    "2": "David Johnson",
                                    "3": "Ari",
                                    "4": "RB   ",
                                    "5": "Ian",
                                    "6": "Ian"
                                },
                                {
                                    "0": "2015",
                                    "1": "9-1 ",
                                    "2": "Dustin Hopkins",
                                    "3": "Wsh",
                                    "4": "K    ",
                                    "5": "Ian",
                                    "6": "Ian"
                                },
                                {
                                    "0": "2015",
                                    "1": "9-2 ",
                                    "2": "Dan Carpenter",
                                    "3": "Buf",
                                    "4": "K    ",
                                    "5": "William",
                                    "6": "NULL"
                                },
                                {
                                    "0": "2015",
                                    "1": "9-3 ",
                                    "2": "Reggie Wayne",
                                    "3": "FA ",
                                    "4": "WR   ",
                                    "5": "Jon",
                                    "6": "NULL"
                                },
                                {
                                    "0": "2015",
                                    "1": "9-4 ",
                                    "2": "Tyrod Taylor",
                                    "3": "Buf",
                                    "4": "QB   ",
                                    "5": "Adrian",
                                    "6": "Adrian"
                                },
                                {
                                    "0": "2015",
                                    "1": "9-5 ",
                                    "2": "Nick Folk",
                                    "3": "NYJ",
                                    "4": "K    ",
                                    "5": "Christine",
                                    "6": "NULL"
                                },
                                {
                                    "0": "2015",
                                    "1": "9-6 ",
                                    "2": "Josh Scobee",
                                    "3": "NO ",
                                    "4": "K    ",
                                    "5": "Todd",
                                    "6": "NULL"
                                },
                                {
                                    "0": "2015",
                                    "1": "9-7 ",
                                    "2": "Mychal Rivera",
                                    "3": "Oak",
                                    "4": "TE   ",
                                    "5": "Brian",
                                    "6": "NULL"
                                },
                                {
                                    "0": "2015",
                                    "1": "9-8 ",
                                    "2": "Kyle Rudolph",
                                    "3": "Min",
                                    "4": "TE   ",
                                    "5": "Paul",
                                    "6": "Paul"
                                },
                                {
                                    "0": "2015",
                                    "1": "10-1",
                                    "2": "Doug Baldwin",
                                    "3": "Sea",
                                    "4": "WR   ",
                                    "5": "Jon",
                                    "6": "Jon"
                                },
                                {
                                    "0": "2015",
                                    "1": "10-2",
                                    "2": "Eddie Lacy",
                                    "3": "GB ",
                                    "4": "RB   ",
                                    "5": "Jon",
                                    "6": "NULL"
                                },
                                {
                                    "0": "2015",
                                    "1": "10-3",
                                    "2": "Keenan Allen",
                                    "3": "SD ",
                                    "4": "WR   ",
                                    "5": "Jon",
                                    "6": "Jon"
                                },
                                {
                                    "0": "2015",
                                    "1": "10-4",
                                    "2": "Carson Palmer",
                                    "3": "Ari",
                                    "4": "QB   ",
                                    "5": "Jon",
                                    "6": "NULL"
                                },
                                {
                                    "0": "2015",
                                    "1": "10-5",
                                    "2": "Marshawn Lynch",
                                    "3": "Sea",
                                    "4": "RB   ",
                                    "5": "Jon",
                                    "6": "NULL"
                                },
                                {
                                    "0": "2015",
                                    "1": "10-6",
                                    "2": "Kirk Cousins",
                                    "3": "Was",
                                    "4": "QB   ",
                                    "5": "Jon",
                                    "6": "NULL"
                                },
                                {
                                    "0": "2015",
                                    "1": "10-7",
                                    "2": "Willie Snead",
                                    "3": "NO ",
                                    "4": "WR   ",
                                    "5": "Jon",
                                    "6": "NULL"
                                },
                                {
                                    "0": "2015",
                                    "1": "10-8",
                                    "2": "John Brown",
                                    "3": "Ari",
                                    "4": "WR   ",
                                    "5": "Jon",
                                    "6": "NULL"
                                },
                                {
                                    "0": "2015",
                                    "1": "10-9",
                                    "2": "Shane Vereen",
                                    "3": "NYG",
                                    "4": "RB   ",
                                    "5": "Jon",
                                    "6": "NULL"
                                },
                                {
                                    "0": "2015",
                                    "1": "10-10",
                                    "2": "Lance Kendricks",
                                    "3": "Stl",
                                    "4": "TE   ",
                                    "5": "Jon",
                                    "6": "NULL"
                                },
                                {
                                    "0": "2016",
                                    "1": "1-1 ",
                                    "2": "Ezekiel Elliott",
                                    "3": "Dal",
                                    "4": "RB   ",
                                    "5": "Adrian",
                                    "6": "Adrian"
                                },
                                {
                                    "0": "2016",
                                    "1": "1-2 ",
                                    "2": "Gary Barnidge",
                                    "3": "Cle",
                                    "4": "TE   ",
                                    "5": "Jon",
                                    "6": "NULL"
                                },
                                {
                                    "0": "2016",
                                    "1": "1-3 ",
                                    "2": "Derrick Henry",
                                    "3": "Ten",
                                    "4": "RB   ",
                                    "5": "William",
                                    "6": "William"
                                },
                                {
                                    "0": "2016",
                                    "1": "1-4 ",
                                    "2": "Christine Michael",
                                    "3": "Sea",
                                    "4": "RB   ",
                                    "5": "Ian",
                                    "6": "NULL"
                                },
                                {
                                    "0": "2016",
                                    "1": "1-5 ",
                                    "2": "Devonta Freeman",
                                    "3": "Atl",
                                    "4": "RB   ",
                                    "5": "Todd",
                                    "6": "Todd"
                                },
                                {
                                    "0": "2016",
                                    "1": "1-6 ",
                                    "2": "Doug Martin",
                                    "3": "TB ",
                                    "4": "RB   ",
                                    "5": "Brian",
                                    "6": "NULL"
                                },
                                {
                                    "0": "2016",
                                    "1": "1-7 ",
                                    "2": "Jordan Howard",
                                    "3": "Chi",
                                    "4": "RB   ",
                                    "5": "Paul",
                                    "6": "Paul"
                                },
                                {
                                    "0": "2016",
                                    "1": "1-8 ",
                                    "2": "Donte Moncrief",
                                    "3": "Ind",
                                    "4": "WR   ",
                                    "5": "Christine",
                                    "6": "NULL"
                                },
                                {
                                    "0": "2016",
                                    "1": "2-1 ",
                                    "2": "Michael Thomas",
                                    "3": "NO ",
                                    "4": "WR   ",
                                    "5": "Adrian",
                                    "6": "NULL"
                                },
                                {
                                    "0": "2016",
                                    "1": "2-2 ",
                                    "2": "LeGarrette Blount",
                                    "3": "NE ",
                                    "4": "RB   ",
                                    "5": "Jon",
                                    "6": "NULL"
                                },
                                {
                                    "0": "2016",
                                    "1": "2-3 ",
                                    "2": "Thomas Rawls",
                                    "3": "Sea",
                                    "4": "RB   ",
                                    "5": "William",
                                    "6": "NULL"
                                },
                                {
                                    "0": "2016",
                                    "1": "2-4 ",
                                    "2": "Trevor Siemian",
                                    "3": "Den",
                                    "4": "QB   ",
                                    "5": "Ian",
                                    "6": "NULL"
                                },
                                {
                                    "0": "2016",
                                    "1": "2-5 ",
                                    "2": "Sterling Shepard",
                                    "3": "NYG",
                                    "4": "WR   ",
                                    "5": "Todd",
                                    "6": "NULL"
                                },
                                {
                                    "0": "2016",
                                    "1": "2-6 ",
                                    "2": "Corey Coleman",
                                    "3": "Cle",
                                    "4": "WR   ",
                                    "5": "Brian",
                                    "6": "NULL"
                                },
                                {
                                    "0": "2016",
                                    "1": "2-7 ",
                                    "2": "Laquon Treadwell",
                                    "3": "Min",
                                    "4": "WR   ",
                                    "5": "Paul",
                                    "6": "Paul"
                                },
                                {
                                    "0": "2016",
                                    "1": "2-8 ",
                                    "2": "Will Fuller",
                                    "3": "Hou",
                                    "4": "WR   ",
                                    "5": "Christine",
                                    "6": "NULL"
                                },
                                {
                                    "0": "2016",
                                    "1": "3-1 ",
                                    "2": "Terrelle Pryor",
                                    "3": "Cle",
                                    "4": "WR   ",
                                    "5": "Adrian",
                                    "6": "NULL"
                                },
                                {
                                    "0": "2016",
                                    "1": "3-2 ",
                                    "2": "Tajae Sharpe",
                                    "3": "Ten",
                                    "4": "WR   ",
                                    "5": "Jon",
                                    "6": "NULL"
                                },
                                {
                                    "0": "2016",
                                    "1": "3-3 ",
                                    "2": "Zach Ertz",
                                    "3": "Phi",
                                    "4": "TE   ",
                                    "5": "William",
                                    "6": "William"
                                },
                                {
                                    "0": "2016",
                                    "1": "3-5 ",
                                    "2": "Jared Cook",
                                    "3": "GB ",
                                    "4": "TE   ",
                                    "5": "Todd",
                                    "6": "NULL"
                                },
                                {
                                    "0": "2016",
                                    "1": "3-6 ",
                                    "2": "Kenneth Dixon*",
                                    "3": "Bal",
                                    "4": "RB   ",
                                    "5": "Brian",
                                    "6": "NULL"
                                },
                                {
                                    "0": "2016",
                                    "1": "3-7 ",
                                    "2": "C.J. Prosise",
                                    "3": "Sea",
                                    "4": "RB   ",
                                    "5": "Paul",
                                    "6": "NULL"
                                },
                                {
                                    "0": "2016",
                                    "1": "3-8 ",
                                    "2": "Stefon Diggs",
                                    "3": "Min",
                                    "4": "WR   ",
                                    "5": "Christine",
                                    "6": "Christine"
                                },
                                {
                                    "0": "2016",
                                    "1": "4-1 ",
                                    "2": "Jonathan Stewart",
                                    "3": "Car",
                                    "4": "RB   ",
                                    "5": "Adrian",
                                    "6": "NULL"
                                },
                                {
                                    "0": "2016",
                                    "1": "4-2 ",
                                    "2": "DeAngelo Williams",
                                    "3": "Pit",
                                    "4": "RB   ",
                                    "5": "Jon",
                                    "6": "NULL"
                                },
                                {
                                    "0": "2016",
                                    "1": "4-3 ",
                                    "2": "Tyler Boyd",
                                    "3": "Cin",
                                    "4": "WR   ",
                                    "5": "William",
                                    "6": "NULL"
                                },
                                {
                                    "0": "2016",
                                    "1": "4-4 ",
                                    "2": "Torrey Smith",
                                    "3": "SF ",
                                    "4": "WR   ",
                                    "5": "Ian",
                                    "6": "NULL"
                                },
                                {
                                    "0": "2016",
                                    "1": "4-4 ",
                                    "2": "Chris Hogan",
                                    "3": "NE ",
                                    "4": "WR   ",
                                    "5": "Ian",
                                    "6": "NULL"
                                },
                                {
                                    "0": "2016",
                                    "1": "4-5 ",
                                    "2": "Justin Tucker",
                                    "3": "Bal",
                                    "4": "K    ",
                                    "5": "Todd",
                                    "6": "Todd"
                                },
                                {
                                    "0": "2016",
                                    "1": "4-6 ",
                                    "2": "Carson Wentz",
                                    "3": "Phi",
                                    "4": "QB   ",
                                    "5": "Brian",
                                    "6": "Brian"
                                },
                                {
                                    "0": "2016",
                                    "1": "4-7 ",
                                    "2": "Travis Benjamin",
                                    "3": "SD ",
                                    "4": "WR   ",
                                    "5": "Paul",
                                    "6": "Paul"
                                },
                                {
                                    "0": "2016",
                                    "1": "4-8 ",
                                    "2": "Paxton Lynch",
                                    "3": "Den",
                                    "4": "QB   ",
                                    "5": "Christine",
                                    "6": "Christine"
                                },
                                {
                                    "0": "2016",
                                    "1": "5-1 ",
                                    "2": "Allen Hurns",
                                    "3": "Jax",
                                    "4": "WR   ",
                                    "5": "Adrian",
                                    "6": "NULL"
                                },
                                {
                                    "0": "2016",
                                    "1": "5-2 ",
                                    "2": "Roberto Aguayo",
                                    "3": "TB ",
                                    "4": "K    ",
                                    "5": "Jon",
                                    "6": "NULL"
                                },
                                {
                                    "0": "2016",
                                    "1": "5-3 ",
                                    "2": "Dak Prescott",
                                    "3": "Dal",
                                    "4": "QB   ",
                                    "5": "William",
                                    "6": "NULL"
                                },
                                {
                                    "0": "2016",
                                    "1": "5-4 ",
                                    "2": "DeAndre Washington",
                                    "3": "Oak",
                                    "4": "RB   ",
                                    "5": "Ian",
                                    "6": "NULL"
                                },
                                {
                                    "0": "2016",
                                    "1": "5-5 ",
                                    "2": "Devontae Booker",
                                    "3": "Den",
                                    "4": "RB   ",
                                    "5": "Todd",
                                    "6": "NULL"
                                },
                                {
                                    "0": "2016",
                                    "1": "5-6 ",
                                    "2": "Eric Ebron",
                                    "3": "Det",
                                    "4": "TE   ",
                                    "5": "Brian",
                                    "6": "NULL"
                                },
                                {
                                    "0": "2016",
                                    "1": "5-7 ",
                                    "2": "Vance McDonald",
                                    "3": "SF ",
                                    "4": "TE   ",
                                    "5": "Paul",
                                    "6": "NULL"
                                },
                                {
                                    "0": "2016",
                                    "1": "5-8 ",
                                    "2": "Jay Ajayi",
                                    "3": "Mia",
                                    "4": "RB   ",
                                    "5": "Christine",
                                    "6": "Christine"
                                },
                                {
                                    "0": "2016",
                                    "1": "6-1 ",
                                    "2": "Robert Griffin",
                                    "3": "Cle",
                                    "4": "QB   ",
                                    "5": "Jon",
                                    "6": "NULL"
                                },
                                {
                                    "0": "2016",
                                    "1": "6-2 ",
                                    "2": "Graham Gano",
                                    "3": "Car",
                                    "4": "K    ",
                                    "5": "Adrian",
                                    "6": "Adrian"
                                },
                                {
                                    "0": "2016",
                                    "1": "6-3 ",
                                    "2": "Blair Walsh",
                                    "3": "Min",
                                    "4": "K    ",
                                    "5": "William",
                                    "6": "NULL"
                                },
                                {
                                    "0": "2016",
                                    "1": "6-4 ",
                                    "2": "Josh Doctson*",
                                    "3": "Wsh",
                                    "4": "WR   ",
                                    "5": "Ian",
                                    "6": "NULL"
                                },
                                {
                                    "0": "2016",
                                    "1": "6-5 ",
                                    "2": "Jerick McKinnon",
                                    "3": "Min",
                                    "4": "RB   ",
                                    "5": "Todd",
                                    "6": "NULL"
                                },
                                {
                                    "0": "2016",
                                    "1": "6-6 ",
                                    "2": "Chris Boswell",
                                    "3": "Pit",
                                    "4": "K    ",
                                    "5": "Brian",
                                    "6": "Brian"
                                },
                                {
                                    "0": "2016",
                                    "1": "6-7 ",
                                    "2": "Kenny Britt",
                                    "3": "LA ",
                                    "4": "WR   ",
                                    "5": "Paul",
                                    "6": "NULL"
                                },
                                {
                                    "0": "2016",
                                    "1": "6-8 ",
                                    "2": "Crockett Gillmore",
                                    "3": "Bal",
                                    "4": "TE   ",
                                    "5": "Christine",
                                    "6": "NULL"
                                },
                                {
                                    "0": "2016",
                                    "1": "7-1 ",
                                    "2": "Kevin White",
                                    "3": "Chi",
                                    "4": "WR   ",
                                    "5": "Adrian",
                                    "6": "NULL"
                                },
                                {
                                    "0": "2016",
                                    "1": "7-2 ",
                                    "2": "Marvin Jones Jr.",
                                    "3": "Det",
                                    "4": "WR   ",
                                    "5": "Jon",
                                    "6": "Jon"
                                },
                                {
                                    "0": "2016",
                                    "1": "7-3 ",
                                    "2": "Paul Perkins",
                                    "3": "NYG",
                                    "4": "RB   ",
                                    "5": "William",
                                    "6": "NULL"
                                },
                                {
                                    "0": "2016",
                                    "1": "7-4 ",
                                    "2": "Terrance West",
                                    "3": "Bal",
                                    "4": "RB   ",
                                    "5": "Ian",
                                    "6": "NULL"
                                },
                                {
                                    "0": "2016",
                                    "1": "7-5 ",
                                    "2": "Kirk Cousins",
                                    "3": "Wsh",
                                    "4": "QB   ",
                                    "5": "Todd",
                                    "6": "Todd"
                                },
                                {
                                    "0": "2016",
                                    "1": "7-6 ",
                                    "2": "Chandler Catanzaro",
                                    "3": "Ari",
                                    "4": "K    ",
                                    "5": "Brian",
                                    "6": "NULL"
                                },
                                {
                                    "0": "2016",
                                    "1": "7-7 ",
                                    "2": "Nick Novak",
                                    "3": "Hou",
                                    "4": "K    ",
                                    "5": "Paul",
                                    "6": "NULL"
                                },
                                {
                                    "0": "2016",
                                    "1": "7-8 ",
                                    "2": "Connor Barth",
                                    "3": "Chi",
                                    "4": "K    ",
                                    "5": "Christine",
                                    "6": "NULL"
                                },
                                {
                                    "0": "2016",
                                    "1": "8-1 ",
                                    "2": "Duke Johnson Jr.",
                                    "3": "Cle",
                                    "4": "RB   ",
                                    "5": "Adrian",
                                    "6": "NULL"
                                },
                                {
                                    "0": "2016",
                                    "1": "8-2 ",
                                    "2": "Isaiah Crowell",
                                    "3": "Cle",
                                    "4": "RB   ",
                                    "5": "Jon",
                                    "6": "Jon"
                                },
                                {
                                    "0": "2016",
                                    "1": "8-3 ",
                                    "2": "Jason Myers",
                                    "3": "Jax",
                                    "4": "K    ",
                                    "5": "William",
                                    "6": "NULL"
                                },
                                {
                                    "0": "2016",
                                    "1": "8-4 ",
                                    "2": "Blaine Gabbert",
                                    "3": "SF ",
                                    "4": "QB   ",
                                    "5": "Ian",
                                    "6": "NULL"
                                },
                                {
                                    "0": "2016",
                                    "1": "8-5 ",
                                    "2": "Kai Forbath",
                                    "3": "NO ",
                                    "4": "K    ",
                                    "5": "Todd",
                                    "6": "NULL"
                                },
                                {
                                    "0": "2016",
                                    "1": "8-6 ",
                                    "2": "Bilal Powell",
                                    "3": "NYJ",
                                    "4": "RB   ",
                                    "5": "Brian",
                                    "6": "NULL"
                                },
                                {
                                    "0": "2016",
                                    "1": "8-7 ",
                                    "2": "Kamar Aiken",
                                    "3": "Bal",
                                    "4": "WR   ",
                                    "5": "Paul",
                                    "6": "NULL"
                                },
                                {
                                    "0": "2016",
                                    "1": "8-8 ",
                                    "2": "Mike Wallace",
                                    "3": "Bal",
                                    "4": "WR   ",
                                    "5": "Christine",
                                    "6": "NULL"
                                },
                                {
                                    "0": "2016",
                                    "1": "9-1 ",
                                    "2": "Anquan Boldin",
                                    "3": "Det",
                                    "4": "WR   ",
                                    "5": "Adrian",
                                    "6": "NULL"
                                },
                                {
                                    "0": "2016",
                                    "1": "9-2 ",
                                    "2": "Tavon Austin",
                                    "3": "LA ",
                                    "4": "WR   ",
                                    "5": "Jon",
                                    "6": "NULL"
                                },
                                {
                                    "0": "2016",
                                    "1": "9-3 ",
                                    "2": "Austin Hooper",
                                    "3": "Atl",
                                    "4": "TE   ",
                                    "5": "William",
                                    "6": "William"
                                },
                                {
                                    "0": "2016",
                                    "1": "9-4 ",
                                    "2": "Maxx Williams",
                                    "3": "Bal",
                                    "4": "TE   ",
                                    "5": "Ian",
                                    "6": "NULL"
                                },
                                {
                                    "0": "2016",
                                    "1": "9-5 ",
                                    "2": "Tyler Higbee",
                                    "3": "LA ",
                                    "4": "TE   ",
                                    "5": "Todd",
                                    "6": "NULL"
                                },
                                {
                                    "0": "2016",
                                    "1": "9-6 ",
                                    "2": "Clive Walford",
                                    "3": "OaK",
                                    "4": "TE   ",
                                    "5": "Brian",
                                    "6": "NULL"
                                },
                                {
                                    "0": "2016",
                                    "1": "9-7 ",
                                    "2": "Wendell Smallwood",
                                    "3": "Phi",
                                    "4": "RB   ",
                                    "5": "Paul",
                                    "6": "NULL"
                                },
                                {
                                    "0": "2016",
                                    "1": "9-8 ",
                                    "2": "Jermaine Kearse",
                                    "3": "Sea",
                                    "4": "WR   ",
                                    "5": "Christine",
                                    "6": "NULL"
                                },
                                {
                                    "0": "2017",
                                    "1": "1-5 ",
                                    "2": "Kareem Hunt",
                                    "3": "KC ",
                                    "4": "RB   ",
                                    "5": "William",
                                    "6": "William"
                                },
                                {
                                    "0": "2017",
                                    "1": "2-1 ",
                                    "2": "Marshawn Lynch",
                                    "3": "Oak",
                                    "4": "RB   ",
                                    "5": "William",
                                    "6": "William"
                                },
                                {
                                    "0": "2017",
                                    "1": "2-5 ",
                                    "2": "Martavis Bryant",
                                    "3": "Pit",
                                    "4": "WR   ",
                                    "5": "William",
                                    "6": "William"
                                },
                                {
                                    "0": "2017",
                                    "1": "2-6 ",
                                    "2": "Evan Engram",
                                    "3": "NYG",
                                    "4": "TE   ",
                                    "5": "Jon",
                                    "6": "Jon"
                                },
                                {
                                    "0": "2017",
                                    "1": "3-1 ",
                                    "2": "Hunter Henry",
                                    "3": "LAC",
                                    "4": "TE   ",
                                    "5": "Brian",
                                    "6": "Brian"
                                },
                                {
                                    "0": "2017",
                                    "1": "3-5 ",
                                    "2": "Mike Gillislee",
                                    "3": "NE ",
                                    "4": "RB   ",
                                    "5": "William",
                                    "6": "NULL"
                                },
                                {
                                    "0": "2017",
                                    "1": "3-6 ",
                                    "2": "Alvin Kamara",
                                    "3": "NO ",
                                    "4": "RB   ",
                                    "5": "Jon",
                                    "6": "Jon"
                                },
                                {
                                    "0": "2017",
                                    "1": "3-7 ",
                                    "2": "Kevin White",
                                    "3": "Chi",
                                    "4": "WR   ",
                                    "5": "Brian",
                                    "6": "NULL"
                                },
                                {
                                    "0": "2017",
                                    "1": "4-1 ",
                                    "2": "Patrick Mahomes",
                                    "3": "KC ",
                                    "4": "QB   ",
                                    "5": "Brian",
                                    "6": "Brian"
                                },
                                {
                                    "0": "2017",
                                    "1": "4-5 ",
                                    "2": "Matt Bryant",
                                    "3": "Atl",
                                    "4": "K    ",
                                    "5": "William",
                                    "6": "William"
                                },
                                {
                                    "0": "2017",
                                    "1": "4-6 ",
                                    "2": "Jamison Crowder",
                                    "3": "Wsh",
                                    "4": "WR   ",
                                    "5": "Jon",
                                    "6": "NULL"
                                },
                                {
                                    "0": "2017",
                                    "1": "5-1 ",
                                    "2": "George Kittle",
                                    "3": "SF ",
                                    "4": "TE   ",
                                    "5": "Brian",
                                    "6": "NULL"
                                },
                                {
                                    "0": "2017",
                                    "1": "5-5 ",
                                    "2": "Josh Dobbs",
                                    "3": "Pit",
                                    "4": "QB   ",
                                    "5": "William",
                                    "6": "NULL"
                                },
                                {
                                    "0": "2017",
                                    "1": "5-6 ",
                                    "2": "DOnta Foreman",
                                    "3": "Hou",
                                    "4": "RB   ",
                                    "5": "Jon",
                                    "6": "NULL"
                                },
                                {
                                    "0": "2017",
                                    "1": "6-2 ",
                                    "2": "Taywan Taylor",
                                    "3": "Ten",
                                    "4": "WR   ",
                                    "5": "Brian",
                                    "6": "Brian"
                                },
                                {
                                    "0": "2017",
                                    "1": "6-5 ",
                                    "2": "Samaje Perine",
                                    "3": "Wsh",
                                    "4": "RB   ",
                                    "5": "William",
                                    "6": "NULL"
                                },
                                {
                                    "0": "2017",
                                    "1": "6-6 ",
                                    "2": "Rex Burkhead",
                                    "3": "NE ",
                                    "4": "RB   ",
                                    "5": "Jon",
                                    "6": "Jon"
                                },
                                {
                                    "0": "2017",
                                    "1": "7-1 ",
                                    "2": "Chris Boswell",
                                    "3": "Pit",
                                    "4": "K    ",
                                    "5": "Brian",
                                    "6": "Brian"
                                },
                                {
                                    "0": "2017",
                                    "1": "7-5 ",
                                    "2": "Jared Goff",
                                    "3": "LAR",
                                    "4": "QB   ",
                                    "5": "William",
                                    "6": "William"
                                },
                                {
                                    "0": "2017",
                                    "1": "7-6 ",
                                    "2": "Jesse James",
                                    "3": "Pit",
                                    "4": "TE   ",
                                    "5": "Jon",
                                    "6": "NULL"
                                },
                                {
                                    "0": "2017",
                                    "1": "8-1 ",
                                    "2": "Jamaal Williams",
                                    "3": "GB ",
                                    "4": "RB   ",
                                    "5": "Brian",
                                    "6": "Brian"
                                },
                                {
                                    "0": "2017",
                                    "1": "8-5 ",
                                    "2": "Josh Hill",
                                    "3": "NO ",
                                    "4": "TE   ",
                                    "5": "William",
                                    "6": "NULL"
                                },
                                {
                                    "0": "2017",
                                    "1": "8-6 ",
                                    "2": "Younghoe Koo",
                                    "3": "LAC",
                                    "4": "K    ",
                                    "5": "Jon",
                                    "6": "NULL"
                                },
                                {
                                    "0": "2017",
                                    "1": "9-1 ",
                                    "2": "DeAngelo Henderson",
                                    "3": "Den",
                                    "4": "RB   ",
                                    "5": "Brian",
                                    "6": "NULL"
                                },
                                {
                                    "0": "2017",
                                    "1": "9-4 ",
                                    "2": "Torrey Smith",
                                    "3": "Phi",
                                    "4": "WR   ",
                                    "5": "Jon",
                                    "6": "NULL"
                                },
                                {
                                    "0": "2017",
                                    "1": "9-5 ",
                                    "2": "Phil Dawson",
                                    "3": "Ari",
                                    "4": "K    ",
                                    "5": "Brian",
                                    "6": "NULL"
                                },
                                {
                                    "0": "2017",
                                    "1": "9-6 ",
                                    "2": "Kenny Golladay",
                                    "3": "Det",
                                    "4": "WR   ",
                                    "5": "Jon",
                                    "6": "Jon"
                                },
                                {
                                    "0": "2018",
                                    "1": "1-1 ",
                                    "2": "Saquon Barkley",
                                    "3": "NYG",
                                    "4": "RB   ",
                                    "5": "Ian",
                                    "6": "Ian"
                                },
                                {
                                    "0": "2018",
                                    "1": "1-2 ",
                                    "2": "JuJu Smith-Schuster",
                                    "3": "Pit",
                                    "4": "WR   ",
                                    "5": "Jon",
                                    "6": "Jon"
                                },
                                {
                                    "0": "2018",
                                    "1": "1-3 ",
                                    "2": "Royce Freeman",
                                    "3": "Den",
                                    "4": "RB   ",
                                    "5": "William",
                                    "6": "William"
                                },
                                {
                                    "0": "2018",
                                    "1": "1-4 ",
                                    "2": "Adam Thielen",
                                    "3": "Min",
                                    "4": "WR   ",
                                    "5": "Brian",
                                    "6": "Brian"
                                },
                                {
                                    "0": "2018",
                                    "1": "1-6 ",
                                    "2": "Marquise Goodwin",
                                    "3": "SF ",
                                    "4": "WR   ",
                                    "5": "Adrian",
                                    "6": "Adrian"
                                },
                                {
                                    "0": "2018",
                                    "1": "1-7 ",
                                    "2": "Derrius Guice",
                                    "3": "Was",
                                    "4": "RB   ",
                                    "5": "Todd",
                                    "6": "Todd"
                                },
                                {
                                    "0": "2018",
                                    "1": "1-8 ",
                                    "2": "Sony Michel",
                                    "3": "NE ",
                                    "4": "RB   ",
                                    "5": "Christine",
                                    "6": "Christine"
                                },
                                {
                                    "0": "2018",
                                    "1": "2-1 ",
                                    "2": "Michael Gallup",
                                    "3": "Dal",
                                    "4": "WR   ",
                                    "5": "Ian",
                                    "6": "Ian"
                                },
                                {
                                    "0": "2018",
                                    "1": "2-2 ",
                                    "2": "Baker Mayfield",
                                    "3": "Cle",
                                    "4": "QB   ",
                                    "5": "Todd",
                                    "6": "Todd"
                                },
                                {
                                    "0": "2018",
                                    "1": "2-3 ",
                                    "2": "Alex Collins",
                                    "3": "Bal",
                                    "4": "RB   ",
                                    "5": "William",
                                    "6": "William"
                                },
                                {
                                    "0": "2018",
                                    "1": "2-4 ",
                                    "2": "DJ Moore",
                                    "3": "Car",
                                    "4": "WR   ",
                                    "5": "Brian",
                                    "6": "Brian"
                                },
                                {
                                    "0": "2018",
                                    "1": "2-6 ",
                                    "2": "Robert Woods",
                                    "3": "LAR",
                                    "4": "WR   ",
                                    "5": "Adrian",
                                    "6": "Adrian"
                                },
                                {
                                    "0": "2018",
                                    "1": "2-7 ",
                                    "2": "Courtland Sutton",
                                    "3": "Den",
                                    "4": "WR   ",
                                    "5": "Todd",
                                    "6": "Todd"
                                },
                                {
                                    "0": "2018",
                                    "1": "2-8 ",
                                    "2": "Lamar Jackson",
                                    "3": "Bal",
                                    "4": "QB   ",
                                    "5": "Christine",
                                    "6": "Christine"
                                },
                                {
                                    "0": "2018",
                                    "1": "3-1 ",
                                    "2": "Josh Allen",
                                    "3": "Buf",
                                    "4": "QB   ",
                                    "5": "Ian",
                                    "6": "Ian"
                                },
                                {
                                    "0": "2018",
                                    "1": "3-2 ",
                                    "2": "Chris Carson",
                                    "3": "Sea",
                                    "4": "RB   ",
                                    "5": "Jon",
                                    "6": "Jon"
                                },
                                {
                                    "0": "2018",
                                    "1": "3-3 ",
                                    "2": "Jaylen Samuels",
                                    "3": "Pit",
                                    "4": "RB   ",
                                    "5": "William",
                                    "6": "William"
                                },
                                {
                                    "0": "2018",
                                    "1": "3-4 ",
                                    "2": "Trey Burton",
                                    "3": "Chi",
                                    "4": "TE   ",
                                    "5": "Brian",
                                    "6": "Brian"
                                },
                                {
                                    "0": "2018",
                                    "1": "3-6 ",
                                    "2": "Peyton Barber",
                                    "3": "TB ",
                                    "4": "RB   ",
                                    "5": "Adrian",
                                    "6": "Adrian"
                                },
                                {
                                    "0": "2018",
                                    "1": "3-7 ",
                                    "2": "Nick Chubb",
                                    "3": "Cle",
                                    "4": "RB   ",
                                    "5": "Todd",
                                    "6": "Todd"
                                },
                                {
                                    "0": "2018",
                                    "1": "3-8 ",
                                    "2": "Tre'Quan Smith",
                                    "3": "NO ",
                                    "4": "WR   ",
                                    "5": "William",
                                    "6": "William"
                                },
                                {
                                    "0": "2018",
                                    "1": "4-1 ",
                                    "2": "Josh Gordon",
                                    "3": "Cle",
                                    "4": "WR   ",
                                    "5": "Ian",
                                    "6": "Ian"
                                },
                                {
                                    "0": "2018",
                                    "1": "4-2 ",
                                    "2": "Josh Rosen",
                                    "3": "Ari",
                                    "4": "QB   ",
                                    "5": "Jon",
                                    "6": "Jon"
                                },
                                {
                                    "0": "2018",
                                    "1": "4-3 ",
                                    "2": "Cooper Kupp",
                                    "3": "LAR",
                                    "4": "WR   ",
                                    "5": "William",
                                    "6": "William"
                                },
                                {
                                    "0": "2018",
                                    "1": "4-4 ",
                                    "2": "Kenyan Drake",
                                    "3": "Mia",
                                    "4": "RB   ",
                                    "5": "Brian",
                                    "6": "Brian"
                                },
                                {
                                    "0": "2018",
                                    "1": "4-6 ",
                                    "2": "Sam Darnold",
                                    "3": "NYJ",
                                    "4": "QB   ",
                                    "5": "Adrian",
                                    "6": "Adrian"
                                },
                                {
                                    "0": "2018",
                                    "1": "4-7 ",
                                    "2": "Ricky Seals-Jones",
                                    "3": "Ari",
                                    "4": "TE   ",
                                    "5": "Jon",
                                    "6": "Jon"
                                },
                                {
                                    "0": "2018",
                                    "1": "4-8 ",
                                    "2": "Mike Gesicki",
                                    "3": "Mia",
                                    "4": "TE   ",
                                    "5": "Christine",
                                    "6": "Christine"
                                },
                                {
                                    "0": "2018",
                                    "1": "5-1 ",
                                    "2": "Devin Funchess",
                                    "3": "Car",
                                    "4": "WR   ",
                                    "5": "Ian",
                                    "6": "Ian"
                                },
                                {
                                    "0": "2018",
                                    "1": "5-2 ",
                                    "2": "Carlos Hyde",
                                    "3": "Cle",
                                    "4": "RB   ",
                                    "5": "Jon",
                                    "6": "Jon"
                                },
                                {
                                    "0": "2018",
                                    "1": "5-3 ",
                                    "2": "Hayden Hurst",
                                    "3": "Bal",
                                    "4": "TE   ",
                                    "5": "Ian",
                                    "6": "Ian"
                                },
                                {
                                    "0": "2018",
                                    "1": "5-4 ",
                                    "2": "Dion Lewis",
                                    "3": "Ten",
                                    "4": "RB   ",
                                    "5": "Brian",
                                    "6": "Brian"
                                },
                                {
                                    "0": "2018",
                                    "1": "5-6 ",
                                    "2": "Cameron Brate",
                                    "3": "TB ",
                                    "4": "TE   ",
                                    "5": "Adrian",
                                    "6": "Adrian"
                                },
                                {
                                    "0": "2018",
                                    "1": "5-7 ",
                                    "2": "Dallas Goedert",
                                    "3": "Phi",
                                    "4": "TE   ",
                                    "5": "Todd",
                                    "6": "Todd"
                                },
                                {
                                    "0": "2018",
                                    "1": "5-8 ",
                                    "2": "Ronald Jones",
                                    "3": "TB ",
                                    "4": "RB   ",
                                    "5": "Christine",
                                    "6": "Christine"
                                },
                                {
                                    "0": "2018",
                                    "1": "6-1 ",
                                    "2": "Mike Williams",
                                    "3": "LAC",
                                    "4": "WR   ",
                                    "5": "Jon",
                                    "6": "Jon"
                                },
                                {
                                    "0": "2018",
                                    "1": "6-2 ",
                                    "2": "Jonnu Smith",
                                    "3": "Ten",
                                    "4": "TE   ",
                                    "5": "Ian",
                                    "6": "Ian"
                                },
                                {
                                    "0": "2018",
                                    "1": "6-3 ",
                                    "2": "Cordarrelle Patterson",
                                    "3": "NE ",
                                    "4": "WR   ",
                                    "5": "Ian",
                                    "6": "Ian"
                                },
                                {
                                    "0": "2018",
                                    "1": "6-4 ",
                                    "2": "Andy Dalton",
                                    "3": "Cin",
                                    "4": "QB   ",
                                    "5": "Brian",
                                    "6": "Brian"
                                },
                                {
                                    "0": "2018",
                                    "1": "6-6 ",
                                    "2": "Calvin Ridley",
                                    "3": "Atl",
                                    "4": "WR   ",
                                    "5": "Adrian",
                                    "6": "Adrian"
                                },
                                {
                                    "0": "2018",
                                    "1": "6-7 ",
                                    "2": "Greg Zuerlein",
                                    "3": "LAR",
                                    "4": "K    ",
                                    "5": "Todd",
                                    "6": "Todd"
                                },
                                {
                                    "0": "2018",
                                    "1": "6-8 ",
                                    "2": "Anthony Miller",
                                    "3": "Chi",
                                    "4": "WR   ",
                                    "5": "Christine",
                                    "6": "Christine"
                                },
                                {
                                    "0": "2018",
                                    "1": "7-1 ",
                                    "2": "Brett Maher",
                                    "3": "Dal",
                                    "4": "K    ",
                                    "5": "Ian",
                                    "6": "Ian"
                                },
                                {
                                    "0": "2018",
                                    "1": "7-2 ",
                                    "2": "Benjamin Watson",
                                    "3": "NO ",
                                    "4": "TE   ",
                                    "5": "Jon",
                                    "6": "Jon"
                                },
                                {
                                    "0": "2018",
                                    "1": "7-3 ",
                                    "2": "Mason Rudolph",
                                    "3": "Pit",
                                    "4": "QB   ",
                                    "5": "William",
                                    "6": "William"
                                },
                                {
                                    "0": "2018",
                                    "1": "7-4 ",
                                    "2": "Chris Boswell",
                                    "3": "Pit",
                                    "4": "K    ",
                                    "5": "Brian",
                                    "6": "Brian"
                                },
                                {
                                    "0": "2018",
                                    "1": "7-6 ",
                                    "2": "Robbie Gould",
                                    "3": "SF ",
                                    "4": "K    ",
                                    "5": "Adrian",
                                    "6": "Adrian"
                                },
                                {
                                    "0": "2018",
                                    "1": "7-7 ",
                                    "2": "Case Keenum",
                                    "3": "Den",
                                    "4": "QB   ",
                                    "5": "William",
                                    "6": "William"
                                },
                                {
                                    "0": "2018",
                                    "1": "7-8 ",
                                    "2": "Christian Kirk",
                                    "3": "Ari",
                                    "4": "WR   ",
                                    "5": "Christine",
                                    "6": "Christine"
                                },
                                {
                                    "0": "2018",
                                    "1": "8-1 ",
                                    "2": "Marquez Valdes-Scantling",
                                    "3": "GB ",
                                    "4": "WR   ",
                                    "5": "Ian",
                                    "6": "Ian"
                                },
                                {
                                    "0": "2018",
                                    "1": "8-2 ",
                                    "2": "Jake Elliott",
                                    "3": "Phi",
                                    "4": "K    ",
                                    "5": "Jon",
                                    "6": "Jon"
                                },
                                {
                                    "0": "2018",
                                    "1": "8-3 ",
                                    "2": "Josh Lambo",
                                    "3": "Jax",
                                    "4": "K    ",
                                    "5": "William",
                                    "6": "William"
                                },
                                {
                                    "0": "2018",
                                    "1": "8-4 ",
                                    "2": "Tyler Eifert",
                                    "3": "Cin",
                                    "4": "TE   ",
                                    "5": "Brian",
                                    "6": "Brian"
                                },
                                {
                                    "0": "2018",
                                    "1": "8-6 ",
                                    "2": "Boston Scott",
                                    "3": "NO ",
                                    "4": "RB   ",
                                    "5": "Adrian",
                                    "6": "Adrian"
                                },
                                {
                                    "0": "2018",
                                    "1": "8-7 ",
                                    "2": "Keelan Cole",
                                    "3": "Jax",
                                    "4": "WR   ",
                                    "5": "Ian",
                                    "6": "Ian"
                                },
                                {
                                    "0": "2018",
                                    "1": "8-8 ",
                                    "2": "Dante Pettis",
                                    "3": "SF ",
                                    "4": "WR   ",
                                    "5": "Christine",
                                    "6": "Christine"
                                },
                                {
                                    "0": "2018",
                                    "1": "9-1 ",
                                    "2": "Mark Andrews",
                                    "3": "Bal",
                                    "4": "TE   ",
                                    "5": "Christine",
                                    "6": "Christine"
                                },
                                {
                                    "0": "2018",
                                    "1": "9-2 ",
                                    "2": "Chris Thompson",
                                    "3": "Wsh",
                                    "4": "RB   ",
                                    "5": "Jon",
                                    "6": "Jon"
                                },
                                {
                                    "0": "2018",
                                    "1": "9-3 ",
                                    "2": "Jacob Hollister",
                                    "3": "NE ",
                                    "4": "TE   ",
                                    "5": "William",
                                    "6": "William"
                                },
                                {
                                    "0": "2018",
                                    "1": "9-4 ",
                                    "2": "Ryan Succop",
                                    "3": "Ten",
                                    "4": "K    ",
                                    "5": "Brian",
                                    "6": "Brian"
                                },
                                {
                                    "0": "2018",
                                    "1": "9-6 ",
                                    "2": "Robby Anderson",
                                    "3": "NYJ",
                                    "4": "WR   ",
                                    "5": "Adrian",
                                    "6": "Adrian"
                                },
                                {
                                    "0": "2018",
                                    "1": "9-7 ",
                                    "2": "John Kelly",
                                    "3": "LAR",
                                    "4": "RB   ",
                                    "5": "Todd",
                                    "6": "Todd"
                                },
                                {
                                    "0": "2018",
                                    "1": "9-8 ",
                                    "2": "Josh McCown",
                                    "3": "NYJ",
                                    "4": "QB   ",
                                    "5": "Christine",
                                    "6": "Christine"
                                }
                            ]
                        },
                        "text/html": "<table><tr><th>draftyear</th><th>pick</th><th>player</th><th>NFLTeam</th><th>Position</th><th>Drafting_owner</th><th>Current_team_owner</th></tr><tr><td>2012</td><td>1-1 </td><td>Aaron Rodgers</td><td>GB </td><td>QB   </td><td>Cody</td><td>Jon</td></tr><tr><td>2012</td><td>1-2 </td><td>Arian Foster</td><td>Hou</td><td>RB   </td><td>William</td><td>NULL</td></tr><tr><td>2012</td><td>1-3 </td><td>Ray Rice</td><td>Bal</td><td>RB   </td><td>Todd</td><td>NULL</td></tr><tr><td>2012</td><td>1-4 </td><td>LeSean McCoy</td><td>Phi</td><td>RB   </td><td>Christine</td><td>Christine</td></tr><tr><td>2012</td><td>1-5 </td><td>Drew Brees</td><td>NO </td><td>QB   </td><td>Ian</td><td>Ian</td></tr><tr><td>2012</td><td>1-6 </td><td>Cam Newton</td><td>Car</td><td>QB   </td><td>Patrick</td><td>Adrian</td></tr><tr><td>2012</td><td>1-7 </td><td>Matthew Stafford</td><td>Det</td><td>QB   </td><td>Brian</td><td>Brian</td></tr><tr><td>2012</td><td>1-8 </td><td>Calvin Johnson</td><td>Det</td><td>WR   </td><td>Paul</td><td>NULL</td></tr><tr><td>2012</td><td>2-1 </td><td>Jimmy Graham</td><td>NO </td><td>TE   </td><td>Paul</td><td>Paul</td></tr><tr><td>2012</td><td>2-2 </td><td>Julio Jones</td><td>Atl</td><td>WR   </td><td>Brian</td><td>NULL</td></tr><tr><td>2012</td><td>2-3 </td><td>Maurice Jones-Drew</td><td>Jac</td><td>RB   </td><td>Patrick</td><td>NULL</td></tr><tr><td>2012</td><td>2-4 </td><td>Matt Forte</td><td>Chi</td><td>RB   </td><td>Ian</td><td>NULL</td></tr><tr><td>2012</td><td>2-5 </td><td>Rob Gronkowski</td><td>NE </td><td>TE   </td><td>Christine</td><td>Christine</td></tr><tr><td>2012</td><td>2-6 </td><td>Tom Brady</td><td>NE </td><td>QB   </td><td>Todd</td><td>NULL</td></tr><tr><td>2012</td><td>2-7 </td><td>Chris Johnson</td><td>Ten</td><td>RB   </td><td>William</td><td>NULL</td></tr><tr><td>2012</td><td>2-8 </td><td>Doug Martin</td><td>TB </td><td>RB   </td><td>Cody</td><td>NULL</td></tr><tr><td>2012</td><td>3-1 </td><td>A.J. Green</td><td>Cin</td><td>WR   </td><td>Cody</td><td>Jon</td></tr><tr><td>2012</td><td>3-2 </td><td>Larry Fitzgerald</td><td>Ari</td><td>WR   </td><td>William</td><td>William</td></tr><tr><td>2012</td><td>3-3 </td><td>Adrian Peterson</td><td>Min</td><td>RB   </td><td>Todd</td><td>NULL</td></tr><tr><td>2012</td><td>3-4 </td><td>Greg Jennings</td><td>GB </td><td>WR   </td><td>Christine</td><td>NULL</td></tr><tr><td>2012</td><td>3-5 </td><td>Roddy White</td><td>Atl</td><td>WR   </td><td>Ian</td><td>NULL</td></tr><tr><td>2012</td><td>3-6 </td><td>Darren McFadden</td><td>Oak</td><td>RB   </td><td>Patrick</td><td>NULL</td></tr><tr><td>2012</td><td>3-7 </td><td>Matt Ryan</td><td>Atl</td><td>QB   </td><td>Brian</td><td>NULL</td></tr><tr><td>2012</td><td>3-8 </td><td>Eli Manning</td><td>NYG</td><td>QB   </td><td>Paul</td><td>Paul</td></tr><tr><td>2012</td><td>4-1 </td><td>Ryan Mathews</td><td>SD </td><td>RB   </td><td>Paul</td><td>NULL</td></tr><tr><td>2012</td><td>4-2 </td><td>Antonio Brown</td><td>Pit</td><td>WR   </td><td>Brian</td><td>Brian</td></tr><tr><td>2012</td><td>4-3 </td><td>Peyton Manning</td><td>Den</td><td>QB   </td><td>Patrick</td><td>NULL</td></tr><tr><td>2012</td><td>4-4 </td><td>Antonio Gates</td><td>SD </td><td>TE   </td><td>Ian</td><td>NULL</td></tr><tr><td>2012</td><td>4-5 </td><td>Tony Romo</td><td>Dal</td><td>QB   </td><td>Christine</td><td>NULL</td></tr><tr><td>2012</td><td>4-6 </td><td>Trent Richardson</td><td>Cle</td><td>RB   </td><td>Todd</td><td>NULL</td></tr><tr><td>2012</td><td>4-7 </td><td>Hakeem Nicks</td><td>NYG</td><td>WR   </td><td>William</td><td>NULL</td></tr><tr><td>2012</td><td>4-8 </td><td>Aaron Hernandez</td><td>NE </td><td>TE   </td><td>Cody</td><td>NULL</td></tr><tr><td>2012</td><td>5-1 </td><td>Willis McGahee</td><td>Den</td><td>RB   </td><td>Cody</td><td>NULL</td></tr><tr><td>2012</td><td>5-2 </td><td>DeMarco Murray</td><td>Dal</td><td>RB   </td><td>William</td><td>NULL</td></tr><tr><td>2012</td><td>5-3 </td><td>Jordy Nelson</td><td>GB </td><td>WR   </td><td>Todd</td><td>Todd</td></tr><tr><td>2012</td><td>5-4 </td><td>Wes Welker</td><td>NE </td><td>WR   </td><td>Christine</td><td>NULL</td></tr><tr><td>2012</td><td>5-5 </td><td>Darren Sproles</td><td>NO </td><td>RB   </td><td>Ian</td><td>NULL</td></tr><tr><td>2012</td><td>5-6 </td><td>Brandon Marshall</td><td>Chi</td><td>WR   </td><td>Patrick</td><td>NULL</td></tr><tr><td>2012</td><td>5-7 </td><td>Jamaal Charles</td><td>KC </td><td>RB   </td><td>Brian</td><td>NULL</td></tr><tr><td>2012</td><td>5-8 </td><td>Steve Smith</td><td>Car</td><td>WR   </td><td>Paul</td><td>NULL</td></tr><tr><td>2012</td><td>6-1 </td><td>Reggie Bush</td><td>Mia</td><td>RB   </td><td>Paul</td><td>NULL</td></tr><tr><td>2012</td><td>6-2 </td><td>Andrew Luck</td><td>Ind</td><td>QB   </td><td>Brian</td><td>NULL</td></tr><tr><td>2012</td><td>6-3 </td><td>Marques Colston</td><td>NO </td><td>WR   </td><td>Patrick</td><td>NULL</td></tr><tr><td>2012</td><td>6-4 </td><td>Andre Johnson</td><td>Hou</td><td>WR   </td><td>Ian</td><td>NULL</td></tr><tr><td>2012</td><td>6-5 </td><td>Ahmad Bradshaw</td><td>NYG</td><td>RB   </td><td>Christine</td><td>NULL</td></tr><tr><td>2012</td><td>6-6 </td><td>Robert Griffin III</td><td>Wsh</td><td>QB   </td><td>Todd</td><td>NULL</td></tr><tr><td>2012</td><td>6-7 </td><td>Philip Rivers</td><td>SD </td><td>QB   </td><td>William</td><td>NULL</td></tr><tr><td>2012</td><td>6-8 </td><td>Jermichael Finley</td><td>GB </td><td>TE   </td><td>Cody</td><td>NULL</td></tr><tr><td>2012</td><td>7-1 </td><td>Beanie Wells</td><td>Ari</td><td>RB   </td><td>Cody</td><td>NULL</td></tr><tr><td>2012</td><td>7-2 </td><td>Dez Bryant</td><td>Dal</td><td>WR   </td><td>William</td><td>NULL</td></tr><tr><td>2012</td><td>7-3 </td><td>Jeremy Maclin</td><td>Phi</td><td>WR   </td><td>Todd</td><td>NULL</td></tr><tr><td>2012</td><td>7-4 </td><td>Mark Ingram II</td><td>NO </td><td>RB   </td><td>Christine</td><td>Christine</td></tr><tr><td>2012</td><td>7-5 </td><td>Garrett Hartley</td><td>NO </td><td>K    </td><td>Ian</td><td>NULL</td></tr><tr><td>2012</td><td>7-6 </td><td>Vernon Davis</td><td>SF </td><td>TE   </td><td>Patrick</td><td>NULL</td></tr><tr><td>2012</td><td>7-7 </td><td>Eric Decker</td><td>Den</td><td>WR   </td><td>Brian</td><td>NULL</td></tr><tr><td>2012</td><td>7-8 </td><td>Stephen Gostkowski</td><td>NE </td><td>K    </td><td>Paul</td><td>Paul</td></tr><tr><td>2012</td><td>8-1 </td><td>Brandon Pettigrew</td><td>Det</td><td>TE   </td><td>Paul</td><td>NULL</td></tr><tr><td>2012</td><td>8-2 </td><td>Fred Jackson</td><td>Buf</td><td>RB   </td><td>Brian</td><td>NULL</td></tr><tr><td>2012</td><td>8-3 </td><td>Steven Jackson</td><td>StL</td><td>RB   </td><td>Patrick</td><td>NULL</td></tr><tr><td>2012</td><td>8-4 </td><td>Ben Roethlisberger</td><td>Pit</td><td>QB   </td><td>Ian</td><td>Ian</td></tr><tr><td>2012</td><td>8-5 </td><td>Frank Gore</td><td>SF </td><td>RB   </td><td>Christine</td><td>NULL</td></tr><tr><td>2012</td><td>8-6 </td><td>David Akers</td><td>SF </td><td>K    </td><td>Todd</td><td>NULL</td></tr><tr><td>2012</td><td>8-7 </td><td>Mike Wallace</td><td>Pit</td><td>WR   </td><td>William</td><td>NULL</td></tr><tr><td>2012</td><td>8-8 </td><td>Jay Cutler</td><td>Chi</td><td>QB   </td><td>Cody</td><td>NULL</td></tr><tr><td>2012</td><td>9-1 </td><td>Mason Crosby</td><td>GB </td><td>K    </td><td>Cody</td><td>Jon</td></tr><tr><td>2012</td><td>9-2 </td><td>Andy Dalton</td><td>Cin</td><td>QB   </td><td>William</td><td>NULL</td></tr><tr><td>2012</td><td>9-3 </td><td>Torrey Smith</td><td>Bal</td><td>WR   </td><td>Todd</td><td>NULL</td></tr><tr><td>2012</td><td>9-4 </td><td>DeAngelo Williams</td><td>Car</td><td>RB   </td><td>Christine</td><td>NULL</td></tr><tr><td>2012</td><td>9-5 </td><td>BenJarvus Green-Ellis</td><td>Cin</td><td>RB   </td><td>Ian</td><td>NULL</td></tr><tr><td>2012</td><td>9-6 </td><td>Miles Austin</td><td>Dal</td><td>WR   </td><td>Patrick</td><td>NULL</td></tr><tr><td>2012</td><td>9-7 </td><td>Justin Blackmon</td><td>Jac</td><td>WR   </td><td>Brian</td><td>NULL</td></tr><tr><td>2012</td><td>9-8 </td><td>Lance Moore</td><td>NO </td><td>WR   </td><td>Paul</td><td>NULL</td></tr><tr><td>2012</td><td>10-1</td><td>Roy Helu</td><td>Wsh</td><td>RB   </td><td>Paul</td><td>NULL</td></tr><tr><td>2012</td><td>10-2</td><td>Denarius Moore</td><td>Oak</td><td>WR   </td><td>Brian</td><td>NULL</td></tr><tr><td>2012</td><td>10-3</td><td>Brandon Lloyd</td><td>NE </td><td>WR   </td><td>Patrick</td><td>NULL</td></tr><tr><td>2012</td><td>10-4</td><td>Titus Young</td><td>Det</td><td>WR   </td><td>Ian</td><td>NULL</td></tr><tr><td>2012</td><td>10-5</td><td>Tim Tebow</td><td>NYJ</td><td>QB   </td><td>Christine</td><td>NULL</td></tr><tr><td>2012</td><td>10-6</td><td>Jacob Tamme</td><td>Den</td><td>TE   </td><td>Todd</td><td>NULL</td></tr><tr><td>2012</td><td>10-7</td><td>Alex Henery</td><td>Phi</td><td>K    </td><td>William</td><td>NULL</td></tr><tr><td>2012</td><td>10-8</td><td>Victor Cruz</td><td>NYG</td><td>WR   </td><td>Cody</td><td>NULL</td></tr><tr><td>2012</td><td>11-1</td><td>Marshawn Lynch</td><td>Sea</td><td>RB   </td><td>Cody</td><td>NULL</td></tr><tr><td>2012</td><td>11-2</td><td>Jermaine Gresham</td><td>Cin</td><td>TE   </td><td>William</td><td>NULL</td></tr><tr><td>2012</td><td>11-3</td><td>Stevan Ridley</td><td>NE </td><td>RB   </td><td>Todd</td><td>NULL</td></tr><tr><td>2012</td><td>11-4</td><td>Dwayne Bowe</td><td>KC </td><td>WR   </td><td>Christine</td><td>NULL</td></tr><tr><td>2012</td><td>11-5</td><td>Tony Gonzalez</td><td>Atl</td><td>TE   </td><td>Ian</td><td>NULL</td></tr><tr><td>2012</td><td>11-6</td><td>Reggie Wayne</td><td>Ind</td><td>WR   </td><td>Patrick</td><td>NULL</td></tr><tr><td>2012</td><td>11-7</td><td>Jake Locker</td><td>Ten</td><td>QB   </td><td>Brian</td><td>NULL</td></tr><tr><td>2012</td><td>11-8</td><td>Matt Flynn</td><td>Sea</td><td>QB   </td><td>Paul</td><td>NULL</td></tr><tr><td>2012</td><td>12-1</td><td>C.J. Spiller</td><td>Buf</td><td>RB   </td><td>Paul</td><td>NULL</td></tr><tr><td>2012</td><td>12-2</td><td>Jared Cook</td><td>Ten</td><td>TE   </td><td>Brian</td><td>NULL</td></tr><tr><td>2012</td><td>12-3</td><td>Greg Olsen</td><td>Car</td><td>TE   </td><td>Patrick</td><td>Adrian</td></tr><tr><td>2012</td><td>12-4</td><td>Greg Little</td><td>Cle</td><td>WR   </td><td>Ian</td><td>NULL</td></tr><tr><td>2012</td><td>12-5</td><td>Anquan Boldin</td><td>Bal</td><td>WR   </td><td>Christine</td><td>NULL</td></tr><tr><td>2012</td><td>12-6</td><td>Nate Kaeding</td><td>Mia</td><td>K    </td><td>Todd</td><td>NULL</td></tr><tr><td>2012</td><td>12-7</td><td>Rashad Jennings</td><td>Jac</td><td>RB   </td><td>William</td><td>NULL</td></tr><tr><td>2012</td><td>12-8</td><td>Michael Vick</td><td>Phi</td><td>QB   </td><td>Cody</td><td>NULL</td></tr><tr><td>2012</td><td>13-1</td><td>Pierre Thomas</td><td>NO </td><td>RB   </td><td>Cody</td><td>NULL</td></tr><tr><td>2012</td><td>13-2</td><td>Ben Tate</td><td>Hou</td><td>RB   </td><td>William</td><td>NULL</td></tr><tr><td>2012</td><td>13-3</td><td>Demaryius Thomas</td><td>Den</td><td>WR   </td><td>Todd</td><td>Todd</td></tr><tr><td>2012</td><td>13-4</td><td>Jason Witten</td><td>Dal</td><td>TE   </td><td>Christine</td><td>NULL</td></tr><tr><td>2012</td><td>13-5</td><td>Dustin Keller</td><td>NYJ</td><td>TE   </td><td>Ian</td><td>NULL</td></tr><tr><td>2012</td><td>13-6</td><td>Matt Bryant</td><td>Atl</td><td>K    </td><td>Patrick</td><td>NULL</td></tr><tr><td>2012</td><td>13-7</td><td>Kendall Wright</td><td>Ten</td><td>WR   </td><td>Brian</td><td>NULL</td></tr><tr><td>2012</td><td>13-8</td><td>Matt Prater</td><td>Den</td><td>K    </td><td>Paul</td><td>Paul</td></tr><tr><td>2012</td><td>14-1</td><td>Rueben Randle</td><td>NYG</td><td>WR   </td><td>Paul</td><td>NULL</td></tr><tr><td>2012</td><td>14-2</td><td>Ryan Williams</td><td>Ari</td><td>RB   </td><td>Brian</td><td>NULL</td></tr><tr><td>2012</td><td>14-3</td><td>Michael Turner</td><td>Atl</td><td>RB   </td><td>Patrick</td><td>NULL</td></tr><tr><td>2012</td><td>14-4</td><td>Dan Bailey</td><td>Dal</td><td>K    </td><td>Ian</td><td>Ian</td></tr><tr><td>2012</td><td>14-5</td><td>Sebastian Janikowski</td><td>Oak</td><td>K    </td><td>Christine</td><td>NULL</td></tr><tr><td>2012</td><td>14-6</td><td>Kyle Rudolph</td><td>Min</td><td>TE   </td><td>Todd</td><td>NULL</td></tr><tr><td>2012</td><td>14-7</td><td>Coby Fleener</td><td>Ind</td><td>TE   </td><td>William</td><td>NULL</td></tr><tr><td>2012</td><td>14-8</td><td>Robbie Gould</td><td>Chi</td><td>K    </td><td>Cody</td><td>NULL</td></tr><tr><td>2012</td><td>15-1</td><td>Vincent Jackson</td><td>TB </td><td>WR   </td><td>Cody</td><td>NULL</td></tr><tr><td>2012</td><td>15-2</td><td>Dion Lewis</td><td>Phi</td><td>RB   </td><td>William</td><td>NULL</td></tr><tr><td>2012</td><td>15-3</td><td>Percy Harvin</td><td>Min</td><td>WR   </td><td>Todd</td><td>NULL</td></tr><tr><td>2012</td><td>15-4</td><td>Joe Flacco</td><td>Bal</td><td>QB   </td><td>Christine</td><td>NULL</td></tr><tr><td>2012</td><td>15-5</td><td>Jacquizz Rodgers</td><td>Atl</td><td>RB   </td><td>Ian</td><td>NULL</td></tr><tr><td>2012</td><td>15-6</td><td>DeSean Jackson</td><td>Phi</td><td>WR   </td><td>Patrick</td><td>Adrian</td></tr><tr><td>2012</td><td>15-7</td><td>David Wilson</td><td>NYG</td><td>RB   </td><td>Brian</td><td>NULL</td></tr><tr><td>2012</td><td>15-8</td><td>Mark Sanchez</td><td>NYJ</td><td>QB   </td><td>Paul</td><td>NULL</td></tr><tr><td>2012</td><td>16-1</td><td>Shonn Greene</td><td>NYJ</td><td>RB   </td><td>Paul</td><td>NULL</td></tr><tr><td>2012</td><td>16-2</td><td>Fred Davis</td><td>Wsh</td><td>TE   </td><td>Brian</td><td>NULL</td></tr><tr><td>2012</td><td>16-3</td><td>Peyton Hillis</td><td>KC </td><td>RB   </td><td>Patrick</td><td>NULL</td></tr><tr><td>2012</td><td>16-4</td><td>Matt Schaub</td><td>Hou</td><td>QB   </td><td>Ian</td><td>NULL</td></tr><tr><td>2012</td><td>16-5</td><td>Owen Daniels</td><td>Hou</td><td>TE   </td><td>Christine</td><td>NULL</td></tr><tr><td>2012</td><td>16-6</td><td>Alex Smith</td><td>SF </td><td>QB   </td><td>Todd</td><td>NULL</td></tr><tr><td>2012</td><td>16-7</td><td>Alex Green</td><td>GB </td><td>RB   </td><td>William</td><td>NULL</td></tr><tr><td>2012</td><td>16-8</td><td>Nate Washington</td><td>Ten</td><td>WR   </td><td>Cody</td><td>NULL</td></tr><tr><td>2012</td><td>17-1</td><td>LeGarrette Blount</td><td>TB </td><td>RB   </td><td>Cody</td><td>NULL</td></tr><tr><td>2012</td><td>17-2</td><td>Josh Freeman</td><td>TB </td><td>QB   </td><td>William</td><td>NULL</td></tr><tr><td>2012</td><td>17-3</td><td>Toby Gerhart</td><td>Min</td><td>RB   </td><td>Todd</td><td>NULL</td></tr><tr><td>2012</td><td>17-4</td><td>Steve Johnson</td><td>Buf</td><td>WR   </td><td>Christine</td><td>NULL</td></tr><tr><td>2012</td><td>17-5</td><td>Felix Jones</td><td>Dal</td><td>RB   </td><td>Ian</td><td>NULL</td></tr><tr><td>2012</td><td>17-6</td><td>Russell Wilson</td><td>Sea</td><td>QB   </td><td>Patrick</td><td>Adrian</td></tr><tr><td>2012</td><td>17-7</td><td>Rob Bironas</td><td>Ten</td><td>K    </td><td>Brian</td><td>NULL</td></tr><tr><td>2012</td><td>17-8</td><td>Scott Chandler</td><td>Buf</td><td>TE   </td><td>Paul</td><td>NULL</td></tr><tr><td>2012</td><td>18-1</td><td>Sidney Rice</td><td>Sea</td><td>WR   </td><td>Paul</td><td>NULL</td></tr><tr><td>2012</td><td>18-2</td><td>Vincent Brown</td><td>SD </td><td>WR   </td><td>Brian</td><td>NULL</td></tr><tr><td>2012</td><td>18-3</td><td>Malcom Floyd</td><td>SD </td><td>WR   </td><td>Patrick</td><td>NULL</td></tr><tr><td>2012</td><td>18-4</td><td>Robert Meachem</td><td>SD </td><td>WR   </td><td>Ian</td><td>NULL</td></tr><tr><td>2012</td><td>18-5</td><td>Cedric Benson</td><td>GB </td><td>RB   </td><td>Christine</td><td>NULL</td></tr><tr><td>2012</td><td>18-6</td><td>Jason Hanson</td><td>Det</td><td>K    </td><td>Todd</td><td>NULL</td></tr><tr><td>2012</td><td>18-7</td><td>James Jones</td><td>GB </td><td>WR   </td><td>William</td><td>NULL</td></tr><tr><td>2012</td><td>18-8</td><td>Santonio Holmes</td><td>NYJ</td><td>WR   </td><td>Cody</td><td>NULL</td></tr><tr><td>2012</td><td>19-1</td><td>Rashard Mendenhall</td><td>Pit</td><td>RB   </td><td>Cody</td><td>NULL</td></tr><tr><td>2012</td><td>19-2</td><td>Marcedes Lewis</td><td>Jac</td><td>TE   </td><td>William</td><td>NULL</td></tr><tr><td>2012</td><td>19-3</td><td>Donald Brown</td><td>Ind</td><td>RB   </td><td>Todd</td><td>NULL</td></tr><tr><td>2012</td><td>19-4</td><td>Jay Feely</td><td>Ari</td><td>K    </td><td>Christine</td><td>NULL</td></tr><tr><td>2012</td><td>19-5</td><td>Chris Ivory</td><td>NO </td><td>RB   </td><td>Ian</td><td>NULL</td></tr><tr><td>2012</td><td>19-6</td><td>Darrius Heyward-Bey</td><td>Oak</td><td>WR   </td><td>Patrick</td><td>NULL</td></tr><tr><td>2012</td><td>19-7</td><td>Dwayne Allen</td><td>Ind</td><td>TE   </td><td>Brian</td><td>NULL</td></tr><tr><td>2012</td><td>19-8</td><td>Laurent Robinson</td><td>Jac</td><td>WR   </td><td>Paul</td><td>NULL</td></tr><tr><td>2012</td><td>20-1</td><td>Kevin Smith</td><td>Det</td><td>RB   </td><td>Paul</td><td>NULL</td></tr><tr><td>2012</td><td>20-2</td><td>Greg Zuerlein</td><td>StL</td><td>K    </td><td>Brian</td><td>NULL</td></tr><tr><td>2012</td><td>20-3</td><td>Dallas Clark</td><td>TB </td><td>TE   </td><td>Patrick</td><td>NULL</td></tr><tr><td>2012</td><td>20-4</td><td>Santana Moss</td><td>Wsh</td><td>WR   </td><td>Ian</td><td>NULL</td></tr><tr><td>2012</td><td>20-5</td><td>Brandon LaFell</td><td>Car</td><td>WR   </td><td>Christine</td><td>NULL</td></tr><tr><td>2012</td><td>20-6</td><td>Randall Cobb</td><td>GB </td><td>WR   </td><td>Todd</td><td>Todd</td></tr><tr><td>2012</td><td>20-7</td><td>Javon Ringer</td><td>Ten</td><td>RB   </td><td>William</td><td>NULL</td></tr><tr><td>2012</td><td>20-8</td><td>Carson Palmer</td><td>Oak</td><td>QB   </td><td>Cody</td><td>NULL</td></tr><tr><td>2012</td><td>21-1</td><td>Mike Nugent</td><td>Cin</td><td>K    </td><td>Cody</td><td>NULL</td></tr><tr><td>2012</td><td>21-2</td><td>Shayne Graham</td><td>Hou</td><td>K    </td><td>William</td><td>NULL</td></tr><tr><td>2012</td><td>21-3</td><td>Isaac Redman</td><td>Pit</td><td>RB   </td><td>Todd</td><td>NULL</td></tr><tr><td>2012</td><td>21-4</td><td>Christian Ponder</td><td>Min</td><td>QB   </td><td>Christine</td><td>NULL</td></tr><tr><td>2012</td><td>21-5</td><td>Jonathan Stewart</td><td>Car</td><td>RB   </td><td>Ian</td><td>NULL</td></tr><tr><td>2012</td><td>21-6</td><td>Mario Manningham</td><td>SF </td><td>WR   </td><td>Patrick</td><td>NULL</td></tr><tr><td>2012</td><td>21-7</td><td>Ronnie Hillman</td><td>Den</td><td>RB   </td><td>Brian</td><td>NULL</td></tr><tr><td>2012</td><td>21-8</td><td>Matt Cassel</td><td>KC </td><td>QB   </td><td>Paul</td><td>NULL</td></tr><tr><td>2012</td><td>22-1</td><td>Brandon Jacobs</td><td>SF </td><td>RB   </td><td>Paul</td><td>NULL</td></tr><tr><td>2012</td><td>22-2</td><td>Kenny Britt</td><td>Ten</td><td>WR   </td><td>Brian</td><td>NULL</td></tr><tr><td>2012</td><td>22-3</td><td>LaMichael James</td><td>SF </td><td>RB   </td><td>Patrick</td><td>NULL</td></tr><tr><td>2012</td><td>22-4</td><td>Mohamed Sanu</td><td>Cin</td><td>WR   </td><td>Ian</td><td>Ian</td></tr><tr><td>2012</td><td>22-5</td><td>Nate Burleson</td><td>Det</td><td>WR   </td><td>Christine</td><td>NULL</td></tr><tr><td>2012</td><td>22-6</td><td>Evan Royster</td><td>Wsh</td><td>RB   </td><td>Todd</td><td>NULL</td></tr><tr><td>2012</td><td>22-7</td><td>Emmanuel Sanders</td><td>Pit</td><td>WR   </td><td>William</td><td>William</td></tr><tr><td>2012</td><td>22-8</td><td>Randy Moss</td><td>SF </td><td>WR   </td><td>Cody</td><td>NULL</td></tr><tr><td>2012</td><td>23-1</td><td>Joe McKnight</td><td>NYJ</td><td>RB   </td><td>Cody</td><td>NULL</td></tr><tr><td>2012</td><td>23-2</td><td>Ryan Tannehill</td><td>Mia</td><td>QB   </td><td>William</td><td>NULL</td></tr><tr><td>2012</td><td>23-3</td><td>Michael Floyd</td><td>Ari</td><td>WR   </td><td>Todd</td><td>NULL</td></tr><tr><td>2012</td><td>23-4</td><td>Daniel Thomas</td><td>Mia</td><td>RB   </td><td>Christine</td><td>NULL</td></tr><tr><td>2012</td><td>23-5</td><td>Mike Tolbert</td><td>Car</td><td>RB   </td><td>Ian</td><td>NULL</td></tr><tr><td>2012</td><td>23-6</td><td>Dexter McCluster</td><td>KC </td><td>RB   </td><td>Patrick</td><td>NULL</td></tr><tr><td>2012</td><td>23-7</td><td>Mikel Leshoure</td><td>Det</td><td>RB   </td><td>Brian</td><td>NULL</td></tr><tr><td>2012</td><td>23-8</td><td>Ed Dickson</td><td>Bal</td><td>TE   </td><td>Paul</td><td>NULL</td></tr><tr><td>2012</td><td>24-1</td><td>Devery Henderson</td><td>NO </td><td>WR   </td><td>Paul</td><td>NULL</td></tr><tr><td>2012</td><td>24-2</td><td>Ryan Fitzpatrick</td><td>Buf</td><td>QB   </td><td>Brian</td><td>NULL</td></tr><tr><td>2012</td><td>24-3</td><td>Adam Vinatieri</td><td>Ind</td><td>K    </td><td>Patrick</td><td>Adrian</td></tr><tr><td>2012</td><td>24-4</td><td>Lance Ball</td><td>Den</td><td>RB   </td><td>Ian</td><td>NULL</td></tr><tr><td>2012</td><td>24-5</td><td>Bernard Scott</td><td>Cin</td><td>RB   </td><td>Christine</td><td>NULL</td></tr><tr><td>2012</td><td>24-6</td><td>Pierre Garcon</td><td>Wsh</td><td>WR   </td><td>Todd</td><td>NULL</td></tr><tr><td>2012</td><td>24-7</td><td>Eddie Royal</td><td>SD </td><td>WR   </td><td>William</td><td>NULL</td></tr><tr><td>2012</td><td>24-8</td><td>Evan Moore</td><td>Phi</td><td>TE   </td><td>Cody</td><td>NULL</td></tr><tr><td>2012</td><td>25-1</td><td>John Carlson</td><td>Min</td><td>TE   </td><td>Cody</td><td>NULL</td></tr><tr><td>2012</td><td>25-2</td><td>Michael Bush</td><td>Chi</td><td>RB   </td><td>William</td><td>NULL</td></tr><tr><td>2012</td><td>25-3</td><td>Vick Ballard</td><td>Ind</td><td>RB   </td><td>Todd</td><td>NULL</td></tr><tr><td>2012</td><td>25-4</td><td>Martellus Bennett</td><td>NYG</td><td>TE   </td><td>Christine</td><td>NULL</td></tr><tr><td>2012</td><td>25-5</td><td>Kellen Davis</td><td>Chi</td><td>TE   </td><td>Ian</td><td>NULL</td></tr><tr><td>2012</td><td>25-6</td><td>Michael Crabtree</td><td>SF </td><td>WR   </td><td>Patrick</td><td>NULL</td></tr><tr><td>2012</td><td>25-7</td><td>Chris Rainey</td><td>Pit</td><td>RB   </td><td>Brian</td><td>NULL</td></tr><tr><td>2012</td><td>25-8</td><td>Isaiah Pead</td><td>StL</td><td>RB   </td><td>Paul</td><td>NULL</td></tr><tr><td>2013</td><td>1-1 </td><td>Colin Kaepernick</td><td>SF </td><td>QB   </td><td>Christine</td><td>NULL</td></tr><tr><td>2013</td><td>1-2 </td><td>Alfred Morris</td><td>Wsh</td><td>RB   </td><td>Paul</td><td>NULL</td></tr><tr><td>2013</td><td>1-3 </td><td>Victor Cruz</td><td>NYG</td><td>WR   </td><td>Brian</td><td>NULL</td></tr><tr><td>2013</td><td>1-4 </td><td>Eddie Lacy</td><td>GB </td><td>RB   </td><td>Cody</td><td>NULL</td></tr><tr><td>2013</td><td>1-5 </td><td>Montee Ball</td><td>Den</td><td>RB   </td><td>William</td><td>NULL</td></tr><tr><td>2013</td><td>1-6 </td><td>Kenny Stills</td><td>NO </td><td>WR   </td><td>Ian</td><td>NULL</td></tr><tr><td>2013</td><td>1-7 </td><td>Giovani Bernard</td><td>Cin</td><td>RB   </td><td>Todd</td><td>NULL</td></tr><tr><td>2013</td><td>1-8 </td><td>Lamar Miller</td><td>Mia</td><td>RB   </td><td>Patrick</td><td>NULL</td></tr><tr><td>2013</td><td>2-1 </td><td>Tavon Austin</td><td>StL</td><td>WR   </td><td>Patrick</td><td>NULL</td></tr><tr><td>2013</td><td>2-2 </td><td>DeAndre Hopkins</td><td>Hou</td><td>WR   </td><td>Todd</td><td>Todd</td></tr><tr><td>2013</td><td>2-3 </td><td>Cordarrelle Patterson</td><td>Min</td><td>WR   </td><td>Ian</td><td>Ian</td></tr><tr><td>2013</td><td>2-4 </td><td>Danny Amendola</td><td>NE </td><td>WR   </td><td>William</td><td>NULL</td></tr><tr><td>2013</td><td>2-5 </td><td>Sidney Rice</td><td>Sea</td><td>WR   </td><td>Cody</td><td>NULL</td></tr><tr><td>2013</td><td>2-6 </td><td>T.Y. Hilton</td><td>Ind</td><td>WR   </td><td>Brian</td><td>NULL</td></tr><tr><td>2013</td><td>2-7 </td><td>Golden Tate</td><td>Det</td><td>WR   </td><td>Paul</td><td>Paul</td></tr><tr><td>2013</td><td>2-8 </td><td>Greg Jennings</td><td>Min</td><td>WR   </td><td>Christine</td><td>NULL</td></tr><tr><td>2013</td><td>3-1 </td><td>Cecil Shorts</td><td>Jac</td><td>WR   </td><td>Christine</td><td>NULL</td></tr><tr><td>2013</td><td>3-2 </td><td>Mike Williams</td><td>Buf</td><td>WR   </td><td>Paul</td><td>NULL</td></tr><tr><td>2013</td><td>3-3 </td><td>Tyler Eifert</td><td>Cin</td><td>TE   </td><td>Brian</td><td>Brian</td></tr><tr><td>2013</td><td>3-4 </td><td>Shane Vereen</td><td>NE </td><td>RB   </td><td>Cody</td><td>NULL</td></tr><tr><td>2013</td><td>3-5 </td><td>Brandon Myers</td><td>TB </td><td>TE   </td><td>William</td><td>NULL</td></tr><tr><td>2013</td><td>3-6 </td><td>Dwayne Allen</td><td>Ind</td><td>TE   </td><td>Ian</td><td>NULL</td></tr><tr><td>2013</td><td>3-7 </td><td>Justin Tucker</td><td>Bal</td><td>K    </td><td>Todd</td><td>Todd</td></tr><tr><td>2013</td><td>3-8 </td><td>Rashard Mendenhall</td><td>Ari</td><td>RB   </td><td>Patrick</td><td>NULL</td></tr><tr><td>2013</td><td>4-1 </td><td>Rueben Randle</td><td>NYG</td><td>WR   </td><td>Patrick</td><td>NULL</td></tr><tr><td>2013</td><td>4-2 </td><td>LeVeon Bell</td><td>Pit</td><td>RB   </td><td>Todd</td><td>Todd</td></tr><tr><td>2013</td><td>4-3 </td><td>Markus Wheaton</td><td>Pit</td><td>WR   </td><td>Ian</td><td>NULL</td></tr><tr><td>2013</td><td>4-4 </td><td>Marvin Jones Jr.</td><td>Cin</td><td>WR   </td><td>William</td><td>NULL</td></tr><tr><td>2013</td><td>4-5 </td><td>Blair Walsh</td><td>Min</td><td>K    </td><td>Cody</td><td>NULL</td></tr><tr><td>2013</td><td>4-6 </td><td>Jordan Cameron</td><td>Cle</td><td>TE   </td><td>Brian</td><td>NULL</td></tr><tr><td>2013</td><td>4-7 </td><td>Bryce Brown</td><td>Phi</td><td>RB   </td><td>Paul</td><td>NULL</td></tr><tr><td>2013</td><td>4-8 </td><td>Andre Brown</td><td>Hou</td><td>RB   </td><td>Christine</td><td>NULL</td></tr><tr><td>2013</td><td>5-1 </td><td>Martellus Bennett</td><td>Chi</td><td>TE   </td><td>Christine</td><td>NULL</td></tr><tr><td>2013</td><td>5-2 </td><td>Fred Davis</td><td>Wsh</td><td>TE   </td><td>Paul</td><td>NULL</td></tr><tr><td>2013</td><td>5-3 </td><td>Christine Michael</td><td>Sea</td><td>RB   </td><td>Brian</td><td>NULL</td></tr><tr><td>2013</td><td>5-4 </td><td>Coby Fleener</td><td>Ind</td><td>TE   </td><td>Cody</td><td>NULL</td></tr><tr><td>2013</td><td>5-5 </td><td>Brock Osweiler</td><td>Den</td><td>QB   </td><td>William</td><td>NULL</td></tr><tr><td>2013</td><td>5-6 </td><td>Mike Gillislee</td><td>Mia</td><td>RB   </td><td>Ian</td><td>NULL</td></tr><tr><td>2013</td><td>5-7 </td><td>Marcus Lattimore</td><td>SF </td><td>RB   </td><td>Todd</td><td>NULL</td></tr><tr><td>2013</td><td>5-8 </td><td>Julius Thomas</td><td>Den</td><td>TE   </td><td>Patrick</td><td>NULL</td></tr><tr><td>2013</td><td>6-1 </td><td>Vick Ballard</td><td>Ind</td><td>RB   </td><td>Patrick</td><td>NULL</td></tr><tr><td>2013</td><td>6-2 </td><td>Zach Sudfeld</td><td>NYJ</td><td>TE   </td><td>Todd</td><td>NULL</td></tr><tr><td>2013</td><td>6-3 </td><td>Rob Bironas</td><td>Ten</td><td>K    </td><td>Ian</td><td>NULL</td></tr><tr><td>2013</td><td>6-4 </td><td>Kenbrell Thompkins</td><td>NE </td><td>WR   </td><td>William</td><td>NULL</td></tr><tr><td>2013</td><td>6-5 </td><td>Sam Bradford</td><td>StL</td><td>QB   </td><td>Cody</td><td>NULL</td></tr><tr><td>2013</td><td>6-6 </td><td>EJ Manuel</td><td>Buf</td><td>QB   </td><td>Brian</td><td>NULL</td></tr><tr><td>2013</td><td>6-7 </td><td>Brandon Weeden</td><td>Dal</td><td>QB   </td><td>Paul</td><td>NULL</td></tr><tr><td>2013</td><td>6-8 </td><td>Daryl Richardson</td><td>StL</td><td>RB   </td><td>Christine</td><td>NULL</td></tr><tr><td>2013</td><td>7-1 </td><td>Christian Ponder</td><td>Min</td><td>QB   </td><td>Christine</td><td>NULL</td></tr><tr><td>2013</td><td>7-2 </td><td>Randy Bullock</td><td>Hou</td><td>K    </td><td>Paul</td><td>NULL</td></tr><tr><td>2013</td><td>7-3 </td><td>Phil Dawson</td><td>SF </td><td>K    </td><td>Brian</td><td>NULL</td></tr><tr><td>2013</td><td>7-4 </td><td>Jacquizz Rodgers</td><td>Atl</td><td>RB   </td><td>Cody</td><td>NULL</td></tr><tr><td>2013</td><td>7-5 </td><td>Aaron Dobson</td><td>NE </td><td>WR   </td><td>William</td><td>NULL</td></tr><tr><td>2013</td><td>7-6 </td><td>Andre Ellington</td><td>Ari</td><td>RB   </td><td>Ian</td><td>NULL</td></tr><tr><td>2013</td><td>7-7 </td><td>Zach Ertz</td><td>Phi</td><td>TE   </td><td>Todd</td><td>NULL</td></tr><tr><td>2013</td><td>7-8 </td><td>Ronnie Hillman</td><td>Den</td><td>RB   </td><td>Patrick</td><td>NULL</td></tr><tr><td>2013</td><td>8-1 </td><td>Riley Cooper</td><td>Phi</td><td>WR   </td><td>Patrick</td><td>NULL</td></tr><tr><td>2013</td><td>8-2 </td><td>Bernard Pierce</td><td>Bal</td><td>RB   </td><td>Todd</td><td>NULL</td></tr><tr><td>2013</td><td>8-3 </td><td>Zac Stacy</td><td>StL</td><td>RB   </td><td>Ian</td><td>NULL</td></tr><tr><td>2013</td><td>8-4 </td><td>T.J. Yates</td><td>Hou</td><td>QB   </td><td>William</td><td>NULL</td></tr><tr><td>2013</td><td>8-5 </td><td>Chris Givens</td><td>StL</td><td>WR   </td><td>Cody</td><td>NULL</td></tr><tr><td>2013</td><td>8-6 </td><td>Knile Davis</td><td>KC </td><td>RB   </td><td>Brian</td><td>NULL</td></tr><tr><td>2013</td><td>8-7 </td><td>Geno Smith</td><td>NYJ</td><td>QB   </td><td>Paul</td><td>NULL</td></tr><tr><td>2013</td><td>8-8 </td><td>Ryan Broyles</td><td>Det</td><td>WR   </td><td>Christine</td><td>NULL</td></tr><tr><td>2014</td><td>1-1 </td><td>Nick Foles</td><td>StL</td><td>QB   </td><td>William</td><td>NULL</td></tr><tr><td>2014</td><td>1-2 </td><td>Blake Bortles</td><td>Jac</td><td>QB   </td><td>Todd</td><td>NULL</td></tr><tr><td>2014</td><td>1-3 </td><td>Knowshon Moreno</td><td>Mia</td><td>RB   </td><td>Ian</td><td>NULL</td></tr><tr><td>2014</td><td>1-4 </td><td>Alshon Jeffery</td><td>Chi</td><td>WR   </td><td>Paul</td><td>Paul</td></tr><tr><td>2014</td><td>1-5 </td><td>Rashad Jennings</td><td>NYG</td><td>RB   </td><td>Christine</td><td>NULL</td></tr><tr><td>2014</td><td>1-6 </td><td>Zach Ertz</td><td>Phi</td><td>TE   </td><td>Cody</td><td>NULL</td></tr><tr><td>2014</td><td>1-7 </td><td>Bishop Sankey</td><td>Ten</td><td>RB   </td><td>Patrick</td><td>NULL</td></tr><tr><td>2014</td><td>1-8 </td><td>Carlos Hyde</td><td>SF </td><td>RB   </td><td>Brian</td><td>NULL</td></tr><tr><td>2014</td><td>2-1 </td><td>Sammy Watkins</td><td>Buf</td><td>WR   </td><td>Brian</td><td>Brian</td></tr><tr><td>2014</td><td>2-2 </td><td>Stevan Ridley</td><td>NYJ</td><td>RB   </td><td>Patrick</td><td>NULL</td></tr><tr><td>2014</td><td>2-3 </td><td>Maurice Jones-Drew</td><td>Oak</td><td>RB   </td><td>Cody</td><td>NULL</td></tr><tr><td>2014</td><td>2-4 </td><td>Mike Evans</td><td>TB </td><td>WR   </td><td>Christine</td><td>NULL</td></tr><tr><td>2014</td><td>2-5 </td><td>Jerricho Cotchery</td><td>Car</td><td>WR   </td><td>Paul</td><td>NULL</td></tr><tr><td>2014</td><td>2-6 </td><td>Josh McCown</td><td>Cle</td><td>QB   </td><td>Ian</td><td>NULL</td></tr><tr><td>2014</td><td>2-7 </td><td>Jordan Matthews</td><td>Phi</td><td>WR   </td><td>Todd</td><td>NULL</td></tr><tr><td>2014</td><td>2-8 </td><td>Jeremy Maclin</td><td>KC </td><td>WR   </td><td>William</td><td>NULL</td></tr><tr><td>2014</td><td>3-1 </td><td>Ladarius Green</td><td>SD </td><td>TE   </td><td>William</td><td>NULL</td></tr><tr><td>2014</td><td>3-2 </td><td>Terrance West</td><td>Cle</td><td>RB   </td><td>Todd</td><td>NULL</td></tr><tr><td>2014</td><td>3-3 </td><td>Jordan Reed</td><td>Wsh</td><td>TE   </td><td>Ian</td><td>Ian</td></tr><tr><td>2014</td><td>3-4 </td><td>Odell Beckham Jr.</td><td>NYG</td><td>WR   </td><td>Paul</td><td>Paul</td></tr><tr><td>2014</td><td>3-5 </td><td>BenJarvus Green-Ellis</td><td>Cin</td><td>RB   </td><td>Christine</td><td>NULL</td></tr><tr><td>2014</td><td>3-6 </td><td>Torrey Smith</td><td>SF </td><td>WR   </td><td>Cody</td><td>NULL</td></tr><tr><td>2014</td><td>3-7 </td><td>Ray Rice</td><td>FA </td><td>RB   </td><td>Patrick</td><td>NULL</td></tr><tr><td>2014</td><td>3-8 </td><td>Brandin Cooks</td><td>NO </td><td>WR   </td><td>Brian</td><td>NULL</td></tr><tr><td>2014</td><td>4-1 </td><td>Eric Ebron</td><td>Det</td><td>TE   </td><td>Brian</td><td>NULL</td></tr><tr><td>2014</td><td>4-2 </td><td>Julian Edelman</td><td>NE </td><td>WR   </td><td>Patrick</td><td>NULL</td></tr><tr><td>2014</td><td>4-3 </td><td>Joique Bell</td><td>Det</td><td>RB   </td><td>Cody</td><td>NULL</td></tr><tr><td>2014</td><td>4-4 </td><td>Alex Smith</td><td>KC </td><td>QB   </td><td>Christine</td><td>NULL</td></tr><tr><td>2014</td><td>4-5 </td><td>Johnny Manziel</td><td>Cle</td><td>QB   </td><td>Paul</td><td>NULL</td></tr><tr><td>2014</td><td>4-6 </td><td>Michael Crabtree</td><td>Oak</td><td>WR   </td><td>Ian</td><td>Ian</td></tr><tr><td>2014</td><td>4-7 </td><td>Austin Seferian-Jenkins</td><td>TB </td><td>TE   </td><td>Todd</td><td>NULL</td></tr><tr><td>2014</td><td>4-8 </td><td>Dexter McCluster</td><td>Ten</td><td>WR   </td><td>William</td><td>NULL</td></tr><tr><td>2014</td><td>5-1 </td><td>Khiry Robinson</td><td>NO </td><td>RB   </td><td>William</td><td>NULL</td></tr><tr><td>2014</td><td>5-2 </td><td>Kelvin Benjamin</td><td>Car</td><td>WR   </td><td>Todd</td><td>NULL</td></tr><tr><td>2014</td><td>5-3 </td><td>Dennis Pitta</td><td>Bal</td><td>TE   </td><td>Ian</td><td>NULL</td></tr><tr><td>2014</td><td>5-4 </td><td>Charles Clay</td><td>Buf</td><td>TE   </td><td>Paul</td><td>NULL</td></tr><tr><td>2014</td><td>5-5 </td><td>Terrance Williams</td><td>Dal</td><td>WR   </td><td>Christine</td><td>NULL</td></tr><tr><td>2014</td><td>5-6 </td><td>Keenan Allen</td><td>SD </td><td>WR   </td><td>Cody</td><td>Jon</td></tr><tr><td>2014</td><td>5-7 </td><td>Marqise Lee</td><td>Jac</td><td>WR   </td><td>Patrick</td><td>NULL</td></tr><tr><td>2014</td><td>5-8 </td><td>Justin Hunter</td><td>Ten</td><td>WR   </td><td>Brian</td><td>NULL</td></tr><tr><td>2014</td><td>6-1 </td><td>Jake Locker</td><td>Ten</td><td>QB   </td><td>Brian</td><td>NULL</td></tr><tr><td>2014</td><td>6-2 </td><td>Jeremy Hill</td><td>Cin</td><td>RB   </td><td>Patrick</td><td>NULL</td></tr><tr><td>2014</td><td>6-3 </td><td>Mason Crosby</td><td>GB </td><td>K    </td><td>Cody</td><td>Jon</td></tr><tr><td>2014</td><td>6-4 </td><td>Stephen Hauschka</td><td>Sea</td><td>K    </td><td>Christine</td><td>Christine</td></tr><tr><td>2014</td><td>6-5 </td><td>Roddy White</td><td>Atl</td><td>WR   </td><td>Paul</td><td>NULL</td></tr><tr><td>2014</td><td>6-6 </td><td>Devonta Freeman</td><td>Atl</td><td>RB   </td><td>Ian</td><td>NULL</td></tr><tr><td>2014</td><td>6-7 </td><td>Phil Dawson</td><td>SF </td><td>K    </td><td>Todd</td><td>NULL</td></tr><tr><td>2014</td><td>6-8 </td><td>Tim Wright</td><td>NE </td><td>TE   </td><td>William</td><td>NULL</td></tr><tr><td>2014</td><td>7-1 </td><td>Nick Novak</td><td>SD </td><td>K    </td><td>William</td><td>NULL</td></tr><tr><td>2014</td><td>7-2 </td><td>Andre Williams</td><td>NYG</td><td>RB   </td><td>Todd</td><td>NULL</td></tr><tr><td>2014</td><td>7-3 </td><td>Robert Woods</td><td>Buf</td><td>WR   </td><td>Ian</td><td>NULL</td></tr><tr><td>2014</td><td>7-4 </td><td>Alfred Blue</td><td>Hou</td><td>RB   </td><td>Paul</td><td>NULL</td></tr><tr><td>2014</td><td>7-5 </td><td>Andrew Quarless</td><td>GB </td><td>TE   </td><td>Christine</td><td>NULL</td></tr><tr><td>2014</td><td>7-6 </td><td>Allen Hurns</td><td>Jac</td><td>WR   </td><td>Cody</td><td>NULL</td></tr><tr><td>2014</td><td>7-7 </td><td>KaDeem Carey</td><td>Chi</td><td>RB   </td><td>Patrick</td><td>NULL</td></tr><tr><td>2014</td><td>7-8 </td><td>Greg Zuerlein</td><td>StL</td><td>K    </td><td>Brian</td><td>NULL</td></tr><tr><td>2014</td><td>8-1 </td><td>Nate Freese</td><td>FA </td><td>K    </td><td>Brian</td><td>NULL</td></tr><tr><td>2014</td><td>8-2 </td><td>Danny Woodhead</td><td>SD </td><td>RB   </td><td>Patrick</td><td>NULL</td></tr><tr><td>2014</td><td>8-3 </td><td>Lamar Miller</td><td>Mia</td><td>RB   </td><td>Cody</td><td>Jon</td></tr><tr><td>2014</td><td>8-4 </td><td>Andrew Hawkins</td><td>Cle</td><td>WR   </td><td>Christine</td><td>NULL</td></tr><tr><td>2014</td><td>8-5 </td><td>Bryce Brown</td><td>Buf</td><td>RB   </td><td>Paul</td><td>NULL</td></tr><tr><td>2014</td><td>8-6 </td><td>James White</td><td>NE </td><td>RB   </td><td>Ian</td><td>NULL</td></tr><tr><td>2014</td><td>8-7 </td><td>Jarvis Landry</td><td>Mia</td><td>WR   </td><td>Todd</td><td>Todd</td></tr><tr><td>2014</td><td>8-8 </td><td>Jace Amaro</td><td>NYJ</td><td>TE   </td><td>William</td><td>NULL</td></tr><tr><td>2014</td><td>9-1 </td><td>Teddy Bridgewater</td><td>Min</td><td>QB   </td><td>William</td><td>William</td></tr><tr><td>2014</td><td>9-2 </td><td>Derek Carr</td><td>Oak</td><td>QB   </td><td>Todd</td><td>Todd</td></tr><tr><td>2014</td><td>9-3 </td><td>Josh Gordon</td><td>Cle</td><td>WR   </td><td>Ian</td><td>Ian</td></tr><tr><td>2014</td><td>9-4 </td><td>Cody Latimer</td><td>Den</td><td>WR   </td><td>Paul</td><td>NULL</td></tr><tr><td>2014</td><td>9-5 </td><td>Jerick McKinnon</td><td>Min</td><td>RB   </td><td>Christine</td><td>NULL</td></tr><tr><td>2014</td><td>9-6 </td><td>Philip Rivers</td><td>SD </td><td>QB   </td><td>Cody</td><td>Jon</td></tr><tr><td>2014</td><td>9-7 </td><td>Brent Celek</td><td>Phi</td><td>TE   </td><td>Patrick</td><td>NULL</td></tr><tr><td>2014</td><td>9-8 </td><td>Latavius Murray</td><td>Oak</td><td>RB   </td><td>Brian</td><td>NULL</td></tr><tr><td>2015</td><td>1-1 </td><td>Ameer Abdullah</td><td>Det</td><td>RB   </td><td>Ian</td><td>NULL</td></tr><tr><td>2015</td><td>1-2 </td><td>Melvin Gordon</td><td>SD </td><td>RB   </td><td>William</td><td>NULL</td></tr><tr><td>2015</td><td>1-3 </td><td>Joique Bell</td><td>Det</td><td>RB   </td><td>Jon</td><td>NULL</td></tr><tr><td>2015</td><td>1-4 </td><td>Travis Kelce</td><td>KC </td><td>TE   </td><td>Adrian</td><td>Adrian</td></tr><tr><td>2015</td><td>1-5 </td><td>Todd Gurley II</td><td>StL</td><td>RB   </td><td>Christine</td><td>Christine</td></tr><tr><td>2015</td><td>1-6 </td><td>Amari Cooper</td><td>Oak</td><td>WR   </td><td>Todd</td><td>Todd</td></tr><tr><td>2015</td><td>1-7 </td><td>Marcus Mariota</td><td>Ten</td><td>QB   </td><td>Brian</td><td>Brian</td></tr><tr><td>2015</td><td>1-8 </td><td>Justin Forsett</td><td>Bal</td><td>RB   </td><td>Paul</td><td>NULL</td></tr><tr><td>2015</td><td>2-1 </td><td>Eddie Royal</td><td>Chi</td><td>WR   </td><td>Paul</td><td>NULL</td></tr><tr><td>2015</td><td>2-2 </td><td>Jameis Winston</td><td>TB </td><td>QB   </td><td>Brian</td><td>Brian</td></tr><tr><td>2015</td><td>2-3 </td><td>Jimmy Garoppolo</td><td>NE </td><td>QB   </td><td>Todd</td><td>Todd</td></tr><tr><td>2015</td><td>2-4 </td><td>Davante Adams</td><td>GB </td><td>WR   </td><td>Christine</td><td>NULL</td></tr><tr><td>2015</td><td>2-5 </td><td>Brandon Coleman</td><td>NO </td><td>WR   </td><td>Adrian</td><td>NULL</td></tr><tr><td>2015</td><td>2-6 </td><td>Chris Johnson</td><td>Ari</td><td>RB   </td><td>Jon</td><td>NULL</td></tr><tr><td>2015</td><td>2-7 </td><td>C.J. Anderson</td><td>Den</td><td>RB   </td><td>William</td><td>William</td></tr><tr><td>2015</td><td>2-8 </td><td>Maxx Williams</td><td>Bal</td><td>TE   </td><td>Ian</td><td>NULL</td></tr><tr><td>2015</td><td>3-1 </td><td>Phillip Dorsett</td><td>Ind</td><td>WR   </td><td>Ian</td><td>NULL</td></tr><tr><td>2015</td><td>3-2 </td><td>DeVante Parker</td><td>Mia</td><td>WR   </td><td>William</td><td>NULL</td></tr><tr><td>2015</td><td>3-3 </td><td>Kenny Bell</td><td>TB </td><td>WR   </td><td>Jon</td><td>NULL</td></tr><tr><td>2015</td><td>3-4 </td><td>Branden Oliver</td><td>SD </td><td>RB   </td><td>Adrian</td><td>NULL</td></tr><tr><td>2015</td><td>3-5 </td><td>T.J. Yeldon</td><td>Jax</td><td>RB   </td><td>Christine</td><td>NULL</td></tr><tr><td>2015</td><td>3-6 </td><td>Tyler Eifert</td><td>Cin</td><td>TE   </td><td>Todd</td><td>NULL</td></tr><tr><td>2015</td><td>3-7 </td><td>Martavis Bryant</td><td>Pit</td><td>WR   </td><td>Brian</td><td>NULL</td></tr><tr><td>2015</td><td>3-8 </td><td>Ahmad Bradshaw</td><td>Ind</td><td>RB   </td><td>Paul</td><td>NULL</td></tr><tr><td>2015</td><td>4-1 </td><td>Antonio Gates</td><td>SD </td><td>TE   </td><td>Paul</td><td>NULL</td></tr><tr><td>2015</td><td>4-2 </td><td>Charles Johnson</td><td>Min</td><td>WR   </td><td>Brian</td><td>NULL</td></tr><tr><td>2015</td><td>4-3 </td><td>Brandon McManus</td><td>Den</td><td>K    </td><td>Todd</td><td>NULL</td></tr><tr><td>2015</td><td>4-4 </td><td>Nelson Agholor</td><td>Phi</td><td>WR   </td><td>Christine</td><td>NULL</td></tr><tr><td>2015</td><td>4-5 </td><td>Kendall Wright</td><td>Ten</td><td>WR   </td><td>Adrian</td><td>NULL</td></tr><tr><td>2015</td><td>4-6 </td><td>Johnny Manziel</td><td>Cle</td><td>QB   </td><td>Jon</td><td>NULL</td></tr><tr><td>2015</td><td>4-7 </td><td>Joseph Randle</td><td>FA </td><td>RB   </td><td>William</td><td>NULL</td></tr><tr><td>2015</td><td>4-8 </td><td>Jeremy Langford</td><td>Chi</td><td>RB   </td><td>Ian</td><td>NULL</td></tr><tr><td>2015</td><td>5-1 </td><td>Karlos Williams</td><td>Buf</td><td>RB   </td><td>Ian</td><td>NULL</td></tr><tr><td>2015</td><td>5-2 </td><td>Josh Hill</td><td>NO </td><td>TE   </td><td>William</td><td>NULL</td></tr><tr><td>2015</td><td>5-3 </td><td>Mike Tolbert</td><td>Car</td><td>RB   </td><td>Jon</td><td>NULL</td></tr><tr><td>2015</td><td>5-4 </td><td>Austin Seferian-Jenkins</td><td>TB </td><td>TE   </td><td>Adrian</td><td>NULL</td></tr><tr><td>2015</td><td>5-5 </td><td>Allen Robinson</td><td>Jax</td><td>WR   </td><td>Christine</td><td>NULL</td></tr><tr><td>2015</td><td>5-6 </td><td>Tevin Coleman</td><td>Atl</td><td>RB   </td><td>Todd</td><td>Todd</td></tr><tr><td>2015</td><td>5-7 </td><td>Tyler Lockett</td><td>Sea</td><td>WR   </td><td>Brian</td><td>NULL</td></tr><tr><td>2015</td><td>5-8 </td><td>Denard Robinson</td><td>Jax</td><td>RB   </td><td>Paul</td><td>NULL</td></tr><tr><td>2015</td><td>6-1 </td><td>Ryan Fitzpatrick</td><td>NYJ</td><td>QB   </td><td>Paul</td><td>NULL</td></tr><tr><td>2015</td><td>6-2 </td><td>Matt Jones</td><td>Wsh</td><td>RB   </td><td>Brian</td><td>NULL</td></tr><tr><td>2015</td><td>6-3 </td><td>Owen Daniels</td><td>Den</td><td>TE   </td><td>Todd</td><td>NULL</td></tr><tr><td>2015</td><td>6-4 </td><td>Larry Donnell</td><td>NYG</td><td>TE   </td><td>Christine</td><td>NULL</td></tr><tr><td>2015</td><td>6-5 </td><td>Darren Sproles</td><td>Phi</td><td>RB   </td><td>Adrian</td><td>NULL</td></tr><tr><td>2015</td><td>6-6 </td><td>Cairo Santos</td><td>KC </td><td>K    </td><td>Jon</td><td>NULL</td></tr><tr><td>2015</td><td>6-7 </td><td>Virgil Green</td><td>Den</td><td>TE   </td><td>William</td><td>NULL</td></tr><tr><td>2015</td><td>6-8 </td><td>Sammie Coates</td><td>Pit</td><td>WR   </td><td>Ian</td><td>NULL</td></tr><tr><td>2015</td><td>7-1 </td><td>Garrett Grayson</td><td>NO </td><td>QB   </td><td>Ian</td><td>NULL</td></tr><tr><td>2015</td><td>7-2 </td><td>Devin Funchess</td><td>Car</td><td>WR   </td><td>William</td><td>NULL</td></tr><tr><td>2015</td><td>7-3 </td><td>Storm Johnson</td><td>Jax</td><td>RB   </td><td>Jon</td><td>NULL</td></tr><tr><td>2015</td><td>7-4 </td><td>Stevie Johnson</td><td>SD </td><td>WR   </td><td>Adrian</td><td>NULL</td></tr><tr><td>2015</td><td>7-5 </td><td>Sam Bradford</td><td>Phi</td><td>QB   </td><td>Christine</td><td>NULL</td></tr><tr><td>2015</td><td>7-6 </td><td>David Cobb</td><td>Ten</td><td>RB   </td><td>Todd</td><td>NULL</td></tr><tr><td>2015</td><td>7-7 </td><td>Delanie Walker</td><td>Ten</td><td>TE   </td><td>Brian</td><td>Brian</td></tr><tr><td>2015</td><td>7-8 </td><td>Jonas Gray</td><td>Jax</td><td>RB   </td><td>Paul</td><td>NULL</td></tr><tr><td>2015</td><td>8-1 </td><td>Zach Mettenberger</td><td>Ten</td><td>QB   </td><td>Paul</td><td>NULL</td></tr><tr><td>2015</td><td>8-2 </td><td>Cody Parkey</td><td>Phi</td><td>K    </td><td>Brian</td><td>NULL</td></tr><tr><td>2015</td><td>8-3 </td><td>Richard Rodgers</td><td>GB </td><td>TE   </td><td>Todd</td><td>NULL</td></tr><tr><td>2015</td><td>8-4 </td><td>Caleb Sturgis</td><td>Phi</td><td>K    </td><td>Christine</td><td>NULL</td></tr><tr><td>2015</td><td>8-5 </td><td>Kenny Hilliard</td><td>Hou</td><td>RB   </td><td>Adrian</td><td>NULL</td></tr><tr><td>2015</td><td>8-6 </td><td>Dion Sims</td><td>Mia</td><td>TE   </td><td>Jon</td><td>NULL</td></tr><tr><td>2015</td><td>8-7 </td><td>Justin Tucker</td><td>Bal</td><td>K    </td><td>William</td><td>NULL</td></tr><tr><td>2015</td><td>8-8 </td><td>David Johnson</td><td>Ari</td><td>RB   </td><td>Ian</td><td>Ian</td></tr><tr><td>2015</td><td>9-1 </td><td>Dustin Hopkins</td><td>Wsh</td><td>K    </td><td>Ian</td><td>Ian</td></tr><tr><td>2015</td><td>9-2 </td><td>Dan Carpenter</td><td>Buf</td><td>K    </td><td>William</td><td>NULL</td></tr><tr><td>2015</td><td>9-3 </td><td>Reggie Wayne</td><td>FA </td><td>WR   </td><td>Jon</td><td>NULL</td></tr><tr><td>2015</td><td>9-4 </td><td>Tyrod Taylor</td><td>Buf</td><td>QB   </td><td>Adrian</td><td>Adrian</td></tr><tr><td>2015</td><td>9-5 </td><td>Nick Folk</td><td>NYJ</td><td>K    </td><td>Christine</td><td>NULL</td></tr><tr><td>2015</td><td>9-6 </td><td>Josh Scobee</td><td>NO </td><td>K    </td><td>Todd</td><td>NULL</td></tr><tr><td>2015</td><td>9-7 </td><td>Mychal Rivera</td><td>Oak</td><td>TE   </td><td>Brian</td><td>NULL</td></tr><tr><td>2015</td><td>9-8 </td><td>Kyle Rudolph</td><td>Min</td><td>TE   </td><td>Paul</td><td>Paul</td></tr><tr><td>2015</td><td>10-1</td><td>Doug Baldwin</td><td>Sea</td><td>WR   </td><td>Jon</td><td>Jon</td></tr><tr><td>2015</td><td>10-2</td><td>Eddie Lacy</td><td>GB </td><td>RB   </td><td>Jon</td><td>NULL</td></tr><tr><td>2015</td><td>10-3</td><td>Keenan Allen</td><td>SD </td><td>WR   </td><td>Jon</td><td>Jon</td></tr><tr><td>2015</td><td>10-4</td><td>Carson Palmer</td><td>Ari</td><td>QB   </td><td>Jon</td><td>NULL</td></tr><tr><td>2015</td><td>10-5</td><td>Marshawn Lynch</td><td>Sea</td><td>RB   </td><td>Jon</td><td>NULL</td></tr><tr><td>2015</td><td>10-6</td><td>Kirk Cousins</td><td>Was</td><td>QB   </td><td>Jon</td><td>NULL</td></tr><tr><td>2015</td><td>10-7</td><td>Willie Snead</td><td>NO </td><td>WR   </td><td>Jon</td><td>NULL</td></tr><tr><td>2015</td><td>10-8</td><td>John Brown</td><td>Ari</td><td>WR   </td><td>Jon</td><td>NULL</td></tr><tr><td>2015</td><td>10-9</td><td>Shane Vereen</td><td>NYG</td><td>RB   </td><td>Jon</td><td>NULL</td></tr><tr><td>2015</td><td>10-10</td><td>Lance Kendricks</td><td>Stl</td><td>TE   </td><td>Jon</td><td>NULL</td></tr><tr><td>2016</td><td>1-1 </td><td>Ezekiel Elliott</td><td>Dal</td><td>RB   </td><td>Adrian</td><td>Adrian</td></tr><tr><td>2016</td><td>1-2 </td><td>Gary Barnidge</td><td>Cle</td><td>TE   </td><td>Jon</td><td>NULL</td></tr><tr><td>2016</td><td>1-3 </td><td>Derrick Henry</td><td>Ten</td><td>RB   </td><td>William</td><td>William</td></tr><tr><td>2016</td><td>1-4 </td><td>Christine Michael</td><td>Sea</td><td>RB   </td><td>Ian</td><td>NULL</td></tr><tr><td>2016</td><td>1-5 </td><td>Devonta Freeman</td><td>Atl</td><td>RB   </td><td>Todd</td><td>Todd</td></tr><tr><td>2016</td><td>1-6 </td><td>Doug Martin</td><td>TB </td><td>RB   </td><td>Brian</td><td>NULL</td></tr><tr><td>2016</td><td>1-7 </td><td>Jordan Howard</td><td>Chi</td><td>RB   </td><td>Paul</td><td>Paul</td></tr><tr><td>2016</td><td>1-8 </td><td>Donte Moncrief</td><td>Ind</td><td>WR   </td><td>Christine</td><td>NULL</td></tr><tr><td>2016</td><td>2-1 </td><td>Michael Thomas</td><td>NO </td><td>WR   </td><td>Adrian</td><td>NULL</td></tr><tr><td>2016</td><td>2-2 </td><td>LeGarrette Blount</td><td>NE </td><td>RB   </td><td>Jon</td><td>NULL</td></tr><tr><td>2016</td><td>2-3 </td><td>Thomas Rawls</td><td>Sea</td><td>RB   </td><td>William</td><td>NULL</td></tr><tr><td>2016</td><td>2-4 </td><td>Trevor Siemian</td><td>Den</td><td>QB   </td><td>Ian</td><td>NULL</td></tr><tr><td>2016</td><td>2-5 </td><td>Sterling Shepard</td><td>NYG</td><td>WR   </td><td>Todd</td><td>NULL</td></tr><tr><td>2016</td><td>2-6 </td><td>Corey Coleman</td><td>Cle</td><td>WR   </td><td>Brian</td><td>NULL</td></tr><tr><td>2016</td><td>2-7 </td><td>Laquon Treadwell</td><td>Min</td><td>WR   </td><td>Paul</td><td>Paul</td></tr><tr><td>2016</td><td>2-8 </td><td>Will Fuller</td><td>Hou</td><td>WR   </td><td>Christine</td><td>NULL</td></tr><tr><td>2016</td><td>3-1 </td><td>Terrelle Pryor</td><td>Cle</td><td>WR   </td><td>Adrian</td><td>NULL</td></tr><tr><td>2016</td><td>3-2 </td><td>Tajae Sharpe</td><td>Ten</td><td>WR   </td><td>Jon</td><td>NULL</td></tr><tr><td>2016</td><td>3-3 </td><td>Zach Ertz</td><td>Phi</td><td>TE   </td><td>William</td><td>William</td></tr><tr><td>2016</td><td>3-5 </td><td>Jared Cook</td><td>GB </td><td>TE   </td><td>Todd</td><td>NULL</td></tr><tr><td>2016</td><td>3-6 </td><td>Kenneth Dixon*</td><td>Bal</td><td>RB   </td><td>Brian</td><td>NULL</td></tr><tr><td>2016</td><td>3-7 </td><td>C.J. Prosise</td><td>Sea</td><td>RB   </td><td>Paul</td><td>NULL</td></tr><tr><td>2016</td><td>3-8 </td><td>Stefon Diggs</td><td>Min</td><td>WR   </td><td>Christine</td><td>Christine</td></tr><tr><td>2016</td><td>4-1 </td><td>Jonathan Stewart</td><td>Car</td><td>RB   </td><td>Adrian</td><td>NULL</td></tr><tr><td>2016</td><td>4-2 </td><td>DeAngelo Williams</td><td>Pit</td><td>RB   </td><td>Jon</td><td>NULL</td></tr><tr><td>2016</td><td>4-3 </td><td>Tyler Boyd</td><td>Cin</td><td>WR   </td><td>William</td><td>NULL</td></tr><tr><td>2016</td><td>4-4 </td><td>Torrey Smith</td><td>SF </td><td>WR   </td><td>Ian</td><td>NULL</td></tr><tr><td>2016</td><td>4-4 </td><td>Chris Hogan</td><td>NE </td><td>WR   </td><td>Ian</td><td>NULL</td></tr><tr><td>2016</td><td>4-5 </td><td>Justin Tucker</td><td>Bal</td><td>K    </td><td>Todd</td><td>Todd</td></tr><tr><td>2016</td><td>4-6 </td><td>Carson Wentz</td><td>Phi</td><td>QB   </td><td>Brian</td><td>Brian</td></tr><tr><td>2016</td><td>4-7 </td><td>Travis Benjamin</td><td>SD </td><td>WR   </td><td>Paul</td><td>Paul</td></tr><tr><td>2016</td><td>4-8 </td><td>Paxton Lynch</td><td>Den</td><td>QB   </td><td>Christine</td><td>Christine</td></tr><tr><td>2016</td><td>5-1 </td><td>Allen Hurns</td><td>Jax</td><td>WR   </td><td>Adrian</td><td>NULL</td></tr><tr><td>2016</td><td>5-2 </td><td>Roberto Aguayo</td><td>TB </td><td>K    </td><td>Jon</td><td>NULL</td></tr><tr><td>2016</td><td>5-3 </td><td>Dak Prescott</td><td>Dal</td><td>QB   </td><td>William</td><td>NULL</td></tr><tr><td>2016</td><td>5-4 </td><td>DeAndre Washington</td><td>Oak</td><td>RB   </td><td>Ian</td><td>NULL</td></tr><tr><td>2016</td><td>5-5 </td><td>Devontae Booker</td><td>Den</td><td>RB   </td><td>Todd</td><td>NULL</td></tr><tr><td>2016</td><td>5-6 </td><td>Eric Ebron</td><td>Det</td><td>TE   </td><td>Brian</td><td>NULL</td></tr><tr><td>2016</td><td>5-7 </td><td>Vance McDonald</td><td>SF </td><td>TE   </td><td>Paul</td><td>NULL</td></tr><tr><td>2016</td><td>5-8 </td><td>Jay Ajayi</td><td>Mia</td><td>RB   </td><td>Christine</td><td>Christine</td></tr><tr><td>2016</td><td>6-1 </td><td>Robert Griffin</td><td>Cle</td><td>QB   </td><td>Jon</td><td>NULL</td></tr><tr><td>2016</td><td>6-2 </td><td>Graham Gano</td><td>Car</td><td>K    </td><td>Adrian</td><td>Adrian</td></tr><tr><td>2016</td><td>6-3 </td><td>Blair Walsh</td><td>Min</td><td>K    </td><td>William</td><td>NULL</td></tr><tr><td>2016</td><td>6-4 </td><td>Josh Doctson*</td><td>Wsh</td><td>WR   </td><td>Ian</td><td>NULL</td></tr><tr><td>2016</td><td>6-5 </td><td>Jerick McKinnon</td><td>Min</td><td>RB   </td><td>Todd</td><td>NULL</td></tr><tr><td>2016</td><td>6-6 </td><td>Chris Boswell</td><td>Pit</td><td>K    </td><td>Brian</td><td>Brian</td></tr><tr><td>2016</td><td>6-7 </td><td>Kenny Britt</td><td>LA </td><td>WR   </td><td>Paul</td><td>NULL</td></tr><tr><td>2016</td><td>6-8 </td><td>Crockett Gillmore</td><td>Bal</td><td>TE   </td><td>Christine</td><td>NULL</td></tr><tr><td>2016</td><td>7-1 </td><td>Kevin White</td><td>Chi</td><td>WR   </td><td>Adrian</td><td>NULL</td></tr><tr><td>2016</td><td>7-2 </td><td>Marvin Jones Jr.</td><td>Det</td><td>WR   </td><td>Jon</td><td>Jon</td></tr><tr><td>2016</td><td>7-3 </td><td>Paul Perkins</td><td>NYG</td><td>RB   </td><td>William</td><td>NULL</td></tr><tr><td>2016</td><td>7-4 </td><td>Terrance West</td><td>Bal</td><td>RB   </td><td>Ian</td><td>NULL</td></tr><tr><td>2016</td><td>7-5 </td><td>Kirk Cousins</td><td>Wsh</td><td>QB   </td><td>Todd</td><td>Todd</td></tr><tr><td>2016</td><td>7-6 </td><td>Chandler Catanzaro</td><td>Ari</td><td>K    </td><td>Brian</td><td>NULL</td></tr><tr><td>2016</td><td>7-7 </td><td>Nick Novak</td><td>Hou</td><td>K    </td><td>Paul</td><td>NULL</td></tr><tr><td>2016</td><td>7-8 </td><td>Connor Barth</td><td>Chi</td><td>K    </td><td>Christine</td><td>NULL</td></tr><tr><td>2016</td><td>8-1 </td><td>Duke Johnson Jr.</td><td>Cle</td><td>RB   </td><td>Adrian</td><td>NULL</td></tr><tr><td>2016</td><td>8-2 </td><td>Isaiah Crowell</td><td>Cle</td><td>RB   </td><td>Jon</td><td>Jon</td></tr><tr><td>2016</td><td>8-3 </td><td>Jason Myers</td><td>Jax</td><td>K    </td><td>William</td><td>NULL</td></tr><tr><td>2016</td><td>8-4 </td><td>Blaine Gabbert</td><td>SF </td><td>QB   </td><td>Ian</td><td>NULL</td></tr><tr><td>2016</td><td>8-5 </td><td>Kai Forbath</td><td>NO </td><td>K    </td><td>Todd</td><td>NULL</td></tr><tr><td>2016</td><td>8-6 </td><td>Bilal Powell</td><td>NYJ</td><td>RB   </td><td>Brian</td><td>NULL</td></tr><tr><td>2016</td><td>8-7 </td><td>Kamar Aiken</td><td>Bal</td><td>WR   </td><td>Paul</td><td>NULL</td></tr><tr><td>2016</td><td>8-8 </td><td>Mike Wallace</td><td>Bal</td><td>WR   </td><td>Christine</td><td>NULL</td></tr><tr><td>2016</td><td>9-1 </td><td>Anquan Boldin</td><td>Det</td><td>WR   </td><td>Adrian</td><td>NULL</td></tr><tr><td>2016</td><td>9-2 </td><td>Tavon Austin</td><td>LA </td><td>WR   </td><td>Jon</td><td>NULL</td></tr><tr><td>2016</td><td>9-3 </td><td>Austin Hooper</td><td>Atl</td><td>TE   </td><td>William</td><td>William</td></tr><tr><td>2016</td><td>9-4 </td><td>Maxx Williams</td><td>Bal</td><td>TE   </td><td>Ian</td><td>NULL</td></tr><tr><td>2016</td><td>9-5 </td><td>Tyler Higbee</td><td>LA </td><td>TE   </td><td>Todd</td><td>NULL</td></tr><tr><td>2016</td><td>9-6 </td><td>Clive Walford</td><td>OaK</td><td>TE   </td><td>Brian</td><td>NULL</td></tr><tr><td>2016</td><td>9-7 </td><td>Wendell Smallwood</td><td>Phi</td><td>RB   </td><td>Paul</td><td>NULL</td></tr><tr><td>2016</td><td>9-8 </td><td>Jermaine Kearse</td><td>Sea</td><td>WR   </td><td>Christine</td><td>NULL</td></tr><tr><td>2017</td><td>1-5 </td><td>Kareem Hunt</td><td>KC </td><td>RB   </td><td>William</td><td>William</td></tr><tr><td>2017</td><td>2-1 </td><td>Marshawn Lynch</td><td>Oak</td><td>RB   </td><td>William</td><td>William</td></tr><tr><td>2017</td><td>2-5 </td><td>Martavis Bryant</td><td>Pit</td><td>WR   </td><td>William</td><td>William</td></tr><tr><td>2017</td><td>2-6 </td><td>Evan Engram</td><td>NYG</td><td>TE   </td><td>Jon</td><td>Jon</td></tr><tr><td>2017</td><td>3-1 </td><td>Hunter Henry</td><td>LAC</td><td>TE   </td><td>Brian</td><td>Brian</td></tr><tr><td>2017</td><td>3-5 </td><td>Mike Gillislee</td><td>NE </td><td>RB   </td><td>William</td><td>NULL</td></tr><tr><td>2017</td><td>3-6 </td><td>Alvin Kamara</td><td>NO </td><td>RB   </td><td>Jon</td><td>Jon</td></tr><tr><td>2017</td><td>3-7 </td><td>Kevin White</td><td>Chi</td><td>WR   </td><td>Brian</td><td>NULL</td></tr><tr><td>2017</td><td>4-1 </td><td>Patrick Mahomes</td><td>KC </td><td>QB   </td><td>Brian</td><td>Brian</td></tr><tr><td>2017</td><td>4-5 </td><td>Matt Bryant</td><td>Atl</td><td>K    </td><td>William</td><td>William</td></tr><tr><td>2017</td><td>4-6 </td><td>Jamison Crowder</td><td>Wsh</td><td>WR   </td><td>Jon</td><td>NULL</td></tr><tr><td>2017</td><td>5-1 </td><td>George Kittle</td><td>SF </td><td>TE   </td><td>Brian</td><td>NULL</td></tr><tr><td>2017</td><td>5-5 </td><td>Josh Dobbs</td><td>Pit</td><td>QB   </td><td>William</td><td>NULL</td></tr><tr><td>2017</td><td>5-6 </td><td>DOnta Foreman</td><td>Hou</td><td>RB   </td><td>Jon</td><td>NULL</td></tr><tr><td>2017</td><td>6-2 </td><td>Taywan Taylor</td><td>Ten</td><td>WR   </td><td>Brian</td><td>Brian</td></tr><tr><td>2017</td><td>6-5 </td><td>Samaje Perine</td><td>Wsh</td><td>RB   </td><td>William</td><td>NULL</td></tr><tr><td>2017</td><td>6-6 </td><td>Rex Burkhead</td><td>NE </td><td>RB   </td><td>Jon</td><td>Jon</td></tr><tr><td>2017</td><td>7-1 </td><td>Chris Boswell</td><td>Pit</td><td>K    </td><td>Brian</td><td>Brian</td></tr><tr><td>2017</td><td>7-5 </td><td>Jared Goff</td><td>LAR</td><td>QB   </td><td>William</td><td>William</td></tr><tr><td>2017</td><td>7-6 </td><td>Jesse James</td><td>Pit</td><td>TE   </td><td>Jon</td><td>NULL</td></tr><tr><td>2017</td><td>8-1 </td><td>Jamaal Williams</td><td>GB </td><td>RB   </td><td>Brian</td><td>Brian</td></tr><tr><td>2017</td><td>8-5 </td><td>Josh Hill</td><td>NO </td><td>TE   </td><td>William</td><td>NULL</td></tr><tr><td>2017</td><td>8-6 </td><td>Younghoe Koo</td><td>LAC</td><td>K    </td><td>Jon</td><td>NULL</td></tr><tr><td>2017</td><td>9-1 </td><td>DeAngelo Henderson</td><td>Den</td><td>RB   </td><td>Brian</td><td>NULL</td></tr><tr><td>2017</td><td>9-4 </td><td>Torrey Smith</td><td>Phi</td><td>WR   </td><td>Jon</td><td>NULL</td></tr><tr><td>2017</td><td>9-5 </td><td>Phil Dawson</td><td>Ari</td><td>K    </td><td>Brian</td><td>NULL</td></tr><tr><td>2017</td><td>9-6 </td><td>Kenny Golladay</td><td>Det</td><td>WR   </td><td>Jon</td><td>Jon</td></tr><tr><td>2018</td><td>1-1 </td><td>Saquon Barkley</td><td>NYG</td><td>RB   </td><td>Ian</td><td>Ian</td></tr><tr><td>2018</td><td>1-2 </td><td>JuJu Smith-Schuster</td><td>Pit</td><td>WR   </td><td>Jon</td><td>Jon</td></tr><tr><td>2018</td><td>1-3 </td><td>Royce Freeman</td><td>Den</td><td>RB   </td><td>William</td><td>William</td></tr><tr><td>2018</td><td>1-4 </td><td>Adam Thielen</td><td>Min</td><td>WR   </td><td>Brian</td><td>Brian</td></tr><tr><td>2018</td><td>1-6 </td><td>Marquise Goodwin</td><td>SF </td><td>WR   </td><td>Adrian</td><td>Adrian</td></tr><tr><td>2018</td><td>1-7 </td><td>Derrius Guice</td><td>Was</td><td>RB   </td><td>Todd</td><td>Todd</td></tr><tr><td>2018</td><td>1-8 </td><td>Sony Michel</td><td>NE </td><td>RB   </td><td>Christine</td><td>Christine</td></tr><tr><td>2018</td><td>2-1 </td><td>Michael Gallup</td><td>Dal</td><td>WR   </td><td>Ian</td><td>Ian</td></tr><tr><td>2018</td><td>2-2 </td><td>Baker Mayfield</td><td>Cle</td><td>QB   </td><td>Todd</td><td>Todd</td></tr><tr><td>2018</td><td>2-3 </td><td>Alex Collins</td><td>Bal</td><td>RB   </td><td>William</td><td>William</td></tr><tr><td>2018</td><td>2-4 </td><td>DJ Moore</td><td>Car</td><td>WR   </td><td>Brian</td><td>Brian</td></tr><tr><td>2018</td><td>2-6 </td><td>Robert Woods</td><td>LAR</td><td>WR   </td><td>Adrian</td><td>Adrian</td></tr><tr><td>2018</td><td>2-7 </td><td>Courtland Sutton</td><td>Den</td><td>WR   </td><td>Todd</td><td>Todd</td></tr><tr><td>2018</td><td>2-8 </td><td>Lamar Jackson</td><td>Bal</td><td>QB   </td><td>Christine</td><td>Christine</td></tr><tr><td>2018</td><td>3-1 </td><td>Josh Allen</td><td>Buf</td><td>QB   </td><td>Ian</td><td>Ian</td></tr><tr><td>2018</td><td>3-2 </td><td>Chris Carson</td><td>Sea</td><td>RB   </td><td>Jon</td><td>Jon</td></tr><tr><td>2018</td><td>3-3 </td><td>Jaylen Samuels</td><td>Pit</td><td>RB   </td><td>William</td><td>William</td></tr><tr><td>2018</td><td>3-4 </td><td>Trey Burton</td><td>Chi</td><td>TE   </td><td>Brian</td><td>Brian</td></tr><tr><td>2018</td><td>3-6 </td><td>Peyton Barber</td><td>TB </td><td>RB   </td><td>Adrian</td><td>Adrian</td></tr><tr><td>2018</td><td>3-7 </td><td>Nick Chubb</td><td>Cle</td><td>RB   </td><td>Todd</td><td>Todd</td></tr><tr><td>2018</td><td>3-8 </td><td>Tre'Quan Smith</td><td>NO </td><td>WR   </td><td>William</td><td>William</td></tr><tr><td>2018</td><td>4-1 </td><td>Josh Gordon</td><td>Cle</td><td>WR   </td><td>Ian</td><td>Ian</td></tr><tr><td>2018</td><td>4-2 </td><td>Josh Rosen</td><td>Ari</td><td>QB   </td><td>Jon</td><td>Jon</td></tr><tr><td>2018</td><td>4-3 </td><td>Cooper Kupp</td><td>LAR</td><td>WR   </td><td>William</td><td>William</td></tr><tr><td>2018</td><td>4-4 </td><td>Kenyan Drake</td><td>Mia</td><td>RB   </td><td>Brian</td><td>Brian</td></tr><tr><td>2018</td><td>4-6 </td><td>Sam Darnold</td><td>NYJ</td><td>QB   </td><td>Adrian</td><td>Adrian</td></tr><tr><td>2018</td><td>4-7 </td><td>Ricky Seals-Jones</td><td>Ari</td><td>TE   </td><td>Jon</td><td>Jon</td></tr><tr><td>2018</td><td>4-8 </td><td>Mike Gesicki</td><td>Mia</td><td>TE   </td><td>Christine</td><td>Christine</td></tr><tr><td>2018</td><td>5-1 </td><td>Devin Funchess</td><td>Car</td><td>WR   </td><td>Ian</td><td>Ian</td></tr><tr><td>2018</td><td>5-2 </td><td>Carlos Hyde</td><td>Cle</td><td>RB   </td><td>Jon</td><td>Jon</td></tr><tr><td>2018</td><td>5-3 </td><td>Hayden Hurst</td><td>Bal</td><td>TE   </td><td>Ian</td><td>Ian</td></tr><tr><td>2018</td><td>5-4 </td><td>Dion Lewis</td><td>Ten</td><td>RB   </td><td>Brian</td><td>Brian</td></tr><tr><td>2018</td><td>5-6 </td><td>Cameron Brate</td><td>TB </td><td>TE   </td><td>Adrian</td><td>Adrian</td></tr><tr><td>2018</td><td>5-7 </td><td>Dallas Goedert</td><td>Phi</td><td>TE   </td><td>Todd</td><td>Todd</td></tr><tr><td>2018</td><td>5-8 </td><td>Ronald Jones</td><td>TB </td><td>RB   </td><td>Christine</td><td>Christine</td></tr><tr><td>2018</td><td>6-1 </td><td>Mike Williams</td><td>LAC</td><td>WR   </td><td>Jon</td><td>Jon</td></tr><tr><td>2018</td><td>6-2 </td><td>Jonnu Smith</td><td>Ten</td><td>TE   </td><td>Ian</td><td>Ian</td></tr><tr><td>2018</td><td>6-3 </td><td>Cordarrelle Patterson</td><td>NE </td><td>WR   </td><td>Ian</td><td>Ian</td></tr><tr><td>2018</td><td>6-4 </td><td>Andy Dalton</td><td>Cin</td><td>QB   </td><td>Brian</td><td>Brian</td></tr><tr><td>2018</td><td>6-6 </td><td>Calvin Ridley</td><td>Atl</td><td>WR   </td><td>Adrian</td><td>Adrian</td></tr><tr><td>2018</td><td>6-7 </td><td>Greg Zuerlein</td><td>LAR</td><td>K    </td><td>Todd</td><td>Todd</td></tr><tr><td>2018</td><td>6-8 </td><td>Anthony Miller</td><td>Chi</td><td>WR   </td><td>Christine</td><td>Christine</td></tr><tr><td>2018</td><td>7-1 </td><td>Brett Maher</td><td>Dal</td><td>K    </td><td>Ian</td><td>Ian</td></tr><tr><td>2018</td><td>7-2 </td><td>Benjamin Watson</td><td>NO </td><td>TE   </td><td>Jon</td><td>Jon</td></tr><tr><td>2018</td><td>7-3 </td><td>Mason Rudolph</td><td>Pit</td><td>QB   </td><td>William</td><td>William</td></tr><tr><td>2018</td><td>7-4 </td><td>Chris Boswell</td><td>Pit</td><td>K    </td><td>Brian</td><td>Brian</td></tr><tr><td>2018</td><td>7-6 </td><td>Robbie Gould</td><td>SF </td><td>K    </td><td>Adrian</td><td>Adrian</td></tr><tr><td>2018</td><td>7-7 </td><td>Case Keenum</td><td>Den</td><td>QB   </td><td>William</td><td>William</td></tr><tr><td>2018</td><td>7-8 </td><td>Christian Kirk</td><td>Ari</td><td>WR   </td><td>Christine</td><td>Christine</td></tr><tr><td>2018</td><td>8-1 </td><td>Marquez Valdes-Scantling</td><td>GB </td><td>WR   </td><td>Ian</td><td>Ian</td></tr><tr><td>2018</td><td>8-2 </td><td>Jake Elliott</td><td>Phi</td><td>K    </td><td>Jon</td><td>Jon</td></tr><tr><td>2018</td><td>8-3 </td><td>Josh Lambo</td><td>Jax</td><td>K    </td><td>William</td><td>William</td></tr><tr><td>2018</td><td>8-4 </td><td>Tyler Eifert</td><td>Cin</td><td>TE   </td><td>Brian</td><td>Brian</td></tr><tr><td>2018</td><td>8-6 </td><td>Boston Scott</td><td>NO </td><td>RB   </td><td>Adrian</td><td>Adrian</td></tr><tr><td>2018</td><td>8-7 </td><td>Keelan Cole</td><td>Jax</td><td>WR   </td><td>Ian</td><td>Ian</td></tr><tr><td>2018</td><td>8-8 </td><td>Dante Pettis</td><td>SF </td><td>WR   </td><td>Christine</td><td>Christine</td></tr><tr><td>2018</td><td>9-1 </td><td>Mark Andrews</td><td>Bal</td><td>TE   </td><td>Christine</td><td>Christine</td></tr><tr><td>2018</td><td>9-2 </td><td>Chris Thompson</td><td>Wsh</td><td>RB   </td><td>Jon</td><td>Jon</td></tr><tr><td>2018</td><td>9-3 </td><td>Jacob Hollister</td><td>NE </td><td>TE   </td><td>William</td><td>William</td></tr><tr><td>2018</td><td>9-4 </td><td>Ryan Succop</td><td>Ten</td><td>K    </td><td>Brian</td><td>Brian</td></tr><tr><td>2018</td><td>9-6 </td><td>Robby Anderson</td><td>NYJ</td><td>WR   </td><td>Adrian</td><td>Adrian</td></tr><tr><td>2018</td><td>9-7 </td><td>John Kelly</td><td>LAR</td><td>RB   </td><td>Todd</td><td>Todd</td></tr><tr><td>2018</td><td>9-8 </td><td>Josh McCown</td><td>NYJ</td><td>QB   </td><td>Christine</td><td>Christine</td></tr></table>"
                    }
                }
            ],
            "execution_count": 4
        }
    ]
}