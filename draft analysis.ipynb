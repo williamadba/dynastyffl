{
    "metadata": {
        "kernelspec": {
            "name": "SQL",
            "display_name": "SQL",
            "language": "sql"
        },
        "language_info": {
            "name": "sql",
            "version": ""
        }
    },
    "nbformat_minor": 2,
    "nbformat": 4,
    "cells": [
        {
            "cell_type": "markdown",
            "source": "# Notes on draft position statistics:\r\n\r\n- The **CurrentRoster view** only contains for players on the 2018 roster right now. I actually don't have the ability to generate each year's rosters going back in time, ESPN doesn't make that data available anymore, which is really frustrating.\r\n\r\n- After inheriting Cody's team, a team which missed the 2015 draft altogether, Jon was allowed to pick up any number of free agents. He \"drafted\" 10 of them, and they count in the 10th round of the 2015 draft.\r\n\r\n- Counts the most recent time the player was drafted into our league, even if not by the player's current team (in the case of trades for example).\r\n\r\n- Jon and Adrian's drafting activity does not include Cody and Patrick's.",
            "metadata": {}
        },
        {
            "cell_type": "markdown",
            "source": "***\r\n\r\n## Average Draft Year for each roster.\r\n\r\n- Todd has the oldest roster by year they were drafted, while Brian and William are using more recently drafted players than other teams.\r\n\r\n- We all still have at least 2 players from 2012, but there are only 4 players left from the 2013 draft, and none were taken in the first round that year.\r\n\r\n- Of course, the most recent draft will always stock 72 out of 200 players in the league, as 8 teams must draft 72 players in total.",
            "metadata": {}
        },
        {
            "cell_type": "code",
            "source": "select  Current_owner\r\n,       Avg_Draft_Year = cast(round(avg(draftyear*1.),2) as decimal(9,2)) \r\n,       From_2012_Draft = SUM(CASE WHEN cr.draftyear = 2012 THEN 1 ELSE 0 END)\r\n,       From_2013_Draft = SUM(CASE WHEN cr.draftyear = 2013 THEN 1 ELSE 0 END)\r\n,       From_2014_Draft = SUM(CASE WHEN cr.draftyear = 2014 THEN 1 ELSE 0 END)\r\n,       From_2015_Draft = SUM(CASE WHEN cr.draftyear = 2015 THEN 1 ELSE 0 END)\r\n,       From_2016_Draft = SUM(CASE WHEN cr.draftyear = 2016 THEN 1 ELSE 0 END)\r\n,       From_2017_Draft = SUM(CASE WHEN cr.draftyear = 2017 THEN 1 ELSE 0 END)\r\n,       From_2018_Draft = SUM(CASE WHEN cr.draftyear = 2018 THEN 1 ELSE 0 END)\r\nfrom CurrentRoster cr\r\nwhere rosteryear = 2018\r\nGroup by rollup (Current_Owner)\r\norder by isnumeric(isnull(current_owner,1)), Avg_Draft_Year;\r\n\r\nselect dr.draftyear, dr.pick, dr.Player, dr.NFLTeam, dr.Position, Drafted_Owner, Current_Owner\r\nfrom draftresults dr\r\ninner join team t_dr on dr.TeamID = t_dr.id\r\ninner join currentroster r on r.player = dr.Player and t_dr.TeamNumber = r.Drafted_Team_Number and r.draftyear = dr.draftyear\r\ninner join team t_c on r.Current_Team_Number = t_c.TeamNumber and t_c.BeginSeason <= r.rosteryear and t_c.EndSeason >= r.rosteryear\r\nwhere dr.draftyear = 2013\r\nand r.rosteryear = 2018 \r\norder by draftyear, pick;",
            "metadata": {},
            "outputs": [
                {
                    "output_type": "display_data",
                    "data": {
                        "text/html": "(9 rows affected)"
                    },
                    "metadata": {}
                },
                {
                    "output_type": "display_data",
                    "data": {
                        "text/html": "(4 rows affected)"
                    },
                    "metadata": {}
                },
                {
                    "output_type": "display_data",
                    "data": {
                        "text/html": "Total execution time: 00:00:00.097"
                    },
                    "metadata": {}
                },
                {
                    "output_type": "execute_result",
                    "metadata": {},
                    "execution_count": 19,
                    "data": {
                        "application/vnd.dataresource+json": {
                            "schema": {
                                "fields": [
                                    {
                                        "name": "Current_owner"
                                    },
                                    {
                                        "name": "Avg_Draft_Year"
                                    },
                                    {
                                        "name": "From_2012_Draft"
                                    },
                                    {
                                        "name": "From_2013_Draft"
                                    },
                                    {
                                        "name": "From_2014_Draft"
                                    },
                                    {
                                        "name": "From_2015_Draft"
                                    },
                                    {
                                        "name": "From_2016_Draft"
                                    },
                                    {
                                        "name": "From_2017_Draft"
                                    },
                                    {
                                        "name": "From_2018_Draft"
                                    }
                                ]
                            },
                            "data": [
                                {
                                    "0": "Todd",
                                    "1": "2015.76",
                                    "2": "3",
                                    "3": "2",
                                    "4": "2",
                                    "5": "3",
                                    "6": "3",
                                    "7": "5",
                                    "8": "7"
                                },
                                {
                                    "0": "Paul",
                                    "1": "2015.96",
                                    "2": "4",
                                    "3": "1",
                                    "4": "2",
                                    "5": "1",
                                    "6": "3",
                                    "7": "5",
                                    "8": "9"
                                },
                                {
                                    "0": "Adrian",
                                    "1": "2015.96",
                                    "2": "5",
                                    "3": "0",
                                    "4": "1",
                                    "5": "2",
                                    "6": "3",
                                    "7": "5",
                                    "8": "9"
                                },
                                {
                                    "0": "Ian",
                                    "1": "2016.00",
                                    "2": "5",
                                    "3": "0",
                                    "4": "2",
                                    "5": "2",
                                    "6": "1",
                                    "7": "4",
                                    "8": "11"
                                },
                                {
                                    "0": "Christine",
                                    "1": "2016.08",
                                    "2": "4",
                                    "3": "1",
                                    "4": "1",
                                    "5": "1",
                                    "6": "3",
                                    "7": "6",
                                    "8": "9"
                                },
                                {
                                    "0": "Jon",
                                    "1": "2016.12",
                                    "2": "3",
                                    "3": "0",
                                    "4": "3",
                                    "5": "2",
                                    "6": "3",
                                    "7": "5",
                                    "8": "9"
                                },
                                {
                                    "0": "Brian",
                                    "1": "2016.20",
                                    "2": "2",
                                    "3": "0",
                                    "4": "2",
                                    "5": "5",
                                    "6": "3",
                                    "7": "4",
                                    "8": "9"
                                },
                                {
                                    "0": "William",
                                    "1": "2016.20",
                                    "2": "4",
                                    "3": "0",
                                    "4": "1",
                                    "5": "1",
                                    "6": "4",
                                    "7": "6",
                                    "8": "9"
                                },
                                {
                                    "0": "NULL",
                                    "1": "2016.04",
                                    "2": "30",
                                    "3": "4",
                                    "4": "14",
                                    "5": "17",
                                    "6": "23",
                                    "7": "40",
                                    "8": "72"
                                }
                            ]
                        },
                        "text/html": "<table><tr><th>Current_owner</th><th>Avg_Draft_Year</th><th>From_2012_Draft</th><th>From_2013_Draft</th><th>From_2014_Draft</th><th>From_2015_Draft</th><th>From_2016_Draft</th><th>From_2017_Draft</th><th>From_2018_Draft</th></tr><tr><td>Todd</td><td>2015.76</td><td>3</td><td>2</td><td>2</td><td>3</td><td>3</td><td>5</td><td>7</td></tr><tr><td>Paul</td><td>2015.96</td><td>4</td><td>1</td><td>2</td><td>1</td><td>3</td><td>5</td><td>9</td></tr><tr><td>Adrian</td><td>2015.96</td><td>5</td><td>0</td><td>1</td><td>2</td><td>3</td><td>5</td><td>9</td></tr><tr><td>Ian</td><td>2016.00</td><td>5</td><td>0</td><td>2</td><td>2</td><td>1</td><td>4</td><td>11</td></tr><tr><td>Christine</td><td>2016.08</td><td>4</td><td>1</td><td>1</td><td>1</td><td>3</td><td>6</td><td>9</td></tr><tr><td>Jon</td><td>2016.12</td><td>3</td><td>0</td><td>3</td><td>2</td><td>3</td><td>5</td><td>9</td></tr><tr><td>Brian</td><td>2016.20</td><td>2</td><td>0</td><td>2</td><td>5</td><td>3</td><td>4</td><td>9</td></tr><tr><td>William</td><td>2016.20</td><td>4</td><td>0</td><td>1</td><td>1</td><td>4</td><td>6</td><td>9</td></tr><tr><td>NULL</td><td>2016.04</td><td>30</td><td>4</td><td>14</td><td>17</td><td>23</td><td>40</td><td>72</td></tr></table>"
                    }
                },
                {
                    "output_type": "execute_result",
                    "metadata": {},
                    "execution_count": 19,
                    "data": {
                        "application/vnd.dataresource+json": {
                            "schema": {
                                "fields": [
                                    {
                                        "name": "draftyear"
                                    },
                                    {
                                        "name": "pick"
                                    },
                                    {
                                        "name": "Player"
                                    },
                                    {
                                        "name": "NFLTeam"
                                    },
                                    {
                                        "name": "Position"
                                    },
                                    {
                                        "name": "Drafted_Owner"
                                    },
                                    {
                                        "name": "Current_Owner"
                                    }
                                ]
                            },
                            "data": [
                                {
                                    "0": "2013",
                                    "1": "2-2 ",
                                    "2": "DeAndre Hopkins",
                                    "3": "Hou",
                                    "4": "WR   ",
                                    "5": "Todd",
                                    "6": "Todd"
                                },
                                {
                                    "0": "2013",
                                    "1": "2-6 ",
                                    "2": "T.Y. Hilton",
                                    "3": "Ind",
                                    "4": "WR   ",
                                    "5": "Brian",
                                    "6": "Christine"
                                },
                                {
                                    "0": "2013",
                                    "1": "2-7 ",
                                    "2": "Golden Tate",
                                    "3": "Det",
                                    "4": "WR   ",
                                    "5": "Paul",
                                    "6": "Paul"
                                },
                                {
                                    "0": "2013",
                                    "1": "4-2 ",
                                    "2": "LeVeon Bell",
                                    "3": "Pit",
                                    "4": "RB   ",
                                    "5": "Todd",
                                    "6": "Todd"
                                }
                            ]
                        },
                        "text/html": "<table><tr><th>draftyear</th><th>pick</th><th>Player</th><th>NFLTeam</th><th>Position</th><th>Drafted_Owner</th><th>Current_Owner</th></tr><tr><td>2013</td><td>2-2 </td><td>DeAndre Hopkins</td><td>Hou</td><td>WR   </td><td>Todd</td><td>Todd</td></tr><tr><td>2013</td><td>2-6 </td><td>T.Y. Hilton</td><td>Ind</td><td>WR   </td><td>Brian</td><td>Christine</td></tr><tr><td>2013</td><td>2-7 </td><td>Golden Tate</td><td>Det</td><td>WR   </td><td>Paul</td><td>Paul</td></tr><tr><td>2013</td><td>4-2 </td><td>LeVeon Bell</td><td>Pit</td><td>RB   </td><td>Todd</td><td>Todd</td></tr></table>"
                    }
                }
            ],
            "execution_count": 19
        },
        {
            "cell_type": "markdown",
            "source": "***\r\n\r\n## Average Draft Round for each roster\r\n\r\n- In 2018, Brian used, on average, players that were drafted two rounds higher than Adrian.\r\n\r\n- Brian's 2018 players were picked 29th overall in the draft, 19 picks ahead of Adrian's players.\r\n\r\n- This means Brian has cut or traded fewer high-round picks than the rest of us",
            "metadata": {}
        },
        {
            "cell_type": "code",
            "source": "select Current_owner\r\n, Avg_Draft_Round = cast(round(avg(draft_round*1.),2) as decimal(9,2)) \r\n, Avg_Draft_pick_overall = cast(round(avg(((draft_round-1)*8)+pick_in_draft_round*1.),2) as decimal(9,2)) \r\nfrom CurrentRoster \r\nwhere rosteryear = 2018\r\nGroup by Current_Owner order by Avg_Draft_Round;",
            "metadata": {},
            "outputs": [
                {
                    "output_type": "display_data",
                    "data": {
                        "text/html": "(8 rows affected)"
                    },
                    "metadata": {}
                },
                {
                    "output_type": "display_data",
                    "data": {
                        "text/html": "Total execution time: 00:00:00.068"
                    },
                    "metadata": {}
                },
                {
                    "output_type": "execute_result",
                    "metadata": {},
                    "execution_count": 20,
                    "data": {
                        "application/vnd.dataresource+json": {
                            "schema": {
                                "fields": [
                                    {
                                        "name": "Current_owner"
                                    },
                                    {
                                        "name": "Avg_Draft_Round"
                                    },
                                    {
                                        "name": "Avg_Draft_pick_overall"
                                    }
                                ]
                            },
                            "data": [
                                {
                                    "0": "Brian",
                                    "1": "4.20",
                                    "2": "29.04"
                                },
                                {
                                    "0": "Paul",
                                    "1": "4.44",
                                    "2": "32.48"
                                },
                                {
                                    "0": "Christine",
                                    "1": "4.64",
                                    "2": "34.84"
                                },
                                {
                                    "0": "William",
                                    "1": "4.92",
                                    "2": "35.52"
                                },
                                {
                                    "0": "Todd",
                                    "1": "4.96",
                                    "2": "36.52"
                                },
                                {
                                    "0": "Jon",
                                    "1": "5.56",
                                    "2": "39.68"
                                },
                                {
                                    "0": "Ian",
                                    "1": "6.16",
                                    "2": "45.16"
                                },
                                {
                                    "0": "Adrian",
                                    "1": "6.48",
                                    "2": "48.88"
                                }
                            ]
                        },
                        "text/html": "<table><tr><th>Current_owner</th><th>Avg_Draft_Round</th><th>Avg_Draft_pick_overall</th></tr><tr><td>Brian</td><td>4.20</td><td>29.04</td></tr><tr><td>Paul</td><td>4.44</td><td>32.48</td></tr><tr><td>Christine</td><td>4.64</td><td>34.84</td></tr><tr><td>William</td><td>4.92</td><td>35.52</td></tr><tr><td>Todd</td><td>4.96</td><td>36.52</td></tr><tr><td>Jon</td><td>5.56</td><td>39.68</td></tr><tr><td>Ian</td><td>6.16</td><td>45.16</td></tr><tr><td>Adrian</td><td>6.48</td><td>48.88</td></tr></table>"
                    }
                }
            ],
            "execution_count": 20
        },
        {
            "cell_type": "markdown",
            "source": "***\r\n## Average number of draft picks pear year \r\n\r\n- Remember in the first two seasons, we only picked 8 players in the draft. \r\n\r\n- Only includes the first 9 rounds of picks, so this average is only affected by trades\r\n\r\n- Doesn't include Jon's \"10th round\" of 10 picks after he inherited Cody's lost draft of 2015\r\n\r\n- Doesn't count any 10th round picks used for the \"Injured After Drops\" rule\r\n\r\n- Ian's clearly been trading to acquire more picks\r\n\r\n",
            "metadata": {}
        },
        {
            "cell_type": "code",
            "source": "with cteDraftPicksperYear (teamid, draftyear, numberofpicks) as (select teamid, draftyear, count(id) from dbo.draftresults where draft_round <= 9 group by teamid, draftyear)\r\nselect t.TeamOwner, avg_number_of_picks = cast(round(avg(numberofpicks*1.),3)  as decimal(9,2))\r\nfrom cteDraftPicksperYear dr\r\ninner join team t on t.id = dr.TeamID \r\nwhere dr.draftyear > 2012 --don't count our 25-round initial seed draft\r\ngroup by t.TeamOwner\r\norder by avg_number_of_picks;",
            "metadata": {},
            "outputs": [
                {
                    "output_type": "display_data",
                    "data": {
                        "text/html": "(10 rows affected)"
                    },
                    "metadata": {}
                },
                {
                    "output_type": "display_data",
                    "data": {
                        "text/html": "Total execution time: 00:00:00.054"
                    },
                    "metadata": {}
                },
                {
                    "output_type": "execute_result",
                    "metadata": {},
                    "execution_count": 21,
                    "data": {
                        "application/vnd.dataresource+json": {
                            "schema": {
                                "fields": [
                                    {
                                        "name": "TeamOwner"
                                    },
                                    {
                                        "name": "avg_number_of_picks"
                                    }
                                ]
                            },
                            "data": [
                                {
                                    "0": "Cody",
                                    "1": "8.50"
                                },
                                {
                                    "0": "Patrick",
                                    "1": "8.50"
                                },
                                {
                                    "0": "Todd",
                                    "1": "8.50"
                                },
                                {
                                    "0": "William",
                                    "1": "8.83"
                                },
                                {
                                    "0": "Paul",
                                    "1": "8.83"
                                },
                                {
                                    "0": "Brian",
                                    "1": "8.83"
                                },
                                {
                                    "0": "Christine",
                                    "1": "8.83"
                                },
                                {
                                    "0": "Adrian",
                                    "1": "9.00"
                                },
                                {
                                    "0": "Jon",
                                    "1": "9.00"
                                },
                                {
                                    "0": "Ian",
                                    "1": "9.17"
                                }
                            ]
                        },
                        "text/html": "<table><tr><th>TeamOwner</th><th>avg_number_of_picks</th></tr><tr><td>Cody</td><td>8.50</td></tr><tr><td>Patrick</td><td>8.50</td></tr><tr><td>Todd</td><td>8.50</td></tr><tr><td>William</td><td>8.83</td></tr><tr><td>Paul</td><td>8.83</td></tr><tr><td>Brian</td><td>8.83</td></tr><tr><td>Christine</td><td>8.83</td></tr><tr><td>Adrian</td><td>9.00</td></tr><tr><td>Jon</td><td>9.00</td></tr><tr><td>Ian</td><td>9.17</td></tr></table>"
                    }
                }
            ],
            "execution_count": 21
        },
        {
            "cell_type": "markdown",
            "source": "***\r\n\r\n## Average pick in the round\r\n\r\n-Mostly determined by pre-draft order of how you finish the season, but could be affected by trades or the draft party mock draft game\r\n\r\n-Christine's two titles clearly weighing down the order in the round",
            "metadata": {}
        },
        {
            "cell_type": "code",
            "source": "select Current_owner, Avg_pick_in_draft_round = cast(round(avg(pick_in_draft_round*1.),2) as decimal(9,2)) \r\nfrom CurrentRoster \r\nwhere rosteryear = 2018\r\ngroup by Current_Owner \r\norder by Avg_pick_in_draft_round;",
            "metadata": {},
            "outputs": [
                {
                    "output_type": "display_data",
                    "data": {
                        "text/html": "(8 rows affected)"
                    },
                    "metadata": {}
                },
                {
                    "output_type": "display_data",
                    "data": {
                        "text/html": "Total execution time: 00:00:00.128"
                    },
                    "metadata": {}
                },
                {
                    "output_type": "execute_result",
                    "metadata": {},
                    "execution_count": 22,
                    "data": {
                        "application/vnd.dataresource+json": {
                            "schema": {
                                "fields": [
                                    {
                                        "name": "Current_owner"
                                    },
                                    {
                                        "name": "Avg_pick_in_draft_round"
                                    }
                                ]
                            },
                            "data": [
                                {
                                    "0": "Jon",
                                    "1": "3.20"
                                },
                                {
                                    "0": "Brian",
                                    "1": "3.44"
                                },
                                {
                                    "0": "Ian",
                                    "1": "3.88"
                                },
                                {
                                    "0": "William",
                                    "1": "4.16"
                                },
                                {
                                    "0": "Todd",
                                    "1": "4.84"
                                },
                                {
                                    "0": "Paul",
                                    "1": "4.96"
                                },
                                {
                                    "0": "Adrian",
                                    "1": "5.04"
                                },
                                {
                                    "0": "Christine",
                                    "1": "5.72"
                                }
                            ]
                        },
                        "text/html": "<table><tr><th>Current_owner</th><th>Avg_pick_in_draft_round</th></tr><tr><td>Jon</td><td>3.20</td></tr><tr><td>Brian</td><td>3.44</td></tr><tr><td>Ian</td><td>3.88</td></tr><tr><td>William</td><td>4.16</td></tr><tr><td>Todd</td><td>4.84</td></tr><tr><td>Paul</td><td>4.96</td></tr><tr><td>Adrian</td><td>5.04</td></tr><tr><td>Christine</td><td>5.72</td></tr></table>"
                    }
                }
            ],
            "execution_count": 22
        },
        {
            "cell_type": "markdown",
            "source": "***\r\n\r\n## Average draft round by position drafted\r\n\r\n- William drafts RB's high much higher than every other team, not that it's done him any good. \r\n\r\n- Adrian drafts QB's the latest, and yet he's still stacked with QB's right now.\r\n\r\n- Paul and William wait the longest to take TE's\r\n\r\n- Brian drafts WR's and QB's high much higher than every other team\r\n\r\n- Only includes the first 9 rounds, so it ignores any 10th round scenarios and the 10th+ rounds of our initial seeding draft, for consistency",
            "metadata": {}
        },
        {
            "cell_type": "code",
            "source": "select TeamOwner, QB = cast(QB as decimal(9,2)), RB = cast(RB as decimal(9,2)), WR = cast(WR as decimal(9,2)), TE = cast(TE as decimal(9,2)), K = cast(K as decimal(9,2)) \r\nfrom (\r\nselect t.TeamOwner, dr.position, Avg_draft_round = cast(round(avg(draft_round*1.),2) as decimal(9,2)) from draftresults  dr\r\ninner join team t on t.id = dr.TeamID \r\nwhere draft_round <= 9 \r\nand t.TeamOwner not in ('Cody','Patrick')\r\ngroup by t.TeamOwner, dr.Position\r\n) x \r\nPIVOT (AVG(Avg_draft_round) for Position in (RB, TE, WR, QB, K)) as pvt\r\nORDER BY RB asc;",
            "metadata": {},
            "outputs": [
                {
                    "output_type": "display_data",
                    "data": {
                        "text/html": "(8 rows affected)"
                    },
                    "metadata": {}
                },
                {
                    "output_type": "display_data",
                    "data": {
                        "text/html": "Total execution time: 00:00:00.081"
                    },
                    "metadata": {}
                },
                {
                    "output_type": "execute_result",
                    "metadata": {},
                    "execution_count": 23,
                    "data": {
                        "application/vnd.dataresource+json": {
                            "schema": {
                                "fields": [
                                    {
                                        "name": "TeamOwner"
                                    },
                                    {
                                        "name": "QB"
                                    },
                                    {
                                        "name": "RB"
                                    },
                                    {
                                        "name": "WR"
                                    },
                                    {
                                        "name": "TE"
                                    },
                                    {
                                        "name": "K"
                                    }
                                ]
                            },
                            "data": [
                                {
                                    "0": "William",
                                    "1": "6.27",
                                    "2": "2.72",
                                    "3": "4.38",
                                    "4": "6.00",
                                    "5": "7.14"
                                },
                                {
                                    "0": "Paul",
                                    "1": "5.00",
                                    "2": "4.21",
                                    "3": "4.50",
                                    "4": "6.00",
                                    "5": "7.20"
                                },
                                {
                                    "0": "Todd",
                                    "1": "4.00",
                                    "2": "4.26",
                                    "3": "4.33",
                                    "4": "5.27",
                                    "5": "6.00"
                                },
                                {
                                    "0": "Jon",
                                    "1": "4.67",
                                    "2": "4.62",
                                    "3": "6.00",
                                    "4": "4.83",
                                    "5": "6.75"
                                },
                                {
                                    "0": "Christine",
                                    "1": "4.44",
                                    "2": "4.65",
                                    "3": "5.00",
                                    "4": "5.25",
                                    "5": "7.20"
                                },
                                {
                                    "0": "Ian",
                                    "1": "4.33",
                                    "2": "4.90",
                                    "3": "5.05",
                                    "4": "4.44",
                                    "5": "6.80"
                                },
                                {
                                    "0": "Adrian",
                                    "1": "6.50",
                                    "2": "5.17",
                                    "3": "4.56",
                                    "4": "3.67",
                                    "5": "6.33"
                                },
                                {
                                    "0": "Brian",
                                    "1": "3.90",
                                    "2": "5.71",
                                    "3": "3.59",
                                    "4": "5.45",
                                    "5": "7.50"
                                }
                            ]
                        },
                        "text/html": "<table><tr><th>TeamOwner</th><th>QB</th><th>RB</th><th>WR</th><th>TE</th><th>K</th></tr><tr><td>William</td><td>6.27</td><td>2.72</td><td>4.38</td><td>6.00</td><td>7.14</td></tr><tr><td>Paul</td><td>5.00</td><td>4.21</td><td>4.50</td><td>6.00</td><td>7.20</td></tr><tr><td>Todd</td><td>4.00</td><td>4.26</td><td>4.33</td><td>5.27</td><td>6.00</td></tr><tr><td>Jon</td><td>4.67</td><td>4.62</td><td>6.00</td><td>4.83</td><td>6.75</td></tr><tr><td>Christine</td><td>4.44</td><td>4.65</td><td>5.00</td><td>5.25</td><td>7.20</td></tr><tr><td>Ian</td><td>4.33</td><td>4.90</td><td>5.05</td><td>4.44</td><td>6.80</td></tr><tr><td>Adrian</td><td>6.50</td><td>5.17</td><td>4.56</td><td>3.67</td><td>6.33</td></tr><tr><td>Brian</td><td>3.90</td><td>5.71</td><td>3.59</td><td>5.45</td><td>7.50</td></tr></table>"
                    }
                }
            ],
            "execution_count": 23
        },
        {
            "cell_type": "markdown",
            "source": "***\r\n\r\n## More on what positions people draft, and when.\r\n\r\n- William drafts RB's much higher than everyone else, and drafts QB's later than everyone else, not that its done him any good.\r\n\r\n- Brian drafts WR's a round higher than everyone else.\r\n\r\n- Todd drafts a TE in the 5th-6th rounds, consistently.\r\n\r\n- Christine is the least predictable of us when it comes to drafting, and with less sample size, so is Adrian",
            "metadata": {}
        },
        {
            "cell_type": "code",
            "source": "select t.TeamOwner, dr.position\r\n, Avg_draft_round = cast(round(avg(draft_round*1.),2) as decimal(9,2))\r\n, count_of_picks_of_this_position = count(dr.id) \r\n, STDEV_draft_round = cast(STDEV(draft_round*1.) as decimal(9,2)) \r\nfrom draftresults  dr\r\ninner join team t on t.id = dr.TeamID \r\nwhere draft_round <= 9 \r\nand t.TeamOwner not in ('Cody','Patrick')\r\nand position <>'K'\r\ngroup by t.TeamOwner, dr.Position\r\nhaving count(dr.id)  > 3 -- not enough sample size\r\nORDER BY Avg_Draft_round;",
            "metadata": {},
            "outputs": [
                {
                    "output_type": "display_data",
                    "data": {
                        "text/html": "(29 rows affected)"
                    },
                    "metadata": {}
                },
                {
                    "output_type": "display_data",
                    "data": {
                        "text/html": "Total execution time: 00:00:00.065"
                    },
                    "metadata": {}
                },
                {
                    "output_type": "execute_result",
                    "metadata": {},
                    "execution_count": 27,
                    "data": {
                        "application/vnd.dataresource+json": {
                            "schema": {
                                "fields": [
                                    {
                                        "name": "TeamOwner"
                                    },
                                    {
                                        "name": "position"
                                    },
                                    {
                                        "name": "Avg_draft_round"
                                    },
                                    {
                                        "name": "count_of_picks_of_this_position"
                                    },
                                    {
                                        "name": "STDEV_draft_round"
                                    }
                                ]
                            },
                            "data": [
                                {
                                    "0": "William",
                                    "1": "RB   ",
                                    "2": "2.72",
                                    "3": "18",
                                    "4": "1.90"
                                },
                                {
                                    "0": "Brian",
                                    "1": "WR   ",
                                    "2": "3.59",
                                    "3": "17",
                                    "4": "2.21"
                                },
                                {
                                    "0": "Brian",
                                    "1": "QB   ",
                                    "2": "3.90",
                                    "3": "10",
                                    "4": "2.08"
                                },
                                {
                                    "0": "Todd",
                                    "1": "QB   ",
                                    "2": "4.00",
                                    "3": "9",
                                    "4": "2.74"
                                },
                                {
                                    "0": "Paul",
                                    "1": "RB   ",
                                    "2": "4.21",
                                    "3": "19",
                                    "4": "2.70"
                                },
                                {
                                    "0": "Todd",
                                    "1": "RB   ",
                                    "2": "4.26",
                                    "3": "19",
                                    "4": "2.60"
                                },
                                {
                                    "0": "Ian",
                                    "1": "QB   ",
                                    "2": "4.33",
                                    "3": "9",
                                    "4": "2.87"
                                },
                                {
                                    "0": "Todd",
                                    "1": "WR   ",
                                    "2": "4.33",
                                    "3": "12",
                                    "4": "3.03"
                                },
                                {
                                    "0": "William",
                                    "1": "WR   ",
                                    "2": "4.38",
                                    "3": "16",
                                    "4": "2.00"
                                },
                                {
                                    "0": "Ian",
                                    "1": "TE   ",
                                    "2": "4.44",
                                    "3": "9",
                                    "4": "2.13"
                                },
                                {
                                    "0": "Christine",
                                    "1": "QB   ",
                                    "2": "4.44",
                                    "3": "9",
                                    "4": "2.70"
                                },
                                {
                                    "0": "Paul",
                                    "1": "WR   ",
                                    "2": "4.50",
                                    "3": "20",
                                    "4": "2.69"
                                },
                                {
                                    "0": "Adrian",
                                    "1": "WR   ",
                                    "2": "4.56",
                                    "3": "16",
                                    "4": "2.83"
                                },
                                {
                                    "0": "Jon",
                                    "1": "RB   ",
                                    "2": "4.62",
                                    "3": "13",
                                    "4": "2.43"
                                },
                                {
                                    "0": "Christine",
                                    "1": "RB   ",
                                    "2": "4.65",
                                    "3": "17",
                                    "4": "3.06"
                                },
                                {
                                    "0": "Jon",
                                    "1": "TE   ",
                                    "2": "4.83",
                                    "3": "6",
                                    "4": "2.93"
                                },
                                {
                                    "0": "Ian",
                                    "1": "RB   ",
                                    "2": "4.90",
                                    "3": "21",
                                    "4": "2.79"
                                },
                                {
                                    "0": "Paul",
                                    "1": "QB   ",
                                    "2": "5.00",
                                    "3": "8",
                                    "4": "2.33"
                                },
                                {
                                    "0": "Christine",
                                    "1": "WR   ",
                                    "2": "5.00",
                                    "3": "23",
                                    "4": "2.49"
                                },
                                {
                                    "0": "Ian",
                                    "1": "WR   ",
                                    "2": "5.05",
                                    "3": "20",
                                    "4": "2.35"
                                },
                                {
                                    "0": "Adrian",
                                    "1": "RB   ",
                                    "2": "5.17",
                                    "3": "12",
                                    "4": "2.86"
                                },
                                {
                                    "0": "Christine",
                                    "1": "TE   ",
                                    "2": "5.25",
                                    "3": "8",
                                    "4": "2.25"
                                },
                                {
                                    "0": "Todd",
                                    "1": "TE   ",
                                    "2": "5.27",
                                    "3": "11",
                                    "4": "2.20"
                                },
                                {
                                    "0": "Brian",
                                    "1": "TE   ",
                                    "2": "5.45",
                                    "3": "11",
                                    "4": "2.38"
                                },
                                {
                                    "0": "Brian",
                                    "1": "RB   ",
                                    "2": "5.71",
                                    "3": "14",
                                    "4": "2.76"
                                },
                                {
                                    "0": "William",
                                    "1": "TE   ",
                                    "2": "6.00",
                                    "3": "10",
                                    "4": "2.45"
                                },
                                {
                                    "0": "Paul",
                                    "1": "TE   ",
                                    "2": "6.00",
                                    "3": "10",
                                    "4": "2.26"
                                },
                                {
                                    "0": "Jon",
                                    "1": "WR   ",
                                    "2": "6.00",
                                    "3": "10",
                                    "4": "3.06"
                                },
                                {
                                    "0": "William",
                                    "1": "QB   ",
                                    "2": "6.27",
                                    "3": "11",
                                    "4": "2.28"
                                }
                            ]
                        },
                        "text/html": "<table><tr><th>TeamOwner</th><th>position</th><th>Avg_draft_round</th><th>count_of_picks_of_this_position</th><th>STDEV_draft_round</th></tr><tr><td>William</td><td>RB   </td><td>2.72</td><td>18</td><td>1.90</td></tr><tr><td>Brian</td><td>WR   </td><td>3.59</td><td>17</td><td>2.21</td></tr><tr><td>Brian</td><td>QB   </td><td>3.90</td><td>10</td><td>2.08</td></tr><tr><td>Todd</td><td>QB   </td><td>4.00</td><td>9</td><td>2.74</td></tr><tr><td>Paul</td><td>RB   </td><td>4.21</td><td>19</td><td>2.70</td></tr><tr><td>Todd</td><td>RB   </td><td>4.26</td><td>19</td><td>2.60</td></tr><tr><td>Ian</td><td>QB   </td><td>4.33</td><td>9</td><td>2.87</td></tr><tr><td>Todd</td><td>WR   </td><td>4.33</td><td>12</td><td>3.03</td></tr><tr><td>William</td><td>WR   </td><td>4.38</td><td>16</td><td>2.00</td></tr><tr><td>Ian</td><td>TE   </td><td>4.44</td><td>9</td><td>2.13</td></tr><tr><td>Christine</td><td>QB   </td><td>4.44</td><td>9</td><td>2.70</td></tr><tr><td>Paul</td><td>WR   </td><td>4.50</td><td>20</td><td>2.69</td></tr><tr><td>Adrian</td><td>WR   </td><td>4.56</td><td>16</td><td>2.83</td></tr><tr><td>Jon</td><td>RB   </td><td>4.62</td><td>13</td><td>2.43</td></tr><tr><td>Christine</td><td>RB   </td><td>4.65</td><td>17</td><td>3.06</td></tr><tr><td>Jon</td><td>TE   </td><td>4.83</td><td>6</td><td>2.93</td></tr><tr><td>Ian</td><td>RB   </td><td>4.90</td><td>21</td><td>2.79</td></tr><tr><td>Paul</td><td>QB   </td><td>5.00</td><td>8</td><td>2.33</td></tr><tr><td>Christine</td><td>WR   </td><td>5.00</td><td>23</td><td>2.49</td></tr><tr><td>Ian</td><td>WR   </td><td>5.05</td><td>20</td><td>2.35</td></tr><tr><td>Adrian</td><td>RB   </td><td>5.17</td><td>12</td><td>2.86</td></tr><tr><td>Christine</td><td>TE   </td><td>5.25</td><td>8</td><td>2.25</td></tr><tr><td>Todd</td><td>TE   </td><td>5.27</td><td>11</td><td>2.20</td></tr><tr><td>Brian</td><td>TE   </td><td>5.45</td><td>11</td><td>2.38</td></tr><tr><td>Brian</td><td>RB   </td><td>5.71</td><td>14</td><td>2.76</td></tr><tr><td>William</td><td>TE   </td><td>6.00</td><td>10</td><td>2.45</td></tr><tr><td>Paul</td><td>TE   </td><td>6.00</td><td>10</td><td>2.26</td></tr><tr><td>Jon</td><td>WR   </td><td>6.00</td><td>10</td><td>3.06</td></tr><tr><td>William</td><td>QB   </td><td>6.27</td><td>11</td><td>2.28</td></tr></table>"
                    }
                }
            ],
            "execution_count": 27
        },
        {
            "cell_type": "markdown",
            "source": "***\r\n\r\n## Number of players at each position drafted + average number of that position picked per draft\r\n\r\n- Not everyone has participated in the same number of drafts. Jon and Adrian have only been in the league 4 seasons, not all 7.\r\n\r\n- Todd is super skeptical of WR's, drafting less than 2 per draft, far fewer than everyone else.\r\n\r\n- Christine has drafted more WR's than anyone, but Adrian is catching up, drafting an avg of 4 per year, highest in the league.\r\n\r\n- Thanks to Oli Beckhamming, Paul has drafted fewer QB's over 7 years than anyone else, while with Cam and Russell Wilson, Adrian has drafted few QB's too.\r\n\r\n- In fact, Adrian has drafted mostly RB's and WR's since entering the league, higher than the rest of us.\r\n\r\n- William has drafted the most QB's, a lot of good it's done. He did trade Dak for a kicker though.\r\n\r\n- Brian has drafted the most kickers. This is real advanced analytics, I know.",
            "metadata": {}
        },
        {
            "cell_type": "code",
            "source": "WITH cteCount (TeamOwner, position, count_of_picks_of_this_position, count_of_drafts) as (\r\n select t.TeamOwner, dr.position\r\n, count_of_picks_of_this_position = count(dr.id)  \r\n, count_of_drafts = count(distinct dr.draftyear)   \r\nfrom draftresults  dr\r\ninner join team t on t.id = dr.TeamID \r\nwhere draft_round <= 9 \r\nand t.TeamOwner not in ('Cody','Patrick')\r\ngroup by t.TeamOwner, dr.position\r\n) \r\nSELECT TeamOwner, QB, RB, WR, TE, K FROM (\r\nselect teamowner, position\r\n,  Count_of_picks_Avg_per_draft = cast(count_of_picks_of_this_position  as varchar(4)) + ' ' +  cast(cast(count_of_picks_of_this_position*1./ MAX(count_of_drafts*1.) OVER (PARTITION BY TeamOwner) as decimal(9,2)) as varchar(6))\r\nfrom cteCount \r\n) x\r\nPIVOT ( MAX(Count_of_picks_Avg_per_draft) FOR Position IN (WR, RB, QB, TE, K)) AS pvt\r\nORDER BY WR desc;",
            "metadata": {},
            "outputs": [
                {
                    "output_type": "display_data",
                    "data": {
                        "text/html": "(8 rows affected)"
                    },
                    "metadata": {}
                },
                {
                    "output_type": "display_data",
                    "data": {
                        "text/html": "Total execution time: 00:00:00.082"
                    },
                    "metadata": {}
                },
                {
                    "output_type": "execute_result",
                    "metadata": {},
                    "execution_count": 25,
                    "data": {
                        "application/vnd.dataresource+json": {
                            "schema": {
                                "fields": [
                                    {
                                        "name": "TeamOwner"
                                    },
                                    {
                                        "name": "QB"
                                    },
                                    {
                                        "name": "RB"
                                    },
                                    {
                                        "name": "WR"
                                    },
                                    {
                                        "name": "TE"
                                    },
                                    {
                                        "name": "K"
                                    }
                                ]
                            },
                            "data": [
                                {
                                    "0": "Christine",
                                    "1": "9 1.29",
                                    "2": "17 2.43",
                                    "3": "23 3.29",
                                    "4": "8 1.14",
                                    "5": "5 0.71"
                                },
                                {
                                    "0": "Ian",
                                    "1": "9 1.29",
                                    "2": "21 3.00",
                                    "3": "20 2.86",
                                    "4": "9 1.29",
                                    "5": "5 0.71"
                                },
                                {
                                    "0": "Paul",
                                    "1": "8 1.14",
                                    "2": "19 2.71",
                                    "3": "20 2.86",
                                    "4": "10 1.43",
                                    "5": "5 0.71"
                                },
                                {
                                    "0": "Brian",
                                    "1": "10 1.43",
                                    "2": "14 2.00",
                                    "3": "17 2.43",
                                    "4": "11 1.57",
                                    "5": "10 1.43"
                                },
                                {
                                    "0": "Adrian",
                                    "1": "2 0.50",
                                    "2": "12 3.00",
                                    "3": "16 4.00",
                                    "4": "3 0.75",
                                    "5": "3 0.75"
                                },
                                {
                                    "0": "William",
                                    "1": "11 1.57",
                                    "2": "18 2.57",
                                    "3": "16 2.29",
                                    "4": "10 1.43",
                                    "5": "7 1.00"
                                },
                                {
                                    "0": "Todd",
                                    "1": "9 1.29",
                                    "2": "19 2.71",
                                    "3": "12 1.71",
                                    "4": "11 1.57",
                                    "5": "9 1.29"
                                },
                                {
                                    "0": "Jon",
                                    "1": "3 0.75",
                                    "2": "13 3.25",
                                    "3": "10 2.50",
                                    "4": "6 1.50",
                                    "5": "4 1.00"
                                }
                            ]
                        },
                        "text/html": "<table><tr><th>TeamOwner</th><th>QB</th><th>RB</th><th>WR</th><th>TE</th><th>K</th></tr><tr><td>Christine</td><td>9 1.29</td><td>17 2.43</td><td>23 3.29</td><td>8 1.14</td><td>5 0.71</td></tr><tr><td>Ian</td><td>9 1.29</td><td>21 3.00</td><td>20 2.86</td><td>9 1.29</td><td>5 0.71</td></tr><tr><td>Paul</td><td>8 1.14</td><td>19 2.71</td><td>20 2.86</td><td>10 1.43</td><td>5 0.71</td></tr><tr><td>Brian</td><td>10 1.43</td><td>14 2.00</td><td>17 2.43</td><td>11 1.57</td><td>10 1.43</td></tr><tr><td>Adrian</td><td>2 0.50</td><td>12 3.00</td><td>16 4.00</td><td>3 0.75</td><td>3 0.75</td></tr><tr><td>William</td><td>11 1.57</td><td>18 2.57</td><td>16 2.29</td><td>10 1.43</td><td>7 1.00</td></tr><tr><td>Todd</td><td>9 1.29</td><td>19 2.71</td><td>12 1.71</td><td>11 1.57</td><td>9 1.29</td></tr><tr><td>Jon</td><td>3 0.75</td><td>13 3.25</td><td>10 2.50</td><td>6 1.50</td><td>4 1.00</td></tr></table>"
                    }
                }
            ],
            "execution_count": 25
        },
        {
            "cell_type": "markdown",
            "source": "***\r\n\r\n## First Round Pick Behavior\r\n\r\n- Most of us take RB's in the first round\r\n\r\n- Jon traded a first round pick to Todd in 2017, and Brian traded a first round pick to Adrian in 2017\r\n\r\n- The newcomers, Jon and Adrian, are the only ones to draft a TE in the first.\r\n\r\n- William's only non-RB pick in the first round: then-Rams QB Nick Foles in 2014. Wow he is bad at this.",
            "metadata": {}
        },
        {
            "cell_type": "code",
            "source": "select TeamOwner, QB, RB, WR, TE, K\r\nfrom (\r\nselect t.TeamOwner, dr.position, pos_count = count(player) \r\nfrom draftresults  dr\r\ninner join team t on t.id = dr.TeamID \r\nwhere draft_round = 1 \r\nand t.TeamOwner not in ('Cody','Patrick')\r\ngroup by t.TeamOwner, dr.Position\r\n) x \r\nPIVOT (AVG(pos_count) for Position in (RB, TE, WR, QB, K)) as pvt\r\nORDER BY RB desc;",
            "metadata": {},
            "outputs": [
                {
                    "output_type": "display_data",
                    "data": {
                        "text/html": "(8 rows affected)"
                    },
                    "metadata": {}
                },
                {
                    "output_type": "display_data",
                    "data": {
                        "text/html": "Total execution time: 00:00:00.062"
                    },
                    "metadata": {}
                },
                {
                    "output_type": "execute_result",
                    "metadata": {},
                    "execution_count": 26,
                    "data": {
                        "application/vnd.dataresource+json": {
                            "schema": {
                                "fields": [
                                    {
                                        "name": "TeamOwner"
                                    },
                                    {
                                        "name": "QB"
                                    },
                                    {
                                        "name": "RB"
                                    },
                                    {
                                        "name": "WR"
                                    },
                                    {
                                        "name": "TE"
                                    },
                                    {
                                        "name": "K"
                                    }
                                ]
                            },
                            "data": [
                                {
                                    "0": "William",
                                    "1": "1",
                                    "2": "6",
                                    "3": "NULL",
                                    "4": "NULL",
                                    "5": "NULL"
                                },
                                {
                                    "0": "Paul",
                                    "1": "NULL",
                                    "2": "5",
                                    "3": "2",
                                    "4": "NULL",
                                    "5": "NULL"
                                },
                                {
                                    "0": "Todd",
                                    "1": "1",
                                    "2": "5",
                                    "3": "2",
                                    "4": "NULL",
                                    "5": "NULL"
                                },
                                {
                                    "0": "Christine",
                                    "1": "1",
                                    "2": "5",
                                    "3": "1",
                                    "4": "NULL",
                                    "5": "NULL"
                                },
                                {
                                    "0": "Ian",
                                    "1": "1",
                                    "2": "5",
                                    "3": "1",
                                    "4": "NULL",
                                    "5": "NULL"
                                },
                                {
                                    "0": "Adrian",
                                    "1": "NULL",
                                    "2": "2",
                                    "3": "2",
                                    "4": "1",
                                    "5": "NULL"
                                },
                                {
                                    "0": "Brian",
                                    "1": "2",
                                    "2": "2",
                                    "3": "2",
                                    "4": "NULL",
                                    "5": "NULL"
                                },
                                {
                                    "0": "Jon",
                                    "1": "NULL",
                                    "2": "1",
                                    "3": "1",
                                    "4": "1",
                                    "5": "NULL"
                                }
                            ]
                        },
                        "text/html": "<table><tr><th>TeamOwner</th><th>QB</th><th>RB</th><th>WR</th><th>TE</th><th>K</th></tr><tr><td>William</td><td>1</td><td>6</td><td>NULL</td><td>NULL</td><td>NULL</td></tr><tr><td>Paul</td><td>NULL</td><td>5</td><td>2</td><td>NULL</td><td>NULL</td></tr><tr><td>Todd</td><td>1</td><td>5</td><td>2</td><td>NULL</td><td>NULL</td></tr><tr><td>Christine</td><td>1</td><td>5</td><td>1</td><td>NULL</td><td>NULL</td></tr><tr><td>Ian</td><td>1</td><td>5</td><td>1</td><td>NULL</td><td>NULL</td></tr><tr><td>Adrian</td><td>NULL</td><td>2</td><td>2</td><td>1</td><td>NULL</td></tr><tr><td>Brian</td><td>2</td><td>2</td><td>2</td><td>NULL</td><td>NULL</td></tr><tr><td>Jon</td><td>NULL</td><td>1</td><td>1</td><td>1</td><td>NULL</td></tr></table>"
                    }
                }
            ],
            "execution_count": 26
        }
    ]
}