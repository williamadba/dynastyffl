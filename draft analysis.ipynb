{
    "metadata": {
        "kernelspec": {
            "name": "SQL",
            "display_name": "SQL",
            "language": "sql"
        },
        "language_info": {
            "name": "sql",
            "version": ""
        }
    },
    "nbformat_minor": 2,
    "nbformat": 4,
    "cells": [
        {
            "cell_type": "markdown",
            "source": "Notes on draft position statistics:\r\n\r\n-The CurrentRoster only contains for players on the 2018 roster right now. I actually don't have the ability to generate each year's rosters going back in time, ESPN doesn't make that data available anymore, which is really frustrating.\r\n\r\n-After inheriting Cody's team, a team which missed the 2015 draft altogether, Jon was allowed to pick up any number of free agents. He \"drafted\" 10 of them, and they count in the 10th round of the 2015 draft.\r\n\r\n-Counts the most recent time the player was drafted into our league, even if not by the player's current team (in the case of trades for example).\r\n\r\nAverage Draft Year for each roster.\r\n\r\nTodd has the oldest roster by year they were drafted, while Brian and William are using more recently drafted players.",
            "metadata": {}
        },
        {
            "cell_type": "code",
            "source": "select Current_owner, Avg_Draft_Year = round(avg(draftyear*1.),2) from CurrentRoster \r\nwhere rosteryear = 2018\r\nGroup by Current_Owner order by Avg_Draft_Year;",
            "metadata": {},
            "outputs": [
                {
                    "output_type": "display_data",
                    "data": {
                        "text/html": "(8 rows affected)"
                    },
                    "metadata": {}
                },
                {
                    "output_type": "display_data",
                    "data": {
                        "text/html": "Total execution time: 00:00:00.0789448"
                    },
                    "metadata": {}
                },
                {
                    "output_type": "execute_result",
                    "metadata": {},
                    "execution_count": 3,
                    "data": {
                        "application/vnd.dataresource+json": {
                            "schema": {
                                "fields": [
                                    {
                                        "name": "Current_owner"
                                    },
                                    {
                                        "name": "Avg_Draft_Year"
                                    }
                                ]
                            },
                            "data": [
                                {
                                    "0": "Todd",
                                    "1": "2015.760000"
                                },
                                {
                                    "0": "Paul",
                                    "1": "2015.960000"
                                },
                                {
                                    "0": "Adrian",
                                    "1": "2015.960000"
                                },
                                {
                                    "0": "Ian",
                                    "1": "2016.000000"
                                },
                                {
                                    "0": "Christine",
                                    "1": "2016.080000"
                                },
                                {
                                    "0": "Jonathan",
                                    "1": "2016.120000"
                                },
                                {
                                    "0": "Brian",
                                    "1": "2016.200000"
                                },
                                {
                                    "0": "William",
                                    "1": "2016.200000"
                                }
                            ]
                        },
                        "text/html": "<table><tr><th>Current_owner</th><th>Avg_Draft_Year</th></tr><tr><td>Todd</td><td>2015.760000</td></tr><tr><td>Paul</td><td>2015.960000</td></tr><tr><td>Adrian</td><td>2015.960000</td></tr><tr><td>Ian</td><td>2016.000000</td></tr><tr><td>Christine</td><td>2016.080000</td></tr><tr><td>Jonathan</td><td>2016.120000</td></tr><tr><td>Brian</td><td>2016.200000</td></tr><tr><td>William</td><td>2016.200000</td></tr></table>"
                    }
                }
            ],
            "execution_count": 3
        },
        {
            "cell_type": "markdown",
            "source": "Average Draft Round for each roster\r\n\r\nIn 2018, Brian used, on average, players that were drafted two rounds higher than Adrian.",
            "metadata": {}
        },
        {
            "cell_type": "code",
            "source": "select Current_owner, Avg_Draft_Round = round(avg(draft_round*1.),2) from CurrentRoster \r\nwhere rosteryear = 2018\r\nGroup by Current_Owner order by Avg_Draft_Round;",
            "metadata": {},
            "outputs": [
                {
                    "output_type": "display_data",
                    "data": {
                        "text/html": "(8 rows affected)"
                    },
                    "metadata": {}
                },
                {
                    "output_type": "display_data",
                    "data": {
                        "text/html": "Total execution time: 00:00:00.0727022"
                    },
                    "metadata": {}
                },
                {
                    "output_type": "execute_result",
                    "metadata": {},
                    "execution_count": 4,
                    "data": {
                        "application/vnd.dataresource+json": {
                            "schema": {
                                "fields": [
                                    {
                                        "name": "Current_owner"
                                    },
                                    {
                                        "name": "Avg_Draft_Round"
                                    }
                                ]
                            },
                            "data": [
                                {
                                    "0": "Brian",
                                    "1": "4.200000"
                                },
                                {
                                    "0": "Paul",
                                    "1": "4.440000"
                                },
                                {
                                    "0": "Christine",
                                    "1": "4.640000"
                                },
                                {
                                    "0": "William",
                                    "1": "4.920000"
                                },
                                {
                                    "0": "Todd",
                                    "1": "4.960000"
                                },
                                {
                                    "0": "Jonathan",
                                    "1": "5.560000"
                                },
                                {
                                    "0": "Ian",
                                    "1": "6.160000"
                                },
                                {
                                    "0": "Adrian",
                                    "1": "6.480000"
                                }
                            ]
                        },
                        "text/html": "<table><tr><th>Current_owner</th><th>Avg_Draft_Round</th></tr><tr><td>Brian</td><td>4.200000</td></tr><tr><td>Paul</td><td>4.440000</td></tr><tr><td>Christine</td><td>4.640000</td></tr><tr><td>William</td><td>4.920000</td></tr><tr><td>Todd</td><td>4.960000</td></tr><tr><td>Jonathan</td><td>5.560000</td></tr><tr><td>Ian</td><td>6.160000</td></tr><tr><td>Adrian</td><td>6.480000</td></tr></table>"
                    }
                }
            ],
            "execution_count": 4
        },
        {
            "cell_type": "markdown",
            "source": "Average number of draft picks pear year \r\n\r\n-Includes Jon's \"10th round\" of picks after he inherited Cody's lost draft of 2015\r\n\r\n-Remember in the first two seasons, we only picked 8 players in the draft. \r\n\r\n-Counts any 10th round picks used for the \"Injured After Drops\" rule",
            "metadata": {}
        },
        {
            "cell_type": "code",
            "source": "with cteDraftPicksperYear (teamid, draftyear, numberofpicks) as (select teamid, draftyear, count(id) from dbo.draftresults group by teamid, draftyear)\r\nselect t.TeamOwner, avg_numberofpicks = round(avg(numberofpicks*1.),3) \r\nfrom cteDraftPicksperYear dr\r\ninner join team t on t.id = dr.TeamID \r\nwhere dr.draftyear > 2012 --don't count our 25-round initial seed draft\r\ngroup by t.TeamOwner\r\norder by avg_numberofpicks",
            "metadata": {},
            "outputs": [
                {
                    "output_type": "display_data",
                    "data": {
                        "text/html": "(10 rows affected)"
                    },
                    "metadata": {}
                },
                {
                    "output_type": "display_data",
                    "data": {
                        "text/html": "Total execution time: 00:00:00.0732812"
                    },
                    "metadata": {}
                },
                {
                    "output_type": "execute_result",
                    "metadata": {},
                    "execution_count": 5,
                    "data": {
                        "application/vnd.dataresource+json": {
                            "schema": {
                                "fields": [
                                    {
                                        "name": "TeamOwner"
                                    },
                                    {
                                        "name": "avg_numberofpicks"
                                    }
                                ]
                            },
                            "data": [
                                {
                                    "0": "Michael",
                                    "1": "8.500000"
                                },
                                {
                                    "0": "Patrick",
                                    "1": "8.500000"
                                },
                                {
                                    "0": "Todd",
                                    "1": "8.500000"
                                },
                                {
                                    "0": "William",
                                    "1": "8.833000"
                                },
                                {
                                    "0": "Paul",
                                    "1": "8.833000"
                                },
                                {
                                    "0": "Brian",
                                    "1": "8.833000"
                                },
                                {
                                    "0": "Christine",
                                    "1": "8.833000"
                                },
                                {
                                    "0": "Ian",
                                    "1": "9.167000"
                                },
                                {
                                    "0": "Adrian",
                                    "1": "9.250000"
                                },
                                {
                                    "0": "Jonathan",
                                    "1": "11.500000"
                                }
                            ]
                        },
                        "text/html": "<table><tr><th>TeamOwner</th><th>avg_numberofpicks</th></tr><tr><td>Michael</td><td>8.500000</td></tr><tr><td>Patrick</td><td>8.500000</td></tr><tr><td>Todd</td><td>8.500000</td></tr><tr><td>William</td><td>8.833000</td></tr><tr><td>Paul</td><td>8.833000</td></tr><tr><td>Brian</td><td>8.833000</td></tr><tr><td>Christine</td><td>8.833000</td></tr><tr><td>Ian</td><td>9.167000</td></tr><tr><td>Adrian</td><td>9.250000</td></tr><tr><td>Jonathan</td><td>11.500000</td></tr></table>"
                    }
                }
            ],
            "execution_count": 5
        },
        {
            "cell_type": "markdown",
            "source": "Average number of draft picks pear year \r\n\r\n-Remember in the first two seasons, we only picked 8 players in the draft. \r\n\r\n-Only includes the first 9 rounds of picks, so this average is only affected by trades",
            "metadata": {}
        },
        {
            "cell_type": "code",
            "source": "with cteDraftPicksperYear (teamid, draftyear, numberofpicks) as (select teamid, draftyear, count(id) from dbo.draftresults where draft_round <= 9 group by teamid, draftyear)\r\nselect t.TeamOwner, avg_numberofpicks = round(avg(numberofpicks*1.),3) \r\nfrom cteDraftPicksperYear dr\r\ninner join team t on t.id = dr.TeamID \r\nwhere dr.draftyear > 2012 --don't count our 25-round initial seed draft\r\ngroup by t.TeamOwner\r\norder by avg_numberofpicks",
            "metadata": {},
            "outputs": [
                {
                    "output_type": "display_data",
                    "data": {
                        "text/html": "(10 rows affected)"
                    },
                    "metadata": {}
                },
                {
                    "output_type": "display_data",
                    "data": {
                        "text/html": "Total execution time: 00:00:00.0609150"
                    },
                    "metadata": {}
                },
                {
                    "output_type": "execute_result",
                    "metadata": {},
                    "execution_count": 6,
                    "data": {
                        "application/vnd.dataresource+json": {
                            "schema": {
                                "fields": [
                                    {
                                        "name": "TeamOwner"
                                    },
                                    {
                                        "name": "avg_numberofpicks"
                                    }
                                ]
                            },
                            "data": [
                                {
                                    "0": "Michael",
                                    "1": "8.500000"
                                },
                                {
                                    "0": "Patrick",
                                    "1": "8.500000"
                                },
                                {
                                    "0": "Todd",
                                    "1": "8.500000"
                                },
                                {
                                    "0": "William",
                                    "1": "8.833000"
                                },
                                {
                                    "0": "Paul",
                                    "1": "8.833000"
                                },
                                {
                                    "0": "Brian",
                                    "1": "8.833000"
                                },
                                {
                                    "0": "Christine",
                                    "1": "8.833000"
                                },
                                {
                                    "0": "Adrian",
                                    "1": "9.000000"
                                },
                                {
                                    "0": "Jonathan",
                                    "1": "9.000000"
                                },
                                {
                                    "0": "Ian",
                                    "1": "9.167000"
                                }
                            ]
                        },
                        "text/html": "<table><tr><th>TeamOwner</th><th>avg_numberofpicks</th></tr><tr><td>Michael</td><td>8.500000</td></tr><tr><td>Patrick</td><td>8.500000</td></tr><tr><td>Todd</td><td>8.500000</td></tr><tr><td>William</td><td>8.833000</td></tr><tr><td>Paul</td><td>8.833000</td></tr><tr><td>Brian</td><td>8.833000</td></tr><tr><td>Christine</td><td>8.833000</td></tr><tr><td>Adrian</td><td>9.000000</td></tr><tr><td>Jonathan</td><td>9.000000</td></tr><tr><td>Ian</td><td>9.167000</td></tr></table>"
                    }
                }
            ],
            "execution_count": 6
        },
        {
            "cell_type": "markdown",
            "source": "Average pick in the round\r\n\r\n-Mostly determined by pre-draft order, but could be affected by:\r\n\r\n-Trades\r\n\r\n-The  draft party mock draft game",
            "metadata": {}
        },
        {
            "cell_type": "code",
            "source": "select Current_owner, Avg_pick_in_draft_round = round(avg(pick_in_draft_round*1.),2) from CurrentRoster \r\nwhere rosteryear = 2018\r\ngroup by Current_Owner \r\norder by Avg_pick_in_draft_round;",
            "metadata": {},
            "outputs": [
                {
                    "output_type": "display_data",
                    "data": {
                        "text/html": "(8 rows affected)"
                    },
                    "metadata": {}
                },
                {
                    "output_type": "display_data",
                    "data": {
                        "text/html": "Total execution time: 00:00:00.0732824"
                    },
                    "metadata": {}
                },
                {
                    "output_type": "execute_result",
                    "metadata": {},
                    "execution_count": 7,
                    "data": {
                        "application/vnd.dataresource+json": {
                            "schema": {
                                "fields": [
                                    {
                                        "name": "Current_owner"
                                    },
                                    {
                                        "name": "Avg_pick_in_draft_round"
                                    }
                                ]
                            },
                            "data": [
                                {
                                    "0": "Jonathan",
                                    "1": "3.200000"
                                },
                                {
                                    "0": "Brian",
                                    "1": "3.440000"
                                },
                                {
                                    "0": "Ian",
                                    "1": "3.880000"
                                },
                                {
                                    "0": "William",
                                    "1": "4.160000"
                                },
                                {
                                    "0": "Todd",
                                    "1": "4.840000"
                                },
                                {
                                    "0": "Paul",
                                    "1": "4.960000"
                                },
                                {
                                    "0": "Adrian",
                                    "1": "5.040000"
                                },
                                {
                                    "0": "Christine",
                                    "1": "5.720000"
                                }
                            ]
                        },
                        "text/html": "<table><tr><th>Current_owner</th><th>Avg_pick_in_draft_round</th></tr><tr><td>Jonathan</td><td>3.200000</td></tr><tr><td>Brian</td><td>3.440000</td></tr><tr><td>Ian</td><td>3.880000</td></tr><tr><td>William</td><td>4.160000</td></tr><tr><td>Todd</td><td>4.840000</td></tr><tr><td>Paul</td><td>4.960000</td></tr><tr><td>Adrian</td><td>5.040000</td></tr><tr><td>Christine</td><td>5.720000</td></tr></table>"
                    }
                }
            ],
            "execution_count": 7
        },
        {
            "cell_type": "markdown",
            "source": "Average draft round by position drafted. Who drafts QB's high? \r\n\r\n-William drafts RB's high, not that it's done him any good. \r\n\r\n-Adrian drafts QB's the latest, and yet he's still stacked with QB's right now.\r\n\r\n-Todd drafts kickers slightly earlier than everyone else\r\n\r\n-Brian loves to take WR's early\r\n\r\n-Only includes the first 9 rounds",
            "metadata": {}
        },
        {
            "cell_type": "code",
            "source": "select TeamOwner, RB, TE, WR, QB, K from (\r\nselect t.TeamOwner, dr.position, Avg_draft_round = cast(round(avg(draft_round*1.),2)as decimal(9,2)) from draftresults  dr\r\ninner join team t on t.id = dr.TeamID \r\nwhere draft_round <= 9 \r\nand t.TeamOwner not in ('Michael','Patrick')\r\ngroup by t.TeamOwner, dr.Position\r\n) x \r\nPIVOT (AVG(Avg_draft_round) for Position in (RB, TE, WR, QB, K)) as pvt\r\nORDER BY RB;",
            "metadata": {},
            "outputs": [
                {
                    "output_type": "display_data",
                    "data": {
                        "text/html": "(10 rows affected)"
                    },
                    "metadata": {}
                },
                {
                    "output_type": "display_data",
                    "data": {
                        "text/html": "Total execution time: 00:00:00.0738784"
                    },
                    "metadata": {}
                },
                {
                    "output_type": "execute_result",
                    "metadata": {},
                    "execution_count": 8,
                    "data": {
                        "application/vnd.dataresource+json": {
                            "schema": {
                                "fields": [
                                    {
                                        "name": "TeamOwner"
                                    },
                                    {
                                        "name": "RB"
                                    },
                                    {
                                        "name": "TE"
                                    },
                                    {
                                        "name": "WR"
                                    },
                                    {
                                        "name": "QB"
                                    },
                                    {
                                        "name": "K"
                                    }
                                ]
                            },
                            "data": [
                                {
                                    "0": "William",
                                    "1": "2.720000",
                                    "2": "6.000000",
                                    "3": "4.380000",
                                    "4": "6.270000",
                                    "5": "7.140000"
                                },
                                {
                                    "0": "Paul",
                                    "1": "4.210000",
                                    "2": "6.000000",
                                    "3": "4.500000",
                                    "4": "5.000000",
                                    "5": "7.200000"
                                },
                                {
                                    "0": "Todd",
                                    "1": "4.260000",
                                    "2": "5.270000",
                                    "3": "4.330000",
                                    "4": "4.000000",
                                    "5": "6.000000"
                                },
                                {
                                    "0": "Michael",
                                    "1": "4.330000",
                                    "2": "4.000000",
                                    "3": "4.670000",
                                    "4": "6.000000",
                                    "5": "6.330000"
                                },
                                {
                                    "0": "Patrick",
                                    "1": "4.380000",
                                    "2": "7.000000",
                                    "3": "5.380000",
                                    "4": "2.500000",
                                    "5": "NULL"
                                },
                                {
                                    "0": "Jonathan",
                                    "1": "4.620000",
                                    "2": "4.830000",
                                    "3": "6.000000",
                                    "4": "4.670000",
                                    "5": "6.750000"
                                },
                                {
                                    "0": "Christine",
                                    "1": "4.650000",
                                    "2": "5.250000",
                                    "3": "5.000000",
                                    "4": "4.440000",
                                    "5": "7.200000"
                                },
                                {
                                    "0": "Ian",
                                    "1": "4.900000",
                                    "2": "4.440000",
                                    "3": "5.050000",
                                    "4": "4.330000",
                                    "5": "6.800000"
                                },
                                {
                                    "0": "Adrian",
                                    "1": "5.170000",
                                    "2": "3.670000",
                                    "3": "4.560000",
                                    "4": "6.500000",
                                    "5": "6.330000"
                                },
                                {
                                    "0": "Brian",
                                    "1": "5.710000",
                                    "2": "5.450000",
                                    "3": "3.590000",
                                    "4": "3.900000",
                                    "5": "7.500000"
                                }
                            ]
                        },
                        "text/html": "<table><tr><th>TeamOwner</th><th>RB</th><th>TE</th><th>WR</th><th>QB</th><th>K</th></tr><tr><td>William</td><td>2.720000</td><td>6.000000</td><td>4.380000</td><td>6.270000</td><td>7.140000</td></tr><tr><td>Paul</td><td>4.210000</td><td>6.000000</td><td>4.500000</td><td>5.000000</td><td>7.200000</td></tr><tr><td>Todd</td><td>4.260000</td><td>5.270000</td><td>4.330000</td><td>4.000000</td><td>6.000000</td></tr><tr><td>Michael</td><td>4.330000</td><td>4.000000</td><td>4.670000</td><td>6.000000</td><td>6.330000</td></tr><tr><td>Patrick</td><td>4.380000</td><td>7.000000</td><td>5.380000</td><td>2.500000</td><td>NULL</td></tr><tr><td>Jonathan</td><td>4.620000</td><td>4.830000</td><td>6.000000</td><td>4.670000</td><td>6.750000</td></tr><tr><td>Christine</td><td>4.650000</td><td>5.250000</td><td>5.000000</td><td>4.440000</td><td>7.200000</td></tr><tr><td>Ian</td><td>4.900000</td><td>4.440000</td><td>5.050000</td><td>4.330000</td><td>6.800000</td></tr><tr><td>Adrian</td><td>5.170000</td><td>3.670000</td><td>4.560000</td><td>6.500000</td><td>6.330000</td></tr><tr><td>Brian</td><td>5.710000</td><td>5.450000</td><td>3.590000</td><td>3.900000</td><td>7.500000</td></tr></table>"
                    }
                }
            ],
            "execution_count": 8
        },
        {
            "cell_type": "markdown",
            "source": "More on what positions people draft, and when.\r\n\r\n-William drafts RB's much higher than everyone else, consistently, and drafts QB's later than everyone else.\r\n\r\n-Brian drafts WR's a round higher than everyone else.\r\n\r\n-Todd drafts a TE in the 5th-6th rounds, consistently.\r\n\r\n-Christine is least predictable when it comes to drafting.",
            "metadata": {}
        },
        {
            "cell_type": "code",
            "source": "select t.TeamOwner, dr.position\r\n, Avg_draft_round = round(avg(draft_round*1.),2)\r\n, count_of_picks_of_this_position = count(dr.id) \r\n, STDEV_draft_round = cast(STDEV(draft_round*1.) as decimal(9,2)) \r\nfrom draftresults  dr\r\ninner join team t on t.id = dr.TeamID \r\nwhere draft_round <= 9 \r\nand t.TeamOwner not in ('Michael','Patrick')\r\nand position <>'K'\r\ngroup by t.TeamOwner, dr.Position\r\nhaving count(dr.id)  > 3 -- not enough sample size\r\nORDER BY Avg_Draft_round;",
            "metadata": {},
            "outputs": [
                {
                    "output_type": "display_data",
                    "data": {
                        "text/html": "(35 rows affected)"
                    },
                    "metadata": {}
                },
                {
                    "output_type": "display_data",
                    "data": {
                        "text/html": "Total execution time: 00:00:00.0711841"
                    },
                    "metadata": {}
                },
                {
                    "output_type": "execute_result",
                    "metadata": {},
                    "execution_count": 9,
                    "data": {
                        "application/vnd.dataresource+json": {
                            "schema": {
                                "fields": [
                                    {
                                        "name": "TeamOwner"
                                    },
                                    {
                                        "name": "position"
                                    },
                                    {
                                        "name": "Avg_draft_round"
                                    },
                                    {
                                        "name": "count_of_picks_of_this_position"
                                    },
                                    {
                                        "name": "STDEV_draft_round"
                                    }
                                ]
                            },
                            "data": [
                                {
                                    "0": "William",
                                    "1": "RB   ",
                                    "2": "2.720000",
                                    "3": "18",
                                    "4": "1.90"
                                },
                                {
                                    "0": "Brian",
                                    "1": "WR   ",
                                    "2": "3.590000",
                                    "3": "17",
                                    "4": "2.21"
                                },
                                {
                                    "0": "Brian",
                                    "1": "QB   ",
                                    "2": "3.900000",
                                    "3": "10",
                                    "4": "2.08"
                                },
                                {
                                    "0": "Todd",
                                    "1": "QB   ",
                                    "2": "4.000000",
                                    "3": "9",
                                    "4": "2.74"
                                },
                                {
                                    "0": "Michael",
                                    "1": "TE   ",
                                    "2": "4.000000",
                                    "3": "4",
                                    "4": "2.16"
                                },
                                {
                                    "0": "Paul",
                                    "1": "RB   ",
                                    "2": "4.210000",
                                    "3": "19",
                                    "4": "2.70"
                                },
                                {
                                    "0": "Todd",
                                    "1": "RB   ",
                                    "2": "4.260000",
                                    "3": "19",
                                    "4": "2.60"
                                },
                                {
                                    "0": "Michael",
                                    "1": "RB   ",
                                    "2": "4.330000",
                                    "3": "9",
                                    "4": "2.55"
                                },
                                {
                                    "0": "Ian",
                                    "1": "QB   ",
                                    "2": "4.330000",
                                    "3": "9",
                                    "4": "2.87"
                                },
                                {
                                    "0": "Todd",
                                    "1": "WR   ",
                                    "2": "4.330000",
                                    "3": "12",
                                    "4": "3.03"
                                },
                                {
                                    "0": "William",
                                    "1": "WR   ",
                                    "2": "4.380000",
                                    "3": "16",
                                    "4": "2.00"
                                },
                                {
                                    "0": "Patrick",
                                    "1": "RB   ",
                                    "2": "4.380000",
                                    "3": "13",
                                    "4": "2.66"
                                },
                                {
                                    "0": "Christine",
                                    "1": "QB   ",
                                    "2": "4.440000",
                                    "3": "9",
                                    "4": "2.70"
                                },
                                {
                                    "0": "Ian",
                                    "1": "TE   ",
                                    "2": "4.440000",
                                    "3": "9",
                                    "4": "2.13"
                                },
                                {
                                    "0": "Paul",
                                    "1": "WR   ",
                                    "2": "4.500000",
                                    "3": "20",
                                    "4": "2.69"
                                },
                                {
                                    "0": "Adrian",
                                    "1": "WR   ",
                                    "2": "4.560000",
                                    "3": "16",
                                    "4": "2.83"
                                },
                                {
                                    "0": "Jonathan",
                                    "1": "RB   ",
                                    "2": "4.620000",
                                    "3": "13",
                                    "4": "2.43"
                                },
                                {
                                    "0": "Christine",
                                    "1": "RB   ",
                                    "2": "4.650000",
                                    "3": "17",
                                    "4": "3.06"
                                },
                                {
                                    "0": "Michael",
                                    "1": "WR   ",
                                    "2": "4.670000",
                                    "3": "6",
                                    "4": "2.42"
                                },
                                {
                                    "0": "Jonathan",
                                    "1": "TE   ",
                                    "2": "4.830000",
                                    "3": "6",
                                    "4": "2.93"
                                },
                                {
                                    "0": "Ian",
                                    "1": "RB   ",
                                    "2": "4.900000",
                                    "3": "21",
                                    "4": "2.79"
                                },
                                {
                                    "0": "Paul",
                                    "1": "QB   ",
                                    "2": "5.000000",
                                    "3": "8",
                                    "4": "2.33"
                                },
                                {
                                    "0": "Christine",
                                    "1": "WR   ",
                                    "2": "5.000000",
                                    "3": "23",
                                    "4": "2.49"
                                },
                                {
                                    "0": "Ian",
                                    "1": "WR   ",
                                    "2": "5.050000",
                                    "3": "20",
                                    "4": "2.35"
                                },
                                {
                                    "0": "Adrian",
                                    "1": "RB   ",
                                    "2": "5.170000",
                                    "3": "12",
                                    "4": "2.86"
                                },
                                {
                                    "0": "Christine",
                                    "1": "TE   ",
                                    "2": "5.250000",
                                    "3": "8",
                                    "4": "2.25"
                                },
                                {
                                    "0": "Todd",
                                    "1": "TE   ",
                                    "2": "5.270000",
                                    "3": "11",
                                    "4": "2.20"
                                },
                                {
                                    "0": "Patrick",
                                    "1": "WR   ",
                                    "2": "5.380000",
                                    "3": "8",
                                    "4": "2.26"
                                },
                                {
                                    "0": "Brian",
                                    "1": "TE   ",
                                    "2": "5.450000",
                                    "3": "11",
                                    "4": "2.38"
                                },
                                {
                                    "0": "Brian",
                                    "1": "RB   ",
                                    "2": "5.710000",
                                    "3": "14",
                                    "4": "2.76"
                                },
                                {
                                    "0": "Michael",
                                    "1": "QB   ",
                                    "2": "6.000000",
                                    "3": "4",
                                    "4": "3.56"
                                },
                                {
                                    "0": "William",
                                    "1": "TE   ",
                                    "2": "6.000000",
                                    "3": "10",
                                    "4": "2.45"
                                },
                                {
                                    "0": "Paul",
                                    "1": "TE   ",
                                    "2": "6.000000",
                                    "3": "10",
                                    "4": "2.26"
                                },
                                {
                                    "0": "Jonathan",
                                    "1": "WR   ",
                                    "2": "6.000000",
                                    "3": "10",
                                    "4": "3.06"
                                },
                                {
                                    "0": "William",
                                    "1": "QB   ",
                                    "2": "6.270000",
                                    "3": "11",
                                    "4": "2.28"
                                }
                            ]
                        },
                        "text/html": "<table><tr><th>TeamOwner</th><th>position</th><th>Avg_draft_round</th><th>count_of_picks_of_this_position</th><th>STDEV_draft_round</th></tr><tr><td>William</td><td>RB   </td><td>2.720000</td><td>18</td><td>1.90</td></tr><tr><td>Brian</td><td>WR   </td><td>3.590000</td><td>17</td><td>2.21</td></tr><tr><td>Brian</td><td>QB   </td><td>3.900000</td><td>10</td><td>2.08</td></tr><tr><td>Todd</td><td>QB   </td><td>4.000000</td><td>9</td><td>2.74</td></tr><tr><td>Michael</td><td>TE   </td><td>4.000000</td><td>4</td><td>2.16</td></tr><tr><td>Paul</td><td>RB   </td><td>4.210000</td><td>19</td><td>2.70</td></tr><tr><td>Todd</td><td>RB   </td><td>4.260000</td><td>19</td><td>2.60</td></tr><tr><td>Michael</td><td>RB   </td><td>4.330000</td><td>9</td><td>2.55</td></tr><tr><td>Ian</td><td>QB   </td><td>4.330000</td><td>9</td><td>2.87</td></tr><tr><td>Todd</td><td>WR   </td><td>4.330000</td><td>12</td><td>3.03</td></tr><tr><td>William</td><td>WR   </td><td>4.380000</td><td>16</td><td>2.00</td></tr><tr><td>Patrick</td><td>RB   </td><td>4.380000</td><td>13</td><td>2.66</td></tr><tr><td>Christine</td><td>QB   </td><td>4.440000</td><td>9</td><td>2.70</td></tr><tr><td>Ian</td><td>TE   </td><td>4.440000</td><td>9</td><td>2.13</td></tr><tr><td>Paul</td><td>WR   </td><td>4.500000</td><td>20</td><td>2.69</td></tr><tr><td>Adrian</td><td>WR   </td><td>4.560000</td><td>16</td><td>2.83</td></tr><tr><td>Jonathan</td><td>RB   </td><td>4.620000</td><td>13</td><td>2.43</td></tr><tr><td>Christine</td><td>RB   </td><td>4.650000</td><td>17</td><td>3.06</td></tr><tr><td>Michael</td><td>WR   </td><td>4.670000</td><td>6</td><td>2.42</td></tr><tr><td>Jonathan</td><td>TE   </td><td>4.830000</td><td>6</td><td>2.93</td></tr><tr><td>Ian</td><td>RB   </td><td>4.900000</td><td>21</td><td>2.79</td></tr><tr><td>Paul</td><td>QB   </td><td>5.000000</td><td>8</td><td>2.33</td></tr><tr><td>Christine</td><td>WR   </td><td>5.000000</td><td>23</td><td>2.49</td></tr><tr><td>Ian</td><td>WR   </td><td>5.050000</td><td>20</td><td>2.35</td></tr><tr><td>Adrian</td><td>RB   </td><td>5.170000</td><td>12</td><td>2.86</td></tr><tr><td>Christine</td><td>TE   </td><td>5.250000</td><td>8</td><td>2.25</td></tr><tr><td>Todd</td><td>TE   </td><td>5.270000</td><td>11</td><td>2.20</td></tr><tr><td>Patrick</td><td>WR   </td><td>5.380000</td><td>8</td><td>2.26</td></tr><tr><td>Brian</td><td>TE   </td><td>5.450000</td><td>11</td><td>2.38</td></tr><tr><td>Brian</td><td>RB   </td><td>5.710000</td><td>14</td><td>2.76</td></tr><tr><td>Michael</td><td>QB   </td><td>6.000000</td><td>4</td><td>3.56</td></tr><tr><td>William</td><td>TE   </td><td>6.000000</td><td>10</td><td>2.45</td></tr><tr><td>Paul</td><td>TE   </td><td>6.000000</td><td>10</td><td>2.26</td></tr><tr><td>Jonathan</td><td>WR   </td><td>6.000000</td><td>10</td><td>3.06</td></tr><tr><td>William</td><td>QB   </td><td>6.270000</td><td>11</td><td>2.28</td></tr></table>"
                    }
                }
            ],
            "execution_count": 9
        },
        {
            "cell_type": "markdown",
            "source": "Number of players at each position drafted + average number of that position picked per draft\r\n\r\n-Not everyone has participated in the same number of drafts. Jon and Adrian have only been in the league 4 seasons, not all 7.\r\n\r\n-Christine has drafted more WR's than anyone, but Adrian is catching up, drafting an avg of 4 per year.\r\n\r\n-William  has drafted the most QB's, a lot of good it's done.\r\n\r\n-Brian has drafted the most kickers\r\n\r\n-Todd is super skeptical of WR's, drafting less than 2 per draft, far fewer than everyone else.",
            "metadata": {}
        },
        {
            "cell_type": "code",
            "source": "WITH cteCount (TeamOwner, position, count_of_picks_of_this_position, count_of_drafts) as (\r\n select t.TeamOwner, dr.position\r\n, count_of_picks_of_this_position = count(dr.id)  \r\n, count_of_drafts = count(distinct dr.draftyear)   \r\nfrom draftresults  dr\r\ninner join team t on t.id = dr.TeamID \r\nwhere draft_round <= 9 \r\nand t.TeamOwner not in ('Michael','Patrick')\r\ngroup by t.TeamOwner, dr.position\r\n) \r\nSELECT TeamOwner, WR, RB, QB, TE, K FROM (\r\nselect teamowner, position\r\n,  Count_of_picks_Avg_per_draft = cast(count_of_picks_of_this_position  as varchar(4)) + ' ' +  cast(cast(count_of_picks_of_this_position*1./ MAX(count_of_drafts*1.) OVER (PARTITION BY TeamOwner) as decimal(9,2)) as varchar(6))\r\nfrom cteCount \r\n) x\r\nPIVOT ( MAX(Count_of_picks_Avg_per_draft) FOR Position IN (WR, RB, QB, TE, K)) AS pvt\r\nORDER BY WR desc;",
            "metadata": {},
            "outputs": [
                {
                    "output_type": "display_data",
                    "data": {
                        "text/html": "(8 rows affected)"
                    },
                    "metadata": {}
                },
                {
                    "output_type": "display_data",
                    "data": {
                        "text/html": "Total execution time: 00:00:00.0588292"
                    },
                    "metadata": {}
                },
                {
                    "output_type": "execute_result",
                    "metadata": {},
                    "execution_count": 13,
                    "data": {
                        "application/vnd.dataresource+json": {
                            "schema": {
                                "fields": [
                                    {
                                        "name": "TeamOwner"
                                    },
                                    {
                                        "name": "WR"
                                    },
                                    {
                                        "name": "RB"
                                    },
                                    {
                                        "name": "QB"
                                    },
                                    {
                                        "name": "TE"
                                    },
                                    {
                                        "name": "K"
                                    }
                                ]
                            },
                            "data": [
                                {
                                    "0": "Christine",
                                    "1": "23 3.29",
                                    "2": "17 2.43",
                                    "3": "9 1.29",
                                    "4": "8 1.14",
                                    "5": "5 0.71"
                                },
                                {
                                    "0": "Ian",
                                    "1": "20 2.86",
                                    "2": "21 3.00",
                                    "3": "9 1.29",
                                    "4": "9 1.29",
                                    "5": "5 0.71"
                                },
                                {
                                    "0": "Paul",
                                    "1": "20 2.86",
                                    "2": "19 2.71",
                                    "3": "8 1.14",
                                    "4": "10 1.43",
                                    "5": "5 0.71"
                                },
                                {
                                    "0": "Brian",
                                    "1": "17 2.43",
                                    "2": "14 2.00",
                                    "3": "10 1.43",
                                    "4": "11 1.57",
                                    "5": "10 1.43"
                                },
                                {
                                    "0": "Adrian",
                                    "1": "16 4.00",
                                    "2": "12 3.00",
                                    "3": "2 0.50",
                                    "4": "3 0.75",
                                    "5": "3 0.75"
                                },
                                {
                                    "0": "William",
                                    "1": "16 2.29",
                                    "2": "18 2.57",
                                    "3": "11 1.57",
                                    "4": "10 1.43",
                                    "5": "7 1.00"
                                },
                                {
                                    "0": "Todd",
                                    "1": "12 1.71",
                                    "2": "19 2.71",
                                    "3": "9 1.29",
                                    "4": "11 1.57",
                                    "5": "9 1.29"
                                },
                                {
                                    "0": "Jonathan",
                                    "1": "10 2.50",
                                    "2": "13 3.25",
                                    "3": "3 0.75",
                                    "4": "6 1.50",
                                    "5": "4 1.00"
                                }
                            ]
                        },
                        "text/html": "<table><tr><th>TeamOwner</th><th>WR</th><th>RB</th><th>QB</th><th>TE</th><th>K</th></tr><tr><td>Christine</td><td>23 3.29</td><td>17 2.43</td><td>9 1.29</td><td>8 1.14</td><td>5 0.71</td></tr><tr><td>Ian</td><td>20 2.86</td><td>21 3.00</td><td>9 1.29</td><td>9 1.29</td><td>5 0.71</td></tr><tr><td>Paul</td><td>20 2.86</td><td>19 2.71</td><td>8 1.14</td><td>10 1.43</td><td>5 0.71</td></tr><tr><td>Brian</td><td>17 2.43</td><td>14 2.00</td><td>10 1.43</td><td>11 1.57</td><td>10 1.43</td></tr><tr><td>Adrian</td><td>16 4.00</td><td>12 3.00</td><td>2 0.50</td><td>3 0.75</td><td>3 0.75</td></tr><tr><td>William</td><td>16 2.29</td><td>18 2.57</td><td>11 1.57</td><td>10 1.43</td><td>7 1.00</td></tr><tr><td>Todd</td><td>12 1.71</td><td>19 2.71</td><td>9 1.29</td><td>11 1.57</td><td>9 1.29</td></tr><tr><td>Jonathan</td><td>10 2.50</td><td>13 3.25</td><td>3 0.75</td><td>6 1.50</td><td>4 1.00</td></tr></table>"
                    }
                }
            ],
            "execution_count": 13
        }
    ]
}